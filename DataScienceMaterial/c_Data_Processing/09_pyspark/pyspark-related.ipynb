{
 "cells": [
  {
   "cell_type": "code",
   "execution_count": null,
   "id": "85692950",
   "metadata": {},
   "outputs": [],
   "source": []
  }
 ],
 "metadata": {
  "kernelspec": {
   "display_name": "Python 3.8.2 64-bit",
   "language": "python",
   "name": "python38264bit9d9bc96b9f9b47279ec6d81cef01a82e"
  }
 },
 "nbformat": 4,
 "nbformat_minor": 5
}
