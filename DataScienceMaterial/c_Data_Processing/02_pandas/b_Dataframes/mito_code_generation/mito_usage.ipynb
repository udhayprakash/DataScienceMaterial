{
 "cells": [
  {
   "cell_type": "code",
   "execution_count": 1,
   "id": "414d3c0f",
   "metadata": {},
   "outputs": [
    {
     "name": "stdout",
     "output_type": "stream",
     "text": [
      "Using version ^0.0.203 for mitoinstaller\n",
      "\n",
      "Updating dependencies\n",
      "Resolving dependencies...\n"
     ]
    },
    {
     "name": "stderr",
     "output_type": "stream",
     "text": [
      "\n",
      "The dependency name for whisper does not match the actual package's name: openai-whisper\n"
     ]
    }
   ],
   "source": [
    "! poetry add mitoinstaller"
   ]
  },
  {
   "cell_type": "code",
   "execution_count": 2,
   "id": "c2b054bc",
   "metadata": {},
   "outputs": [
    {
     "name": "stdout",
     "output_type": "stream",
     "text": [
      "Requirement already satisfied: setuptools in c:\\users\\amma\\appdata\\local\\pypoetry\\cache\\virtualenvs\\datasciencematerial-mimmxs0w-py3.11\\lib\\site-packages (65.5.0)\n",
      "Collecting setuptools\n",
      "  Using cached setuptools-67.6.1-py3-none-any.whl (1.1 MB)\n",
      "Installing collected packages: setuptools\n",
      "  Attempting uninstall: setuptools\n",
      "    Found existing installation: setuptools 65.5.0\n",
      "    Uninstalling setuptools-65.5.0:\n",
      "      Successfully uninstalled setuptools-65.5.0\n",
      "Successfully installed setuptools-67.6.1\n"
     ]
    },
    {
     "name": "stderr",
     "output_type": "stream",
     "text": [
      "\n",
      "[notice] A new release of pip available: 22.3.1 -> 23.0.1\n",
      "[notice] To update, run: python.exe -m pip install --upgrade pip\n"
     ]
    }
   ],
   "source": [
    "! pip install -U setuptools"
   ]
  },
  {
   "cell_type": "code",
   "execution_count": null,
   "id": "fd788c9d",
   "metadata": {},
   "outputs": [],
   "source": []
  }
 ],
 "metadata": {
  "kernelspec": {
   "display_name": "Python 3 (ipykernel)",
   "language": "python",
   "name": "python3"
  },
  "language_info": {
   "codemirror_mode": {
    "name": "ipython",
    "version": 3
   },
   "file_extension": ".py",
   "mimetype": "text/x-python",
   "name": "python",
   "nbconvert_exporter": "python",
   "pygments_lexer": "ipython3",
   "version": "3.11.2"
  }
 },
 "nbformat": 4,
 "nbformat_minor": 5
}
