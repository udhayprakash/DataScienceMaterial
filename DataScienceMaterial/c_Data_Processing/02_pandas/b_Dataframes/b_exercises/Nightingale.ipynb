{
 "cells": [
  {
   "cell_type": "code",
   "execution_count": 2,
   "id": "90b339a3",
   "metadata": {},
   "outputs": [
    {
     "name": "stdout",
     "output_type": "stream",
     "text": [
      "Using version ^2.3.1 for watermark\n",
      "\n",
      "Updating dependencies\n",
      "Resolving dependencies...\n",
      "\n",
      "Writing lock file\n",
      "\n",
      "Package operations: 13 installs, 7 updates, 0 removals\n",
      "\n",
      "  • Updating certifi (2022.9.24 -> 2022.12.7)\n",
      "  • Updating charset-normalizer (2.1.1 -> 3.1.0)\n",
      "  • Updating urllib3 (1.26.12 -> 1.26.15)\n",
      "  • Updating filelock (3.8.0 -> 3.10.7)\n",
      "  • Installing mpmath (1.3.0)\n",
      "  • Updating requests (2.28.1 -> 2.28.2)\n",
      "  • Installing pyyaml (6.0)\n",
      "  • Installing tqdm (4.65.0)\n",
      "  • Installing future (0.18.3)\n",
      "  • Installing huggingface-hub (0.13.3)\n",
      "  • Installing regex (2023.3.23)\n",
      "  • Installing networkx (3.1)\n",
      "  • Installing sympy (1.11.1)\n",
      "  • Installing tokenizers (0.13.3)\n",
      "  • Installing ffmpeg-python (0.2.0)\n",
      "  • Updating more-itertools (9.0.0 -> 9.1.0)\n",
      "  • Installing transformers (4.27.4)\n",
      "  • Installing torch (2.0.0)\n",
      "  • Installing watermark (2.3.1)\n",
      "  • Updating whisper (1.0 9f70a35 -> 1.0 b5851c6)\n"
     ]
    }
   ],
   "source": [
    "!poetry add watermark"
   ]
  },
  {
   "cell_type": "code",
   "execution_count": 1,
   "id": "c13f3c2b",
   "metadata": {},
   "outputs": [
    {
     "ename": "ModuleNotFoundError",
     "evalue": "No module named 'watermark'",
     "output_type": "error",
     "traceback": [
      "\u001b[1;31m---------------------------------------------------------------------------\u001b[0m",
      "\u001b[1;31mModuleNotFoundError\u001b[0m                       Traceback (most recent call last)",
      "Cell \u001b[1;32mIn [1], line 10\u001b[0m\n\u001b[0;32m      7\u001b[0m \u001b[38;5;28;01mfrom\u001b[39;00m \u001b[38;5;21;01mmatplotlib\u001b[39;00m\u001b[38;5;21;01m.\u001b[39;00m\u001b[38;5;21;01mcollections\u001b[39;00m \u001b[38;5;28;01mimport\u001b[39;00m PatchCollection\n\u001b[0;32m      8\u001b[0m \u001b[38;5;28;01mimport\u001b[39;00m \u001b[38;5;21;01mmatplotlib\u001b[39;00m\u001b[38;5;21;01m.\u001b[39;00m\u001b[38;5;21;01mfont_manager\u001b[39;00m \u001b[38;5;28;01mas\u001b[39;00m \u001b[38;5;21;01mfont_manager\u001b[39;00m\n\u001b[1;32m---> 10\u001b[0m \u001b[38;5;28;01mimport\u001b[39;00m \u001b[38;5;21;01mwatermark\u001b[39;00m\n\u001b[0;32m     12\u001b[0m get_ipython()\u001b[38;5;241m.\u001b[39mrun_line_magic(\u001b[38;5;124m'\u001b[39m\u001b[38;5;124mload_ext\u001b[39m\u001b[38;5;124m'\u001b[39m, \u001b[38;5;124m'\u001b[39m\u001b[38;5;124mwatermark\u001b[39m\u001b[38;5;124m'\u001b[39m)\n\u001b[0;32m     13\u001b[0m get_ipython()\u001b[38;5;241m.\u001b[39mrun_line_magic(\u001b[38;5;124m'\u001b[39m\u001b[38;5;124mmatplotlib\u001b[39m\u001b[38;5;124m'\u001b[39m, \u001b[38;5;124m'\u001b[39m\u001b[38;5;124minline\u001b[39m\u001b[38;5;124m'\u001b[39m)\n",
      "\u001b[1;31mModuleNotFoundError\u001b[0m: No module named 'watermark'"
     ]
    }
   ],
   "source": [
    "import pandas as pd\n",
    "import numpy as np\n",
    "\n",
    "import matplotlib\n",
    "import matplotlib.pyplot as plt\n",
    "from matplotlib.patches import Wedge, Patch\n",
    "from matplotlib.collections import PatchCollection\n",
    "import matplotlib.font_manager as font_manager\n",
    "\n",
    "import watermark\n",
    "\n",
    "%load_ext watermark\n",
    "%matplotlib inline"
   ]
  },
  {
   "cell_type": "code",
   "execution_count": null,
   "id": "024a0bd5",
   "metadata": {},
   "outputs": [],
   "source": [
    "%watermark -n -v -m -g -iv"
   ]
  },
  {
   "cell_type": "markdown",
   "id": "71e59443",
   "metadata": {},
   "source": [
    "## Load the dataset\n"
   ]
  },
  {
   "cell_type": "code",
   "execution_count": null,
   "id": "8a2e569b",
   "metadata": {},
   "outputs": [],
   "source": [
    "data = pd.read_excel(\n",
    "    \"https://github.com/DataForScience/Viz4Sci/raw/master/data/Nightingale.xlsx\"\n",
    ")"
   ]
  },
  {
   "cell_type": "code",
   "execution_count": null,
   "id": "5b4362a8",
   "metadata": {},
   "outputs": [],
   "source": [
    "data.describe()"
   ]
  },
  {
   "cell_type": "code",
   "execution_count": null,
   "id": "5824c513",
   "metadata": {},
   "outputs": [],
   "source": [
    "data.info()"
   ]
  },
  {
   "cell_type": "code",
   "execution_count": null,
   "id": "8e4403c4",
   "metadata": {},
   "outputs": [],
   "source": [
    "data.head()"
   ]
  },
  {
   "cell_type": "markdown",
   "id": "ed39ac24",
   "metadata": {},
   "source": [
    "Combine month and year into a single column\n",
    "\n"
   ]
  },
  {
   "cell_type": "code",
   "execution_count": null,
   "id": "926f3f77",
   "metadata": {},
   "outputs": [],
   "source": [
    "data[\"date\"] = data[[\"Month\", \"Year\"]].apply(\n",
    "    lambda x: x[\"Month\"] + \" \" + str(x[\"Year\"]), axis=1\n",
    ")"
   ]
  },
  {
   "cell_type": "code",
   "execution_count": null,
   "id": "f92bbd9a",
   "metadata": {},
   "outputs": [],
   "source": [
    "del data[\"Month\"]"
   ]
  },
  {
   "cell_type": "code",
   "execution_count": null,
   "id": "9305b0fe",
   "metadata": {},
   "outputs": [],
   "source": [
    "del data[\"Year\"]"
   ]
  },
  {
   "cell_type": "markdown",
   "id": "0144578c",
   "metadata": {},
   "source": [
    "Pivot data into a table with each cause of death as a column. We're keeping only the mortality rate."
   ]
  },
  {
   "cell_type": "code",
   "execution_count": null,
   "id": "27afe479",
   "metadata": {},
   "outputs": [],
   "source": [
    "infectious = pd.pivot_table(\n",
    "    data,\n",
    "    index=\"date\",\n",
    "    columns=\"Cause of Death\",\n",
    "    values=\"Annual Mortality Rate (per 1000 soldiers)\",\n",
    "    aggfunc=\"sum\",\n",
    ")"
   ]
  },
  {
   "cell_type": "code",
   "execution_count": null,
   "id": "112f1e90",
   "metadata": {},
   "outputs": [],
   "source": [
    "infectious"
   ]
  },
  {
   "cell_type": "markdown",
   "id": "b178f331",
   "metadata": {},
   "source": [
    "Put the columns in the right order"
   ]
  },
  {
   "cell_type": "code",
   "execution_count": null,
   "id": "7add4894",
   "metadata": {},
   "outputs": [],
   "source": [
    "infectious = infectious[\n",
    "    [\n",
    "        \"Wounds and Injuries\",\n",
    "        \"All Other Causes\",\n",
    "        \"Infectious Disease\",\n",
    "    ]\n",
    "]"
   ]
  },
  {
   "cell_type": "markdown",
   "id": "4fcb5fec",
   "metadata": {},
   "source": [
    "Normalize values"
   ]
  },
  {
   "cell_type": "code",
   "execution_count": null,
   "id": "df6d1785",
   "metadata": {},
   "outputs": [],
   "source": [
    "infectious = (infectious**2).cumsum(axis=1)\n",
    "infectious /= infectious.max().max()\n",
    "infectious = np.sqrt(infectious)"
   ]
  },
  {
   "cell_type": "markdown",
   "id": "635ec58b",
   "metadata": {},
   "source": [
    "Subset and order the rows"
   ]
  },
  {
   "cell_type": "code",
   "execution_count": null,
   "id": "b449b161",
   "metadata": {},
   "outputs": [],
   "source": [
    "order = [\n",
    "    \"April 1854\",\n",
    "    \"May 1854\",\n",
    "    \"June 1854\",\n",
    "    \"July 1854\",\n",
    "    \"August 1854\",\n",
    "    \"September 1854\",\n",
    "    \"October 1854\",\n",
    "    \"November 1854\",\n",
    "    \"December 1854\",\n",
    "    \"January 1855\",\n",
    "    \"February 1855\",\n",
    "    \"March 1855\",\n",
    "]\n",
    "\n",
    "infectious = infectious.loc[order].reset_index()\n",
    "infectious = infectious[::-1]"
   ]
  },
  {
   "cell_type": "markdown",
   "id": "fd2e9cea",
   "metadata": {},
   "source": [
    "Color list"
   ]
  },
  {
   "cell_type": "code",
   "execution_count": null,
   "id": "3f6b2fe4",
   "metadata": {},
   "outputs": [],
   "source": [
    "colors = [\n",
    "    \"#51a7f9\",\n",
    "    \"black\",\n",
    "    \"#f9517b\",\n",
    "]"
   ]
  },
  {
   "cell_type": "markdown",
   "id": "b33574f7",
   "metadata": {},
   "source": [
    "Generate the figure"
   ]
  },
  {
   "cell_type": "code",
   "execution_count": null,
   "id": "86a6aa64",
   "metadata": {},
   "outputs": [],
   "source": [
    "fig, ax = plt.subplots(1, figsize=(10, 10))\n",
    "ax.set_aspect(1.0)\n",
    "\n",
    "patches = []\n",
    "color = []\n",
    "total = 90  # First wedge starts off at 90'\n",
    "angle = 30  # Each wedge covers 30'\n",
    "\n",
    "for i in range(infectious.shape[0])[::1]:\n",
    "    for j, col in enumerate(\n",
    "        [\n",
    "            \"Infectious Disease\",\n",
    "            \"All Other Causes\",\n",
    "            \"Wounds and Injuries\",\n",
    "        ]\n",
    "    ):\n",
    "        value = infectious[col].iloc[i]\n",
    "        patches.append(Wedge((0, 0), np.sqrt(value), total, total + angle))\n",
    "        color.append(colors[j])\n",
    "\n",
    "    length = np.max([np.sqrt(infectious.iloc[i, 1:4].max()) + 0.02, 0.4])\n",
    "    x = length * np.cos((total + angle / 2) * np.pi / 180)\n",
    "    y = length * np.sin((total + angle / 2) * np.pi / 180)\n",
    "\n",
    "    label = infectious[\"date\"].iloc[i]\n",
    "\n",
    "    if label[:3] not in [\"Mar\", \"Jan\", \"Apr\"]:\n",
    "        label = label.split()[0]\n",
    "    elif label[:3] == \"Apr\":\n",
    "        label = \"\\n\".join(label.split())\n",
    "\n",
    "    ax.text(\n",
    "        x,\n",
    "        y,\n",
    "        label.upper(),\n",
    "        rotation=(total + angle / 2 - 90),\n",
    "        ha=\"center\",\n",
    "        va=\"center\",\n",
    "        fontsize=12,\n",
    "    )\n",
    "\n",
    "    total += angle\n",
    "\n",
    "p = PatchCollection(patches, color=color, alpha=0.5)\n",
    "ax.add_collection(p)\n",
    "ax.set_xlim(-1.2, 1.2)\n",
    "ax.set_ylim(-1.2, 1.2)\n",
    "\n",
    "patches = []\n",
    "legend = [\n",
    "    \"deaths from preventable diseases\",\n",
    "    \"deaths from wounds\",\n",
    "    \"deaths from all other sources\",\n",
    "]\n",
    "\n",
    "# you'll need to change the font location\n",
    "font = font_manager.FontProperties(\n",
    "    fname=\"Lucida Calligraphy Italic.ttf\", weight=\"normal\", style=\"italic\", size=16\n",
    ")\n",
    "\n",
    "for i, leg in enumerate(legend):\n",
    "    patches.append(Patch(color=colors[i], label=leg, alpha=0.5))\n",
    "\n",
    "ax.legend(handles=patches, loc=(0.5, 0.7), fancybox=False, frameon=False, prop=font)\n",
    "\n",
    "ax.axis(\"off\")\n",
    "fig.tight_layout()"
   ]
  }
 ],
 "metadata": {
  "kernelspec": {
   "display_name": "Python 3 (ipykernel)",
   "language": "python",
   "name": "python3"
  },
  "language_info": {
   "codemirror_mode": {
    "name": "ipython",
    "version": 3
   },
   "file_extension": ".py",
   "mimetype": "text/x-python",
   "name": "python",
   "nbconvert_exporter": "python",
   "pygments_lexer": "ipython3",
   "version": "3.11.2"
  }
 },
 "nbformat": 4,
 "nbformat_minor": 5
}
