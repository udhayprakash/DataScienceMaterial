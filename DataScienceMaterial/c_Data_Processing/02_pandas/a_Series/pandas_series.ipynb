{
 "nbformat": 4,
 "nbformat_minor": 0,
 "metadata": {
  "colab": {
   "provenance": []
  },
  "kernelspec": {
   "name": "python3",
   "display_name": "Python 3"
  },
  "language_info": {
   "name": "python"
  }
 },
 "cells": [
  {
   "cell_type": "code",
   "execution_count": 2,
   "metadata": {
    "id": "GiPv5QyvdSZX"
   },
   "outputs": [],
   "source": [
    "import pandas as pd\n",
    "import numpy as np"
   ]
  },
  {
   "cell_type": "code",
   "source": [
    "!which python"
   ],
   "metadata": {
    "colab": {
     "base_uri": "https://localhost:8080/"
    },
    "id": "fO-P31oRdyPZ",
    "outputId": "3ec9f9ab-4c5c-41c2-ae73-d84a4880523a"
   },
   "execution_count": 3,
   "outputs": [
    {
     "output_type": "stream",
     "name": "stdout",
     "text": [
      "/usr/local/bin/python\n"
     ]
    }
   ]
  },
  {
   "cell_type": "code",
   "source": [
    "pd.__version__"
   ],
   "metadata": {
    "colab": {
     "base_uri": "https://localhost:8080/",
     "height": 36
    },
    "id": "QLviyhHBd4LL",
    "outputId": "89f8e19d-6833-4696-fc01-6fdfa06d588f"
   },
   "execution_count": 4,
   "outputs": [
    {
     "output_type": "execute_result",
     "data": {
      "text/plain": [
       "'1.4.4'"
      ],
      "application/vnd.google.colaboratory.intrinsic+json": {
       "type": "string"
      }
     },
     "metadata": {},
     "execution_count": 4
    }
   ]
  },
  {
   "cell_type": "code",
   "source": [
    "print(dir(pd))"
   ],
   "metadata": {
    "colab": {
     "base_uri": "https://localhost:8080/"
    },
    "id": "q8LNX2efeAI2",
    "outputId": "2d0ffcc9-c6e0-486c-9da1-69cfd20a8d10"
   },
   "execution_count": 5,
   "outputs": [
    {
     "output_type": "stream",
     "name": "stdout",
     "text": [
      "['BooleanDtype', 'Categorical', 'CategoricalDtype', 'CategoricalIndex', 'DataFrame', 'DateOffset', 'DatetimeIndex', 'DatetimeTZDtype', 'ExcelFile', 'ExcelWriter', 'Flags', 'Float32Dtype', 'Float64Dtype', 'Float64Index', 'Grouper', 'HDFStore', 'Index', 'IndexSlice', 'Int16Dtype', 'Int32Dtype', 'Int64Dtype', 'Int64Index', 'Int8Dtype', 'Interval', 'IntervalDtype', 'IntervalIndex', 'MultiIndex', 'NA', 'NaT', 'NamedAgg', 'Period', 'PeriodDtype', 'PeriodIndex', 'RangeIndex', 'Series', 'SparseDtype', 'StringDtype', 'Timedelta', 'TimedeltaIndex', 'Timestamp', 'UInt16Dtype', 'UInt32Dtype', 'UInt64Dtype', 'UInt64Index', 'UInt8Dtype', '__all__', '__builtins__', '__cached__', '__deprecated_num_index_names', '__dir__', '__doc__', '__docformat__', '__file__', '__getattr__', '__git_version__', '__loader__', '__name__', '__package__', '__path__', '__spec__', '__version__', '_config', '_is_numpy_dev', '_libs', '_testing', '_typing', '_version', 'api', 'array', 'arrays', 'bdate_range', 'compat', 'concat', 'core', 'crosstab', 'cut', 'date_range', 'describe_option', 'errors', 'eval', 'factorize', 'get_dummies', 'get_option', 'infer_freq', 'interval_range', 'io', 'isna', 'isnull', 'json_normalize', 'lreshape', 'melt', 'merge', 'merge_asof', 'merge_ordered', 'notna', 'notnull', 'offsets', 'option_context', 'options', 'pandas', 'period_range', 'pivot', 'pivot_table', 'plotting', 'qcut', 'read_clipboard', 'read_csv', 'read_excel', 'read_feather', 'read_fwf', 'read_gbq', 'read_hdf', 'read_html', 'read_json', 'read_orc', 'read_parquet', 'read_pickle', 'read_sas', 'read_spss', 'read_sql', 'read_sql_query', 'read_sql_table', 'read_stata', 'read_table', 'read_xml', 'reset_option', 'set_eng_float_format', 'set_option', 'show_versions', 'test', 'testing', 'timedelta_range', 'to_datetime', 'to_numeric', 'to_pickle', 'to_timedelta', 'tseries', 'unique', 'util', 'value_counts', 'wide_to_long']\n"
     ]
    }
   ]
  },
  {
   "cell_type": "code",
   "source": [
    "pd.show_versions()"
   ],
   "metadata": {
    "colab": {
     "base_uri": "https://localhost:8080/"
    },
    "id": "uwFZs3zxePrV",
    "outputId": "9f3e7b8f-21ee-4f4b-df5c-3a47b7732fa2"
   },
   "execution_count": 6,
   "outputs": [
    {
     "output_type": "stream",
     "name": "stdout",
     "text": [
      "\n",
      "INSTALLED VERSIONS\n",
      "------------------\n",
      "commit           : ca60aab7340d9989d9428e11a51467658190bb6b\n",
      "python           : 3.9.16.final.0\n",
      "python-bits      : 64\n",
      "OS               : Linux\n",
      "OS-release       : 5.10.147+\n",
      "Version          : #1 SMP Sat Dec 10 16:00:40 UTC 2022\n",
      "machine          : x86_64\n",
      "processor        : x86_64\n",
      "byteorder        : little\n",
      "LC_ALL           : None\n",
      "LANG             : en_US.UTF-8\n",
      "LOCALE           : en_US.UTF-8\n",
      "\n",
      "pandas           : 1.4.4\n",
      "numpy            : 1.22.4\n",
      "pytz             : 2022.7.1\n",
      "dateutil         : 2.8.2\n",
      "setuptools       : 67.6.1\n",
      "pip              : 22.0.4\n",
      "Cython           : 0.29.33\n",
      "pytest           : 7.2.2\n",
      "hypothesis       : None\n",
      "sphinx           : 3.5.4\n",
      "blosc            : None\n",
      "feather          : None\n",
      "xlsxwriter       : None\n",
      "lxml.etree       : 4.9.2\n",
      "html5lib         : 1.1\n",
      "pymysql          : None\n",
      "psycopg2         : 2.9.5\n",
      "jinja2           : 3.1.2\n",
      "IPython          : 7.34.0\n",
      "pandas_datareader: 0.10.0\n",
      "bs4              : 4.11.2\n",
      "bottleneck       : None\n",
      "brotli           : None\n",
      "fastparquet      : None\n",
      "fsspec           : 2023.3.0\n",
      "gcsfs            : None\n",
      "markupsafe       : 2.1.2\n",
      "matplotlib       : 3.7.1\n",
      "numba            : 0.56.4\n",
      "numexpr          : 2.8.4\n",
      "odfpy            : None\n",
      "openpyxl         : 3.0.10\n",
      "pandas_gbq       : 0.17.9\n",
      "pyarrow          : 9.0.0\n",
      "pyreadstat       : None\n",
      "pyxlsb           : None\n",
      "s3fs             : None\n",
      "scipy            : 1.10.1\n",
      "snappy           : None\n",
      "sqlalchemy       : 1.4.47\n",
      "tables           : 3.7.0\n",
      "tabulate         : 0.8.10\n",
      "xarray           : 2022.12.0\n",
      "xlrd             : 2.0.1\n",
      "xlwt             : None\n",
      "zstandard        : None\n"
     ]
    }
   ]
  },
  {
   "cell_type": "markdown",
   "source": [
    "Data Structures in Python\n",
    "1. Series\n",
    "    - deals with single dimension data\n",
    "2. DataFrame\n",
    "    - deals with two or more dimensions"
   ],
   "metadata": {
    "id": "3qPcoelrez6X"
   }
  },
  {
   "cell_type": "code",
   "source": [
    "pd.Series"
   ],
   "metadata": {
    "colab": {
     "base_uri": "https://localhost:8080/"
    },
    "id": "zHUcMtITfH2f",
    "outputId": "d1c9fc15-3195-4390-fa4b-bcf010a71a84"
   },
   "execution_count": 8,
   "outputs": [
    {
     "output_type": "execute_result",
     "data": {
      "text/plain": [
       "pandas.core.series.Series"
      ]
     },
     "metadata": {},
     "execution_count": 8
    }
   ]
  },
  {
   "cell_type": "code",
   "source": [
    "dir(pd.Series)"
   ],
   "metadata": {
    "colab": {
     "base_uri": "https://localhost:8080/"
    },
    "id": "zfhv9ZkgfNR8",
    "outputId": "70d65888-7a72-4d5e-8e02-dc8db9896856"
   },
   "execution_count": 9,
   "outputs": [
    {
     "output_type": "execute_result",
     "data": {
      "text/plain": [
       "['T',\n",
       " '_AXIS_LEN',\n",
       " '_AXIS_NAMES',\n",
       " '_AXIS_NUMBERS',\n",
       " '_AXIS_ORDERS',\n",
       " '_AXIS_TO_AXIS_NUMBER',\n",
       " '_HANDLED_TYPES',\n",
       " '__abs__',\n",
       " '__add__',\n",
       " '__and__',\n",
       " '__annotations__',\n",
       " '__array__',\n",
       " '__array_priority__',\n",
       " '__array_ufunc__',\n",
       " '__array_wrap__',\n",
       " '__bool__',\n",
       " '__class__',\n",
       " '__contains__',\n",
       " '__copy__',\n",
       " '__deepcopy__',\n",
       " '__delattr__',\n",
       " '__delitem__',\n",
       " '__dict__',\n",
       " '__dir__',\n",
       " '__divmod__',\n",
       " '__doc__',\n",
       " '__eq__',\n",
       " '__finalize__',\n",
       " '__float__',\n",
       " '__floordiv__',\n",
       " '__format__',\n",
       " '__ge__',\n",
       " '__getattr__',\n",
       " '__getattribute__',\n",
       " '__getitem__',\n",
       " '__getstate__',\n",
       " '__gt__',\n",
       " '__hash__',\n",
       " '__iadd__',\n",
       " '__iand__',\n",
       " '__ifloordiv__',\n",
       " '__imod__',\n",
       " '__imul__',\n",
       " '__init__',\n",
       " '__init_subclass__',\n",
       " '__int__',\n",
       " '__invert__',\n",
       " '__ior__',\n",
       " '__ipow__',\n",
       " '__isub__',\n",
       " '__iter__',\n",
       " '__itruediv__',\n",
       " '__ixor__',\n",
       " '__le__',\n",
       " '__len__',\n",
       " '__long__',\n",
       " '__lt__',\n",
       " '__matmul__',\n",
       " '__mod__',\n",
       " '__module__',\n",
       " '__mul__',\n",
       " '__ne__',\n",
       " '__neg__',\n",
       " '__new__',\n",
       " '__nonzero__',\n",
       " '__or__',\n",
       " '__pos__',\n",
       " '__pow__',\n",
       " '__radd__',\n",
       " '__rand__',\n",
       " '__rdivmod__',\n",
       " '__reduce__',\n",
       " '__reduce_ex__',\n",
       " '__repr__',\n",
       " '__rfloordiv__',\n",
       " '__rmatmul__',\n",
       " '__rmod__',\n",
       " '__rmul__',\n",
       " '__ror__',\n",
       " '__round__',\n",
       " '__rpow__',\n",
       " '__rsub__',\n",
       " '__rtruediv__',\n",
       " '__rxor__',\n",
       " '__setattr__',\n",
       " '__setitem__',\n",
       " '__setstate__',\n",
       " '__sizeof__',\n",
       " '__str__',\n",
       " '__sub__',\n",
       " '__subclasshook__',\n",
       " '__truediv__',\n",
       " '__weakref__',\n",
       " '__xor__',\n",
       " '_accessors',\n",
       " '_accum_func',\n",
       " '_add_numeric_operations',\n",
       " '_agg_by_level',\n",
       " '_agg_examples_doc',\n",
       " '_agg_see_also_doc',\n",
       " '_align_frame',\n",
       " '_align_series',\n",
       " '_append',\n",
       " '_arith_method',\n",
       " '_as_manager',\n",
       " '_binop',\n",
       " '_can_hold_na',\n",
       " '_check_inplace_and_allows_duplicate_labels',\n",
       " '_check_inplace_setting',\n",
       " '_check_is_chained_assignment_possible',\n",
       " '_check_label_or_level_ambiguity',\n",
       " '_check_setitem_copy',\n",
       " '_clear_item_cache',\n",
       " '_clip_with_one_bound',\n",
       " '_clip_with_scalar',\n",
       " '_cmp_method',\n",
       " '_consolidate',\n",
       " '_consolidate_inplace',\n",
       " '_construct_axes_dict',\n",
       " '_construct_axes_from_arguments',\n",
       " '_construct_result',\n",
       " '_constructor',\n",
       " '_constructor_expanddim',\n",
       " '_convert',\n",
       " '_convert_dtypes',\n",
       " '_data',\n",
       " '_dir_additions',\n",
       " '_dir_deletions',\n",
       " '_drop_axis',\n",
       " '_drop_labels_or_levels',\n",
       " '_duplicated',\n",
       " '_find_valid_index',\n",
       " '_from_mgr',\n",
       " '_get_axis',\n",
       " '_get_axis_name',\n",
       " '_get_axis_number',\n",
       " '_get_axis_resolvers',\n",
       " '_get_block_manager_axis',\n",
       " '_get_bool_data',\n",
       " '_get_cacher',\n",
       " '_get_cleaned_column_resolvers',\n",
       " '_get_index_resolvers',\n",
       " '_get_label_or_level_values',\n",
       " '_get_numeric_data',\n",
       " '_get_value',\n",
       " '_get_values',\n",
       " '_get_values_tuple',\n",
       " '_get_with',\n",
       " '_gotitem',\n",
       " '_hidden_attrs',\n",
       " '_indexed_same',\n",
       " '_info_axis',\n",
       " '_info_axis_name',\n",
       " '_info_axis_number',\n",
       " '_init_dict',\n",
       " '_init_mgr',\n",
       " '_inplace_method',\n",
       " '_internal_names',\n",
       " '_internal_names_set',\n",
       " '_is_cached',\n",
       " '_is_copy',\n",
       " '_is_label_or_level_reference',\n",
       " '_is_label_reference',\n",
       " '_is_level_reference',\n",
       " '_is_mixed_type',\n",
       " '_is_view',\n",
       " '_ixs',\n",
       " '_logical_func',\n",
       " '_logical_method',\n",
       " '_map_values',\n",
       " '_maybe_update_cacher',\n",
       " '_memory_usage',\n",
       " '_metadata',\n",
       " '_min_count_stat_function',\n",
       " '_needs_reindex_multi',\n",
       " '_protect_consolidate',\n",
       " '_reduce',\n",
       " '_reindex_axes',\n",
       " '_reindex_indexer',\n",
       " '_reindex_multi',\n",
       " '_reindex_with_indexers',\n",
       " '_rename',\n",
       " '_replace_single',\n",
       " '_repr_data_resource_',\n",
       " '_repr_latex_',\n",
       " '_reset_cache',\n",
       " '_reset_cacher',\n",
       " '_set_as_cached',\n",
       " '_set_axis',\n",
       " '_set_axis_name',\n",
       " '_set_axis_nocheck',\n",
       " '_set_is_copy',\n",
       " '_set_labels',\n",
       " '_set_name',\n",
       " '_set_value',\n",
       " '_set_values',\n",
       " '_set_with',\n",
       " '_set_with_engine',\n",
       " '_slice',\n",
       " '_stat_axis',\n",
       " '_stat_axis_name',\n",
       " '_stat_axis_number',\n",
       " '_stat_function',\n",
       " '_stat_function_ddof',\n",
       " '_take_with_is_copy',\n",
       " '_typ',\n",
       " '_update_inplace',\n",
       " '_validate_dtype',\n",
       " '_values',\n",
       " '_where',\n",
       " 'abs',\n",
       " 'add',\n",
       " 'add_prefix',\n",
       " 'add_suffix',\n",
       " 'agg',\n",
       " 'aggregate',\n",
       " 'align',\n",
       " 'all',\n",
       " 'any',\n",
       " 'append',\n",
       " 'apply',\n",
       " 'argmax',\n",
       " 'argmin',\n",
       " 'argsort',\n",
       " 'array',\n",
       " 'asfreq',\n",
       " 'asof',\n",
       " 'astype',\n",
       " 'at',\n",
       " 'at_time',\n",
       " 'attrs',\n",
       " 'autocorr',\n",
       " 'axes',\n",
       " 'backfill',\n",
       " 'between',\n",
       " 'between_time',\n",
       " 'bfill',\n",
       " 'bool',\n",
       " 'cat',\n",
       " 'clip',\n",
       " 'combine',\n",
       " 'combine_first',\n",
       " 'compare',\n",
       " 'convert_dtypes',\n",
       " 'copy',\n",
       " 'corr',\n",
       " 'count',\n",
       " 'cov',\n",
       " 'cummax',\n",
       " 'cummin',\n",
       " 'cumprod',\n",
       " 'cumsum',\n",
       " 'describe',\n",
       " 'diff',\n",
       " 'div',\n",
       " 'divide',\n",
       " 'divmod',\n",
       " 'dot',\n",
       " 'drop',\n",
       " 'drop_duplicates',\n",
       " 'droplevel',\n",
       " 'dropna',\n",
       " 'dt',\n",
       " 'dtype',\n",
       " 'dtypes',\n",
       " 'duplicated',\n",
       " 'empty',\n",
       " 'eq',\n",
       " 'equals',\n",
       " 'ewm',\n",
       " 'expanding',\n",
       " 'explode',\n",
       " 'factorize',\n",
       " 'ffill',\n",
       " 'fillna',\n",
       " 'filter',\n",
       " 'first',\n",
       " 'first_valid_index',\n",
       " 'flags',\n",
       " 'floordiv',\n",
       " 'ge',\n",
       " 'get',\n",
       " 'groupby',\n",
       " 'gt',\n",
       " 'hasnans',\n",
       " 'head',\n",
       " 'hist',\n",
       " 'iat',\n",
       " 'idxmax',\n",
       " 'idxmin',\n",
       " 'iloc',\n",
       " 'index',\n",
       " 'infer_objects',\n",
       " 'info',\n",
       " 'interpolate',\n",
       " 'is_monotonic',\n",
       " 'is_monotonic_decreasing',\n",
       " 'is_monotonic_increasing',\n",
       " 'is_unique',\n",
       " 'isin',\n",
       " 'isna',\n",
       " 'isnull',\n",
       " 'item',\n",
       " 'items',\n",
       " 'iteritems',\n",
       " 'keys',\n",
       " 'kurt',\n",
       " 'kurtosis',\n",
       " 'last',\n",
       " 'last_valid_index',\n",
       " 'le',\n",
       " 'loc',\n",
       " 'lt',\n",
       " 'mad',\n",
       " 'map',\n",
       " 'mask',\n",
       " 'max',\n",
       " 'mean',\n",
       " 'median',\n",
       " 'memory_usage',\n",
       " 'min',\n",
       " 'mod',\n",
       " 'mode',\n",
       " 'mul',\n",
       " 'multiply',\n",
       " 'name',\n",
       " 'nbytes',\n",
       " 'ndim',\n",
       " 'ne',\n",
       " 'nlargest',\n",
       " 'notna',\n",
       " 'notnull',\n",
       " 'nsmallest',\n",
       " 'nunique',\n",
       " 'pad',\n",
       " 'pct_change',\n",
       " 'pipe',\n",
       " 'plot',\n",
       " 'pop',\n",
       " 'pow',\n",
       " 'prod',\n",
       " 'product',\n",
       " 'quantile',\n",
       " 'radd',\n",
       " 'rank',\n",
       " 'ravel',\n",
       " 'rdiv',\n",
       " 'rdivmod',\n",
       " 'reindex',\n",
       " 'reindex_like',\n",
       " 'rename',\n",
       " 'rename_axis',\n",
       " 'reorder_levels',\n",
       " 'repeat',\n",
       " 'replace',\n",
       " 'resample',\n",
       " 'reset_index',\n",
       " 'rfloordiv',\n",
       " 'rmod',\n",
       " 'rmul',\n",
       " 'rolling',\n",
       " 'round',\n",
       " 'rpow',\n",
       " 'rsub',\n",
       " 'rtruediv',\n",
       " 'sample',\n",
       " 'searchsorted',\n",
       " 'sem',\n",
       " 'set_axis',\n",
       " 'set_flags',\n",
       " 'shape',\n",
       " 'shift',\n",
       " 'size',\n",
       " 'skew',\n",
       " 'slice_shift',\n",
       " 'sort_index',\n",
       " 'sort_values',\n",
       " 'sparse',\n",
       " 'squeeze',\n",
       " 'std',\n",
       " 'str',\n",
       " 'sub',\n",
       " 'subtract',\n",
       " 'sum',\n",
       " 'swapaxes',\n",
       " 'swaplevel',\n",
       " 'tail',\n",
       " 'take',\n",
       " 'to_clipboard',\n",
       " 'to_csv',\n",
       " 'to_dict',\n",
       " 'to_excel',\n",
       " 'to_frame',\n",
       " 'to_hdf',\n",
       " 'to_json',\n",
       " 'to_latex',\n",
       " 'to_list',\n",
       " 'to_markdown',\n",
       " 'to_numpy',\n",
       " 'to_period',\n",
       " 'to_pickle',\n",
       " 'to_sql',\n",
       " 'to_string',\n",
       " 'to_timestamp',\n",
       " 'to_xarray',\n",
       " 'tolist',\n",
       " 'transform',\n",
       " 'transpose',\n",
       " 'truediv',\n",
       " 'truncate',\n",
       " 'tshift',\n",
       " 'tz_convert',\n",
       " 'tz_localize',\n",
       " 'unique',\n",
       " 'unstack',\n",
       " 'update',\n",
       " 'value_counts',\n",
       " 'values',\n",
       " 'var',\n",
       " 'view',\n",
       " 'where',\n",
       " 'xs']"
      ]
     },
     "metadata": {},
     "execution_count": 9
    }
   ]
  },
  {
   "cell_type": "code",
   "source": [
    "# Empty Pandas Series\n",
    "\n",
    "s1 = pd.Series()\n",
    "\n",
    "s1"
   ],
   "metadata": {
    "colab": {
     "base_uri": "https://localhost:8080/"
    },
    "id": "lQu0fFshfUtZ",
    "outputId": "0eae303b-c915-4048-ccbf-ececfb5d558b"
   },
   "execution_count": 10,
   "outputs": [
    {
     "output_type": "stream",
     "name": "stderr",
     "text": [
      "<ipython-input-10-4ee422dd1ae5>:3: FutureWarning: The default dtype for empty Series will be 'object' instead of 'float64' in a future version. Specify a dtype explicitly to silence this warning.\n",
      "  s1 = pd.Series()\n"
     ]
    },
    {
     "output_type": "execute_result",
     "data": {
      "text/plain": [
       "Series([], dtype: float64)"
      ]
     },
     "metadata": {},
     "execution_count": 10
    }
   ]
  },
  {
   "cell_type": "code",
   "source": [
    "### Creating Pandas Series, from List\n",
    "\n",
    "s2 = pd.Series([11, 22, 33, 44, 33, 22])\n",
    "\n",
    "s2"
   ],
   "metadata": {
    "colab": {
     "base_uri": "https://localhost:8080/"
    },
    "id": "7WBPointfejg",
    "outputId": "be4accb0-6b64-4db9-8246-02aa0e459003"
   },
   "execution_count": 11,
   "outputs": [
    {
     "output_type": "execute_result",
     "data": {
      "text/plain": [
       "0    11\n",
       "1    22\n",
       "2    33\n",
       "3    44\n",
       "4    33\n",
       "5    22\n",
       "dtype: int64"
      ]
     },
     "metadata": {},
     "execution_count": 11
    }
   ]
  },
  {
   "cell_type": "code",
   "source": [
    "### Creating Pandas Series, from Dict\n",
    "\n",
    "my_dict = {\"a\": 10, \"b\": 20, \"c\": 30}\n",
    "s3 = pd.Series(my_dict)\n",
    "\n",
    "s3"
   ],
   "metadata": {
    "colab": {
     "base_uri": "https://localhost:8080/"
    },
    "id": "_8drj_vmfpVo",
    "outputId": "d2a7a13d-b4c3-4fd5-b3ea-7d94be219565"
   },
   "execution_count": 12,
   "outputs": [
    {
     "output_type": "execute_result",
     "data": {
      "text/plain": [
       "a    10\n",
       "b    20\n",
       "c    30\n",
       "dtype: int64"
      ]
     },
     "metadata": {},
     "execution_count": 12
    }
   ]
  },
  {
   "cell_type": "code",
   "source": [
    "### Creating Pandas Series, from Set\n",
    "try:\n",
    "    pd.Series({11, 22, 33, 44, 33, 22})\n",
    "except TypeError as ex:\n",
    "    print(ex)"
   ],
   "metadata": {
    "colab": {
     "base_uri": "https://localhost:8080/"
    },
    "id": "y_IzrYWDfx17",
    "outputId": "32db3227-9a17-4f28-f7ab-d56940a5f649"
   },
   "execution_count": 13,
   "outputs": [
    {
     "output_type": "stream",
     "name": "stdout",
     "text": [
      "'set' type is unordered\n"
     ]
    }
   ]
  },
  {
   "cell_type": "code",
   "source": [
    "### Creating Pandas Series, from tuple\n",
    "\n",
    "s2 = pd.Series((11, 22, 33, 44, 33, 22))\n",
    "\n",
    "s2"
   ],
   "metadata": {
    "colab": {
     "base_uri": "https://localhost:8080/"
    },
    "id": "XIuGWI2fgCZQ",
    "outputId": "84ff1886-357e-4d03-dbb0-82fe39e2ddb8"
   },
   "execution_count": 14,
   "outputs": [
    {
     "output_type": "execute_result",
     "data": {
      "text/plain": [
       "0    11\n",
       "1    22\n",
       "2    33\n",
       "3    44\n",
       "4    33\n",
       "5    22\n",
       "dtype: int64"
      ]
     },
     "metadata": {},
     "execution_count": 14
    }
   ]
  },
  {
   "cell_type": "code",
   "source": [
    "arr1 = np.random.randn(10)\n",
    "\n",
    "arr1"
   ],
   "metadata": {
    "colab": {
     "base_uri": "https://localhost:8080/"
    },
    "id": "UZDyAUw-gJ7v",
    "outputId": "dc9ab691-6995-4e51-fb34-66e458799bf0"
   },
   "execution_count": 16,
   "outputs": [
    {
     "output_type": "execute_result",
     "data": {
      "text/plain": [
       "array([ 0.44741329,  0.29403157,  0.33461766, -0.56075331,  0.0261936 ,\n",
       "       -0.34109479, -0.03193023, -0.09623888,  0.63351427,  0.50278803])"
      ]
     },
     "metadata": {},
     "execution_count": 16
    }
   ]
  },
  {
   "cell_type": "code",
   "source": [
    "s3 = pd.Series(arr1)\n",
    "\n",
    "s3"
   ],
   "metadata": {
    "colab": {
     "base_uri": "https://localhost:8080/"
    },
    "id": "rfprNFhHgNvG",
    "outputId": "f4766de4-6d62-4af6-98a6-f6565175ef74"
   },
   "execution_count": 17,
   "outputs": [
    {
     "output_type": "execute_result",
     "data": {
      "text/plain": [
       "0    0.447413\n",
       "1    0.294032\n",
       "2    0.334618\n",
       "3   -0.560753\n",
       "4    0.026194\n",
       "5   -0.341095\n",
       "6   -0.031930\n",
       "7   -0.096239\n",
       "8    0.633514\n",
       "9    0.502788\n",
       "dtype: float64"
      ]
     },
     "metadata": {},
     "execution_count": 17
    }
   ]
  },
  {
   "cell_type": "code",
   "source": [
    "### Pandas Series Operations"
   ],
   "metadata": {
    "id": "zMNeK2-ngW5r"
   },
   "execution_count": 18,
   "outputs": []
  },
  {
   "cell_type": "code",
   "source": [
    "# To get index of Series\n",
    "s3.index"
   ],
   "metadata": {
    "colab": {
     "base_uri": "https://localhost:8080/"
    },
    "id": "WX1yvXkJgdJb",
    "outputId": "7979d08a-ae04-4753-934e-1a7fa843f8c0"
   },
   "execution_count": 19,
   "outputs": [
    {
     "output_type": "execute_result",
     "data": {
      "text/plain": [
       "RangeIndex(start=0, stop=10, step=1)"
      ]
     },
     "metadata": {},
     "execution_count": 19
    }
   ]
  },
  {
   "cell_type": "code",
   "source": [
    "s3.values"
   ],
   "metadata": {
    "colab": {
     "base_uri": "https://localhost:8080/"
    },
    "id": "kS1qda8AgiTz",
    "outputId": "c7605234-52d7-4e4b-fc1d-9ee4a36c220f"
   },
   "execution_count": 21,
   "outputs": [
    {
     "output_type": "execute_result",
     "data": {
      "text/plain": [
       "array([ 0.44741329,  0.29403157,  0.33461766, -0.56075331,  0.0261936 ,\n",
       "       -0.34109479, -0.03193023, -0.09623888,  0.63351427,  0.50278803])"
      ]
     },
     "metadata": {},
     "execution_count": 21
    }
   ]
  },
  {
   "cell_type": "code",
   "source": [
    "s2.index"
   ],
   "metadata": {
    "colab": {
     "base_uri": "https://localhost:8080/"
    },
    "id": "pNVLej-bgrTf",
    "outputId": "c44e516f-9a86-414b-dc80-e76e96a2d136"
   },
   "execution_count": 22,
   "outputs": [
    {
     "output_type": "execute_result",
     "data": {
      "text/plain": [
       "RangeIndex(start=0, stop=6, step=1)"
      ]
     },
     "metadata": {},
     "execution_count": 22
    }
   ]
  },
  {
   "cell_type": "code",
   "source": [
    "s2.values"
   ],
   "metadata": {
    "colab": {
     "base_uri": "https://localhost:8080/"
    },
    "id": "hWafLwg5g0Ml",
    "outputId": "2e5bc9a8-5ed0-41df-b0c9-05eb19933239"
   },
   "execution_count": 23,
   "outputs": [
    {
     "output_type": "execute_result",
     "data": {
      "text/plain": [
       "array([11, 22, 33, 44, 33, 22])"
      ]
     },
     "metadata": {},
     "execution_count": 23
    }
   ]
  },
  {
   "cell_type": "code",
   "source": [
    "#### Indexing"
   ],
   "metadata": {
    "id": "UHGnk10Ng4W6"
   },
   "execution_count": 24,
   "outputs": []
  },
  {
   "cell_type": "code",
   "source": [
    "s2.items()"
   ],
   "metadata": {
    "colab": {
     "base_uri": "https://localhost:8080/"
    },
    "id": "0fCHbY1Kg_SF",
    "outputId": "530517cb-cbce-45ab-a390-1c83cf83a384"
   },
   "execution_count": 25,
   "outputs": [
    {
     "output_type": "execute_result",
     "data": {
      "text/plain": [
       "<zip at 0x7f9fa3278680>"
      ]
     },
     "metadata": {},
     "execution_count": 25
    }
   ]
  },
  {
   "cell_type": "code",
   "source": [
    "list(s2.items())"
   ],
   "metadata": {
    "colab": {
     "base_uri": "https://localhost:8080/"
    },
    "id": "viwKtGZhhB2L",
    "outputId": "a18f8b69-f063-4a75-bc1b-4ff52508933d"
   },
   "execution_count": 26,
   "outputs": [
    {
     "output_type": "execute_result",
     "data": {
      "text/plain": [
       "[(0, 11), (1, 22), (2, 33), (3, 44), (4, 33), (5, 22)]"
      ]
     },
     "metadata": {},
     "execution_count": 26
    }
   ]
  },
  {
   "cell_type": "code",
   "source": [
    "s2.keys()"
   ],
   "metadata": {
    "colab": {
     "base_uri": "https://localhost:8080/"
    },
    "id": "kcuw-VpIhEMp",
    "outputId": "dff59cef-6a83-46fb-ca56-ac802f26c7fa"
   },
   "execution_count": 27,
   "outputs": [
    {
     "output_type": "execute_result",
     "data": {
      "text/plain": [
       "RangeIndex(start=0, stop=6, step=1)"
      ]
     },
     "metadata": {},
     "execution_count": 27
    }
   ]
  },
  {
   "cell_type": "code",
   "source": [
    "print(\n",
    "    f\"\"\"\n",
    "    {s2[0]    =}\n",
    "    {s2[3]    =}\n",
    "\"\"\"\n",
    ")"
   ],
   "metadata": {
    "colab": {
     "base_uri": "https://localhost:8080/"
    },
    "id": "dAMP2frghQTt",
    "outputId": "6683ef53-ac9d-4a10-9baf-d869c70c1db6"
   },
   "execution_count": 28,
   "outputs": [
    {
     "output_type": "stream",
     "name": "stdout",
     "text": [
      "\n",
      "    s2[0]    =11\n",
      "    s2[3]    =44\n",
      "\n"
     ]
    }
   ]
  },
  {
   "cell_type": "code",
   "source": [
    "try:\n",
    "    s2[-1]\n",
    "except (ValueError, KeyError) as ex:\n",
    "    print(ex)\n",
    "    print(\"Negatives indices were not supported\")"
   ],
   "metadata": {
    "colab": {
     "base_uri": "https://localhost:8080/"
    },
    "id": "3h3DJVVzhYsM",
    "outputId": "5c423952-144d-442d-e02d-028423aeb066"
   },
   "execution_count": 29,
   "outputs": [
    {
     "output_type": "stream",
     "name": "stdout",
     "text": [
      "-1\n",
      "Negatives indices were not supported\n"
     ]
    }
   ]
  },
  {
   "cell_type": "code",
   "source": [
    "# Accessing Multiple Values\n",
    "s2[[0, 2, 4]]"
   ],
   "metadata": {
    "colab": {
     "base_uri": "https://localhost:8080/"
    },
    "id": "k7mXVfjBhcAl",
    "outputId": "c0250fb9-1a75-4d0f-b527-5ebff5ea3544"
   },
   "execution_count": 30,
   "outputs": [
    {
     "output_type": "execute_result",
     "data": {
      "text/plain": [
       "0    11\n",
       "2    33\n",
       "4    33\n",
       "dtype: int64"
      ]
     },
     "metadata": {},
     "execution_count": 30
    }
   ]
  },
  {
   "cell_type": "code",
   "source": [
    "s2"
   ],
   "metadata": {
    "colab": {
     "base_uri": "https://localhost:8080/"
    },
    "id": "_R1ODfOZhlu-",
    "outputId": "2998423e-48a1-4b84-9c4d-c75802c387a1"
   },
   "execution_count": 31,
   "outputs": [
    {
     "output_type": "execute_result",
     "data": {
      "text/plain": [
       "0    11\n",
       "1    22\n",
       "2    33\n",
       "3    44\n",
       "4    33\n",
       "5    22\n",
       "dtype: int64"
      ]
     },
     "metadata": {},
     "execution_count": 31
    }
   ]
  },
  {
   "cell_type": "code",
   "source": [
    "s2.first_valid_index()"
   ],
   "metadata": {
    "colab": {
     "base_uri": "https://localhost:8080/"
    },
    "id": "yUD3JEqkhnPQ",
    "outputId": "3c5f96a9-0163-4e4e-f8e0-7f9dc6274523"
   },
   "execution_count": 32,
   "outputs": [
    {
     "output_type": "execute_result",
     "data": {
      "text/plain": [
       "0"
      ]
     },
     "metadata": {},
     "execution_count": 32
    }
   ]
  },
  {
   "cell_type": "code",
   "source": [
    "s2.last_valid_index()"
   ],
   "metadata": {
    "colab": {
     "base_uri": "https://localhost:8080/"
    },
    "id": "KgUZoWtqhwZr",
    "outputId": "ca761773-1f7f-41ba-fdd5-8ddd7e375b95"
   },
   "execution_count": 33,
   "outputs": [
    {
     "output_type": "execute_result",
     "data": {
      "text/plain": [
       "5"
      ]
     },
     "metadata": {},
     "execution_count": 33
    }
   ]
  },
  {
   "cell_type": "code",
   "source": [
    "#### Slicing"
   ],
   "metadata": {
    "id": "MCzvUNwjhzlL"
   },
   "execution_count": 34,
   "outputs": []
  },
  {
   "cell_type": "code",
   "source": [
    "s2[2:4]"
   ],
   "metadata": {
    "colab": {
     "base_uri": "https://localhost:8080/"
    },
    "id": "G_qr9xwNh3BV",
    "outputId": "862b4ca6-3c1f-4864-8e8e-6d5249498b1a"
   },
   "execution_count": 35,
   "outputs": [
    {
     "output_type": "execute_result",
     "data": {
      "text/plain": [
       "2    33\n",
       "3    44\n",
       "dtype: int64"
      ]
     },
     "metadata": {},
     "execution_count": 35
    }
   ]
  },
  {
   "cell_type": "code",
   "source": [
    "s2[:4]"
   ],
   "metadata": {
    "colab": {
     "base_uri": "https://localhost:8080/"
    },
    "id": "CRwpdc8Ph6Qd",
    "outputId": "aefeac68-b27e-4d44-9b7d-f2c5666cf9b5"
   },
   "execution_count": 36,
   "outputs": [
    {
     "output_type": "execute_result",
     "data": {
      "text/plain": [
       "0    11\n",
       "1    22\n",
       "2    33\n",
       "3    44\n",
       "dtype: int64"
      ]
     },
     "metadata": {},
     "execution_count": 36
    }
   ]
  },
  {
   "cell_type": "code",
   "source": [
    "s2[3:]"
   ],
   "metadata": {
    "colab": {
     "base_uri": "https://localhost:8080/"
    },
    "id": "uULze6elh8q8",
    "outputId": "e1a59a53-bd04-424c-8d93-2fd3db1cdae5"
   },
   "execution_count": 37,
   "outputs": [
    {
     "output_type": "execute_result",
     "data": {
      "text/plain": [
       "3    44\n",
       "4    33\n",
       "5    22\n",
       "dtype: int64"
      ]
     },
     "metadata": {},
     "execution_count": 37
    }
   ]
  },
  {
   "cell_type": "code",
   "source": [
    "s2[:]"
   ],
   "metadata": {
    "colab": {
     "base_uri": "https://localhost:8080/"
    },
    "id": "1EWjiDZ1h-ft",
    "outputId": "947accb2-8f70-464d-9b9a-5277eeea6e35"
   },
   "execution_count": 38,
   "outputs": [
    {
     "output_type": "execute_result",
     "data": {
      "text/plain": [
       "0    11\n",
       "1    22\n",
       "2    33\n",
       "3    44\n",
       "4    33\n",
       "5    22\n",
       "dtype: int64"
      ]
     },
     "metadata": {},
     "execution_count": 38
    }
   ]
  },
  {
   "cell_type": "code",
   "source": [
    "s2[::2]"
   ],
   "metadata": {
    "colab": {
     "base_uri": "https://localhost:8080/"
    },
    "id": "DPFWD5hIiAPJ",
    "outputId": "d6d7640f-c1b5-4184-87fa-7f597bbc05a0"
   },
   "execution_count": 39,
   "outputs": [
    {
     "output_type": "execute_result",
     "data": {
      "text/plain": [
       "0    11\n",
       "2    33\n",
       "4    33\n",
       "dtype: int64"
      ]
     },
     "metadata": {},
     "execution_count": 39
    }
   ]
  },
  {
   "cell_type": "code",
   "source": [
    "s2[::-1]"
   ],
   "metadata": {
    "colab": {
     "base_uri": "https://localhost:8080/"
    },
    "id": "zHZfjQlNiCG0",
    "outputId": "50148186-41a3-4280-bee2-32cf115814be"
   },
   "execution_count": 40,
   "outputs": [
    {
     "output_type": "execute_result",
     "data": {
      "text/plain": [
       "5    22\n",
       "4    33\n",
       "3    44\n",
       "2    33\n",
       "1    22\n",
       "0    11\n",
       "dtype: int64"
      ]
     },
     "metadata": {},
     "execution_count": 40
    }
   ]
  },
  {
   "cell_type": "code",
   "source": [
    "#### Filtering a series"
   ],
   "metadata": {
    "id": "Ccmkt1NziDRQ"
   },
   "execution_count": 41,
   "outputs": []
  },
  {
   "cell_type": "code",
   "source": [
    "s2[s2 % 2 == 0]"
   ],
   "metadata": {
    "colab": {
     "base_uri": "https://localhost:8080/"
    },
    "id": "W6URNdWBiGc4",
    "outputId": "3f7bf372-b6f3-4079-d37b-fd99ec80a511"
   },
   "execution_count": 42,
   "outputs": [
    {
     "output_type": "execute_result",
     "data": {
      "text/plain": [
       "1    22\n",
       "3    44\n",
       "5    22\n",
       "dtype: int64"
      ]
     },
     "metadata": {},
     "execution_count": 42
    }
   ]
  },
  {
   "cell_type": "code",
   "source": [
    "s2[s2 > 30]"
   ],
   "metadata": {
    "colab": {
     "base_uri": "https://localhost:8080/"
    },
    "id": "thJNGZT6iNTV",
    "outputId": "7d0f3ddc-61bf-4e88-8ad5-c835d20eb954"
   },
   "execution_count": 43,
   "outputs": [
    {
     "output_type": "execute_result",
     "data": {
      "text/plain": [
       "2    33\n",
       "3    44\n",
       "4    33\n",
       "dtype: int64"
      ]
     },
     "metadata": {},
     "execution_count": 43
    }
   ]
  },
  {
   "cell_type": "code",
   "source": [
    "#### Statistics operations"
   ],
   "metadata": {
    "id": "-ay0Fg6ciQVT"
   },
   "execution_count": 44,
   "outputs": []
  },
  {
   "cell_type": "code",
   "source": [
    "print(\n",
    "    f\"\"\" \n",
    "    {s2.max()          =}\n",
    "    {s2.mean()         =}\n",
    "    {s2.median()       =}\n",
    "    {s2.min()          =}\n",
    "\n",
    "    {s2.memory_usage() =}\n",
    "    {s2.nbytes         =}\n",
    "    \n",
    "    {s2.ndim           =}\n",
    "\"\"\"\n",
    ")"
   ],
   "metadata": {
    "colab": {
     "base_uri": "https://localhost:8080/"
    },
    "id": "uUVV_WmViT6U",
    "outputId": "518082a6-655e-49b8-db93-ad49e3f3ed21"
   },
   "execution_count": 45,
   "outputs": [
    {
     "output_type": "stream",
     "name": "stdout",
     "text": [
      " \n",
      "    s2.max()          =44\n",
      "    s2.mean()         =27.5\n",
      "    s2.median()       =27.5\n",
      "    s2.min()          =11\n",
      "\n",
      "    s2.memory_usage() =176\n",
      "    s2.nbytes         =48\n",
      "    \n",
      "    s2.ndim           =1\n",
      "\n"
     ]
    }
   ]
  },
  {
   "cell_type": "code",
   "source": [
    "s2.mode()"
   ],
   "metadata": {
    "colab": {
     "base_uri": "https://localhost:8080/"
    },
    "id": "GnjWgs92iWJy",
    "outputId": "5e3ebb06-c1b3-4521-8383-3e336ffff60f"
   },
   "execution_count": 46,
   "outputs": [
    {
     "output_type": "execute_result",
     "data": {
      "text/plain": [
       "0    22\n",
       "1    33\n",
       "dtype: int64"
      ]
     },
     "metadata": {},
     "execution_count": 46
    }
   ]
  },
  {
   "cell_type": "code",
   "source": [
    "# mad - mean absolute deviation of the values\n",
    "s2.mad() == (s2 - s2.mean()).abs().mean()"
   ],
   "metadata": {
    "colab": {
     "base_uri": "https://localhost:8080/"
    },
    "id": "8kKzI5qZiayV",
    "outputId": "cbe2c1f7-8970-41cb-ec2e-6d42b045c3a0"
   },
   "execution_count": 47,
   "outputs": [
    {
     "output_type": "execute_result",
     "data": {
      "text/plain": [
       "True"
      ]
     },
     "metadata": {},
     "execution_count": 47
    }
   ]
  },
  {
   "cell_type": "code",
   "source": [
    "s2.nlargest()"
   ],
   "metadata": {
    "colab": {
     "base_uri": "https://localhost:8080/"
    },
    "id": "s8saIlpxif7T",
    "outputId": "8b6346c9-f5ed-4938-b245-1d804079fdb1"
   },
   "execution_count": 48,
   "outputs": [
    {
     "output_type": "execute_result",
     "data": {
      "text/plain": [
       "3    44\n",
       "2    33\n",
       "4    33\n",
       "1    22\n",
       "5    22\n",
       "dtype: int64"
      ]
     },
     "metadata": {},
     "execution_count": 48
    }
   ]
  },
  {
   "cell_type": "code",
   "source": [
    "for each in s2.nlargest():\n",
    "    print(each)"
   ],
   "metadata": {
    "colab": {
     "base_uri": "https://localhost:8080/"
    },
    "id": "6MHcwFdgijhk",
    "outputId": "71eee8dc-81fc-48ef-e5ae-7a98b63b11fb"
   },
   "execution_count": 49,
   "outputs": [
    {
     "output_type": "stream",
     "name": "stdout",
     "text": [
      "44\n",
      "33\n",
      "33\n",
      "22\n",
      "22\n"
     ]
    }
   ]
  },
  {
   "cell_type": "code",
   "source": [
    "s2.nsmallest()"
   ],
   "metadata": {
    "colab": {
     "base_uri": "https://localhost:8080/"
    },
    "id": "d0vsFyxqisy8",
    "outputId": "72f1c021-b3af-410b-e4ac-816b1b3b413d"
   },
   "execution_count": 50,
   "outputs": [
    {
     "output_type": "execute_result",
     "data": {
      "text/plain": [
       "0    11\n",
       "1    22\n",
       "5    22\n",
       "2    33\n",
       "4    33\n",
       "dtype: int64"
      ]
     },
     "metadata": {},
     "execution_count": 50
    }
   ]
  },
  {
   "cell_type": "code",
   "source": [
    "d = {\"a\": 1, \"b\": 2, \"c\": 3}\n",
    "pd.Series(d)"
   ],
   "metadata": {
    "colab": {
     "base_uri": "https://localhost:8080/"
    },
    "id": "vNEVh5Woivk3",
    "outputId": "fa1caf8a-563a-4eaf-bef9-cbe2013a3597"
   },
   "execution_count": 51,
   "outputs": [
    {
     "output_type": "execute_result",
     "data": {
      "text/plain": [
       "a    1\n",
       "b    2\n",
       "c    3\n",
       "dtype: int64"
      ]
     },
     "metadata": {},
     "execution_count": 51
    }
   ]
  },
  {
   "cell_type": "code",
   "source": [
    "pd.Series(d, index=[\"A\", \"B\", \"C\"])"
   ],
   "metadata": {
    "colab": {
     "base_uri": "https://localhost:8080/"
    },
    "id": "BBVx__jIwW2m",
    "outputId": "0ea6d116-e31a-49eb-b87e-aa6f3c97fbf2"
   },
   "execution_count": 52,
   "outputs": [
    {
     "output_type": "execute_result",
     "data": {
      "text/plain": [
       "A   NaN\n",
       "B   NaN\n",
       "C   NaN\n",
       "dtype: float64"
      ]
     },
     "metadata": {},
     "execution_count": 52
    }
   ]
  },
  {
   "cell_type": "code",
   "source": [
    "pd.Series(d, index=[\"a\", \"b\", \"d\"])"
   ],
   "metadata": {
    "colab": {
     "base_uri": "https://localhost:8080/"
    },
    "id": "6djJVmH3wevx",
    "outputId": "ffc3b050-4447-422b-b6ae-7dc92f0d93aa"
   },
   "execution_count": 53,
   "outputs": [
    {
     "output_type": "execute_result",
     "data": {
      "text/plain": [
       "a    1.0\n",
       "b    2.0\n",
       "d    NaN\n",
       "dtype: float64"
      ]
     },
     "metadata": {},
     "execution_count": 53
    }
   ]
  },
  {
   "cell_type": "code",
   "source": [
    "pd.Series([11, 22, 33, 44, 55, 66, 77, 88, 99, 0])"
   ],
   "metadata": {
    "colab": {
     "base_uri": "https://localhost:8080/"
    },
    "id": "OBkWhG_Cwlld",
    "outputId": "f473efc7-bc4c-479f-c681-c884b167195e"
   },
   "execution_count": 54,
   "outputs": [
    {
     "output_type": "execute_result",
     "data": {
      "text/plain": [
       "0    11\n",
       "1    22\n",
       "2    33\n",
       "3    44\n",
       "4    55\n",
       "5    66\n",
       "6    77\n",
       "7    88\n",
       "8    99\n",
       "9     0\n",
       "dtype: int64"
      ]
     },
     "metadata": {},
     "execution_count": 54
    }
   ]
  },
  {
   "cell_type": "code",
   "source": [
    "pd.Series([11, 22, 33, 44, 55, 66, 77, 88, 99, 0], index=[0, 2, 5])"
   ],
   "metadata": {
    "colab": {
     "base_uri": "https://localhost:8080/",
     "height": 311
    },
    "id": "9WAEVkdvwuuI",
    "outputId": "95dcacdf-b694-43b9-bfd5-e036e2a89750"
   },
   "execution_count": 55,
   "outputs": [
    {
     "output_type": "error",
     "ename": "ValueError",
     "evalue": "ignored",
     "traceback": [
      "\u001b[0;31m---------------------------------------------------------------------------\u001b[0m",
      "\u001b[0;31mValueError\u001b[0m                                Traceback (most recent call last)",
      "\u001b[0;32m<ipython-input-55-b2c8c8e7c928>\u001b[0m in \u001b[0;36m<cell line: 1>\u001b[0;34m()\u001b[0m\n\u001b[0;32m----> 1\u001b[0;31m \u001b[0mpd\u001b[0m\u001b[0;34m.\u001b[0m\u001b[0mSeries\u001b[0m\u001b[0;34m(\u001b[0m\u001b[0;34m[\u001b[0m\u001b[0;36m11\u001b[0m\u001b[0;34m,\u001b[0m \u001b[0;36m22\u001b[0m\u001b[0;34m,\u001b[0m \u001b[0;36m33\u001b[0m\u001b[0;34m,\u001b[0m \u001b[0;36m44\u001b[0m\u001b[0;34m,\u001b[0m \u001b[0;36m55\u001b[0m\u001b[0;34m,\u001b[0m \u001b[0;36m66\u001b[0m\u001b[0;34m,\u001b[0m \u001b[0;36m77\u001b[0m\u001b[0;34m,\u001b[0m \u001b[0;36m88\u001b[0m\u001b[0;34m,\u001b[0m \u001b[0;36m99\u001b[0m\u001b[0;34m,\u001b[0m \u001b[0;36m0\u001b[0m\u001b[0;34m]\u001b[0m\u001b[0;34m,\u001b[0m \u001b[0mindex\u001b[0m\u001b[0;34m=\u001b[0m\u001b[0;34m[\u001b[0m\u001b[0;36m0\u001b[0m\u001b[0;34m,\u001b[0m \u001b[0;36m2\u001b[0m\u001b[0;34m,\u001b[0m \u001b[0;36m5\u001b[0m\u001b[0;34m]\u001b[0m\u001b[0;34m)\u001b[0m\u001b[0;34m\u001b[0m\u001b[0;34m\u001b[0m\u001b[0m\n\u001b[0m",
      "\u001b[0;32m/usr/local/lib/python3.9/dist-packages/pandas/core/series.py\u001b[0m in \u001b[0;36m__init__\u001b[0;34m(self, data, index, dtype, name, copy, fastpath)\u001b[0m\n\u001b[1;32m    440\u001b[0m                 \u001b[0mindex\u001b[0m \u001b[0;34m=\u001b[0m \u001b[0mdefault_index\u001b[0m\u001b[0;34m(\u001b[0m\u001b[0mlen\u001b[0m\u001b[0;34m(\u001b[0m\u001b[0mdata\u001b[0m\u001b[0;34m)\u001b[0m\u001b[0;34m)\u001b[0m\u001b[0;34m\u001b[0m\u001b[0;34m\u001b[0m\u001b[0m\n\u001b[1;32m    441\u001b[0m             \u001b[0;32melif\u001b[0m \u001b[0mis_list_like\u001b[0m\u001b[0;34m(\u001b[0m\u001b[0mdata\u001b[0m\u001b[0;34m)\u001b[0m\u001b[0;34m:\u001b[0m\u001b[0;34m\u001b[0m\u001b[0;34m\u001b[0m\u001b[0m\n\u001b[0;32m--> 442\u001b[0;31m                 \u001b[0mcom\u001b[0m\u001b[0;34m.\u001b[0m\u001b[0mrequire_length_match\u001b[0m\u001b[0;34m(\u001b[0m\u001b[0mdata\u001b[0m\u001b[0;34m,\u001b[0m \u001b[0mindex\u001b[0m\u001b[0;34m)\u001b[0m\u001b[0;34m\u001b[0m\u001b[0;34m\u001b[0m\u001b[0m\n\u001b[0m\u001b[1;32m    443\u001b[0m \u001b[0;34m\u001b[0m\u001b[0m\n\u001b[1;32m    444\u001b[0m             \u001b[0;31m# create/copy the manager\u001b[0m\u001b[0;34m\u001b[0m\u001b[0;34m\u001b[0m\u001b[0m\n",
      "\u001b[0;32m/usr/local/lib/python3.9/dist-packages/pandas/core/common.py\u001b[0m in \u001b[0;36mrequire_length_match\u001b[0;34m(data, index)\u001b[0m\n\u001b[1;32m    555\u001b[0m     \"\"\"\n\u001b[1;32m    556\u001b[0m     \u001b[0;32mif\u001b[0m \u001b[0mlen\u001b[0m\u001b[0;34m(\u001b[0m\u001b[0mdata\u001b[0m\u001b[0;34m)\u001b[0m \u001b[0;34m!=\u001b[0m \u001b[0mlen\u001b[0m\u001b[0;34m(\u001b[0m\u001b[0mindex\u001b[0m\u001b[0;34m)\u001b[0m\u001b[0;34m:\u001b[0m\u001b[0;34m\u001b[0m\u001b[0;34m\u001b[0m\u001b[0m\n\u001b[0;32m--> 557\u001b[0;31m         raise ValueError(\n\u001b[0m\u001b[1;32m    558\u001b[0m             \u001b[0;34m\"Length of values \"\u001b[0m\u001b[0;34m\u001b[0m\u001b[0;34m\u001b[0m\u001b[0m\n\u001b[1;32m    559\u001b[0m             \u001b[0;34mf\"({len(data)}) \"\u001b[0m\u001b[0;34m\u001b[0m\u001b[0;34m\u001b[0m\u001b[0m\n",
      "\u001b[0;31mValueError\u001b[0m: Length of values (10) does not match length of index (3)"
     ]
    }
   ]
  },
  {
   "cell_type": "code",
   "source": [
    "pd.Series([11, 22, 33, 44, 55, 66, 77, 88, 99, 0], index=[0, 1, 2, 3, 4, 5, 6, 7, 8, 9])"
   ],
   "metadata": {
    "colab": {
     "base_uri": "https://localhost:8080/"
    },
    "id": "lMbLNavzw0fq",
    "outputId": "1e66bc49-df84-448b-8721-bd06b3cf480e"
   },
   "execution_count": 56,
   "outputs": [
    {
     "output_type": "execute_result",
     "data": {
      "text/plain": [
       "0    11\n",
       "1    22\n",
       "2    33\n",
       "3    44\n",
       "4    55\n",
       "5    66\n",
       "6    77\n",
       "7    88\n",
       "8    99\n",
       "9     0\n",
       "dtype: int64"
      ]
     },
     "metadata": {},
     "execution_count": 56
    }
   ]
  },
  {
   "cell_type": "code",
   "source": [
    "pd.Series(\n",
    "    [11, 22, 33, 44, 55, 66, 77, 88, 99, 0], index=[4, 5, 6, 7, 8, 9, 10, 11, 12, 13]\n",
    ")"
   ],
   "metadata": {
    "colab": {
     "base_uri": "https://localhost:8080/"
    },
    "id": "VSdZMzMuw-F1",
    "outputId": "9dd2922e-1656-4652-e7e1-1af01c406a46"
   },
   "execution_count": 57,
   "outputs": [
    {
     "output_type": "execute_result",
     "data": {
      "text/plain": [
       "4     11\n",
       "5     22\n",
       "6     33\n",
       "7     44\n",
       "8     55\n",
       "9     66\n",
       "10    77\n",
       "11    88\n",
       "12    99\n",
       "13     0\n",
       "dtype: int64"
      ]
     },
     "metadata": {},
     "execution_count": 57
    }
   ]
  },
  {
   "cell_type": "code",
   "source": [
    "pd.Series(\n",
    "    [11, 22, 33, 44, 55, 66, 77, 88, 99, 0], index=[8, 9, 10, 11, 4, 5, 6, 7, 12, 13]\n",
    ")"
   ],
   "metadata": {
    "colab": {
     "base_uri": "https://localhost:8080/"
    },
    "id": "7rbljKWrxC76",
    "outputId": "8b958b68-cc9a-4efa-a281-1f5240dabff1"
   },
   "execution_count": 58,
   "outputs": [
    {
     "output_type": "execute_result",
     "data": {
      "text/plain": [
       "8     11\n",
       "9     22\n",
       "10    33\n",
       "11    44\n",
       "4     55\n",
       "5     66\n",
       "6     77\n",
       "7     88\n",
       "12    99\n",
       "13     0\n",
       "dtype: int64"
      ]
     },
     "metadata": {},
     "execution_count": 58
    }
   ]
  },
  {
   "cell_type": "code",
   "source": [
    "s2 = pd.Series(\n",
    "    [11, 22, 33, 44, 55, 66, 77, 88, 99, 0], index=[8, 9, 10, 11, 4, 5, 6, 7, 12, 13]\n",
    ")\n",
    "\n",
    "s2.index"
   ],
   "metadata": {
    "colab": {
     "base_uri": "https://localhost:8080/"
    },
    "id": "0OUtzKumxHIM",
    "outputId": "4e25daf8-047b-4d6b-cd96-a5d86caa49cb"
   },
   "execution_count": 59,
   "outputs": [
    {
     "output_type": "execute_result",
     "data": {
      "text/plain": [
       "Int64Index([8, 9, 10, 11, 4, 5, 6, 7, 12, 13], dtype='int64')"
      ]
     },
     "metadata": {},
     "execution_count": 59
    }
   ]
  },
  {
   "cell_type": "code",
   "source": [
    "s2.values"
   ],
   "metadata": {
    "colab": {
     "base_uri": "https://localhost:8080/"
    },
    "id": "EXV8fP5sxM5K",
    "outputId": "5306b418-a9d9-4525-c63b-0254843f3d6f"
   },
   "execution_count": 60,
   "outputs": [
    {
     "output_type": "execute_result",
     "data": {
      "text/plain": [
       "array([11, 22, 33, 44, 55, 66, 77, 88, 99,  0])"
      ]
     },
     "metadata": {},
     "execution_count": 60
    }
   ]
  },
  {
   "cell_type": "code",
   "source": [
    "try:\n",
    "    s2[3]\n",
    "except KeyError as ex:\n",
    "    print(repr(ex))"
   ],
   "metadata": {
    "colab": {
     "base_uri": "https://localhost:8080/"
    },
    "id": "d0wsKqQyxWmt",
    "outputId": "c0eeedd3-1500-4256-8315-bf4a69862e67"
   },
   "execution_count": 65,
   "outputs": [
    {
     "output_type": "stream",
     "name": "stdout",
     "text": [
      "KeyError(3)\n"
     ]
    }
   ]
  },
  {
   "cell_type": "code",
   "source": [
    "s2[4]"
   ],
   "metadata": {
    "colab": {
     "base_uri": "https://localhost:8080/"
    },
    "id": "R7XavGalxaHf",
    "outputId": "8b532a74-c252-419e-b7e3-ac8cd722e926"
   },
   "execution_count": 66,
   "outputs": [
    {
     "output_type": "execute_result",
     "data": {
      "text/plain": [
       "55"
      ]
     },
     "metadata": {},
     "execution_count": 66
    }
   ]
  },
  {
   "cell_type": "code",
   "source": [
    "s2"
   ],
   "metadata": {
    "colab": {
     "base_uri": "https://localhost:8080/"
    },
    "id": "asw58YCxxrVd",
    "outputId": "fad6d1ab-b029-47cd-9da6-26b881a0f4b8"
   },
   "execution_count": 67,
   "outputs": [
    {
     "output_type": "execute_result",
     "data": {
      "text/plain": [
       "8     11\n",
       "9     22\n",
       "10    33\n",
       "11    44\n",
       "4     55\n",
       "5     66\n",
       "6     77\n",
       "7     88\n",
       "12    99\n",
       "13     0\n",
       "dtype: int64"
      ]
     },
     "metadata": {},
     "execution_count": 67
    }
   ]
  },
  {
   "cell_type": "code",
   "source": [
    "s2.nlargest()"
   ],
   "metadata": {
    "colab": {
     "base_uri": "https://localhost:8080/"
    },
    "id": "rKPXQfr8x3Y9",
    "outputId": "d19f4b43-ca8f-42f7-ba2e-b6ed804cae6f"
   },
   "execution_count": 69,
   "outputs": [
    {
     "output_type": "execute_result",
     "data": {
      "text/plain": [
       "12    99\n",
       "7     88\n",
       "6     77\n",
       "5     66\n",
       "4     55\n",
       "dtype: int64"
      ]
     },
     "metadata": {},
     "execution_count": 69
    }
   ]
  },
  {
   "cell_type": "code",
   "source": [
    "s2.nlargest(8)"
   ],
   "metadata": {
    "colab": {
     "base_uri": "https://localhost:8080/"
    },
    "id": "XRJXP6fOx45O",
    "outputId": "15c06837-2da0-4f9c-8962-e0055d704467"
   },
   "execution_count": 70,
   "outputs": [
    {
     "output_type": "execute_result",
     "data": {
      "text/plain": [
       "12    99\n",
       "7     88\n",
       "6     77\n",
       "5     66\n",
       "4     55\n",
       "11    44\n",
       "10    33\n",
       "9     22\n",
       "dtype: int64"
      ]
     },
     "metadata": {},
     "execution_count": 70
    }
   ]
  },
  {
   "cell_type": "code",
   "source": [
    "s2.nlargest(50)"
   ],
   "metadata": {
    "colab": {
     "base_uri": "https://localhost:8080/"
    },
    "id": "j5oNHYf0yCZE",
    "outputId": "41ace8ab-4fc1-41a4-8914-867806403339"
   },
   "execution_count": 71,
   "outputs": [
    {
     "output_type": "execute_result",
     "data": {
      "text/plain": [
       "12    99\n",
       "7     88\n",
       "6     77\n",
       "5     66\n",
       "4     55\n",
       "11    44\n",
       "10    33\n",
       "9     22\n",
       "8     11\n",
       "13     0\n",
       "dtype: int64"
      ]
     },
     "metadata": {},
     "execution_count": 71
    }
   ]
  },
  {
   "cell_type": "code",
   "source": [
    "s2.nsmallest(50)"
   ],
   "metadata": {
    "colab": {
     "base_uri": "https://localhost:8080/"
    },
    "id": "2ATsbPR1yGFF",
    "outputId": "7c61f252-b81f-4866-f80f-fb8e6de7e3fa"
   },
   "execution_count": 72,
   "outputs": [
    {
     "output_type": "execute_result",
     "data": {
      "text/plain": [
       "13     0\n",
       "8     11\n",
       "9     22\n",
       "10    33\n",
       "11    44\n",
       "4     55\n",
       "5     66\n",
       "6     77\n",
       "7     88\n",
       "12    99\n",
       "dtype: int64"
      ]
     },
     "metadata": {},
     "execution_count": 72
    }
   ]
  },
  {
   "cell_type": "code",
   "source": [
    "s2.nsmallest(3)"
   ],
   "metadata": {
    "colab": {
     "base_uri": "https://localhost:8080/"
    },
    "id": "gT1_g4yUyJp2",
    "outputId": "7020f1c4-6947-41cd-ee1e-d979a6089d2e"
   },
   "execution_count": 73,
   "outputs": [
    {
     "output_type": "execute_result",
     "data": {
      "text/plain": [
       "13     0\n",
       "8     11\n",
       "9     22\n",
       "dtype: int64"
      ]
     },
     "metadata": {},
     "execution_count": 73
    }
   ]
  },
  {
   "cell_type": "code",
   "source": [
    "s2.nunique()"
   ],
   "metadata": {
    "colab": {
     "base_uri": "https://localhost:8080/"
    },
    "id": "xj5xc7cRyMVu",
    "outputId": "3e13235f-c025-4427-8308-2f79febe373f"
   },
   "execution_count": 74,
   "outputs": [
    {
     "output_type": "execute_result",
     "data": {
      "text/plain": [
       "10"
      ]
     },
     "metadata": {},
     "execution_count": 74
    }
   ]
  },
  {
   "cell_type": "code",
   "source": [
    "s2"
   ],
   "metadata": {
    "colab": {
     "base_uri": "https://localhost:8080/"
    },
    "id": "jIyvBxkvyQ7P",
    "outputId": "8e1c6125-c780-4152-ee7d-ed91e11167d5"
   },
   "execution_count": 75,
   "outputs": [
    {
     "output_type": "execute_result",
     "data": {
      "text/plain": [
       "8     11\n",
       "9     22\n",
       "10    33\n",
       "11    44\n",
       "4     55\n",
       "5     66\n",
       "6     77\n",
       "7     88\n",
       "12    99\n",
       "13     0\n",
       "dtype: int64"
      ]
     },
     "metadata": {},
     "execution_count": 75
    }
   ]
  },
  {
   "cell_type": "code",
   "source": [
    "s2.all()"
   ],
   "metadata": {
    "colab": {
     "base_uri": "https://localhost:8080/"
    },
    "id": "0uKkINh1yjom",
    "outputId": "d6c05b6d-6763-440c-84f1-eaa5e1226d20"
   },
   "execution_count": 76,
   "outputs": [
    {
     "output_type": "execute_result",
     "data": {
      "text/plain": [
       "False"
      ]
     },
     "metadata": {},
     "execution_count": 76
    }
   ]
  },
  {
   "cell_type": "code",
   "source": [
    "s2.any()"
   ],
   "metadata": {
    "colab": {
     "base_uri": "https://localhost:8080/"
    },
    "id": "q_Z4qbZqyn7-",
    "outputId": "9d473709-f48d-4e09-c04b-8061b6842568"
   },
   "execution_count": 77,
   "outputs": [
    {
     "output_type": "execute_result",
     "data": {
      "text/plain": [
       "True"
      ]
     },
     "metadata": {},
     "execution_count": 77
    }
   ]
  },
  {
   "cell_type": "code",
   "source": [
    "pd.Series([1, 2, 3]).all()"
   ],
   "metadata": {
    "colab": {
     "base_uri": "https://localhost:8080/"
    },
    "id": "3DF8eoknyrt2",
    "outputId": "40ca2708-580a-423c-a107-c04a4bd10ca6"
   },
   "execution_count": 78,
   "outputs": [
    {
     "output_type": "execute_result",
     "data": {
      "text/plain": [
       "True"
      ]
     },
     "metadata": {},
     "execution_count": 78
    }
   ]
  },
  {
   "cell_type": "code",
   "source": [
    "pd.Series([1, 0.22, -3, \"asdsasd\", True, 1 == 1, (1, 2), [1], {1, 2}, {1: 2}]).all()"
   ],
   "metadata": {
    "colab": {
     "base_uri": "https://localhost:8080/"
    },
    "id": "W3sQUbPxywHE",
    "outputId": "6216dba7-161e-401a-90ff-4ac2d46650c7"
   },
   "execution_count": 80,
   "outputs": [
    {
     "output_type": "execute_result",
     "data": {
      "text/plain": [
       "True"
      ]
     },
     "metadata": {},
     "execution_count": 80
    }
   ]
  },
  {
   "cell_type": "code",
   "source": [
    "pd.Series([1, 0.22, -3, \"asdsasd\", True, 1 == 1, (1, 2), [1], {1, 2}, {1: 2}]).any()"
   ],
   "metadata": {
    "colab": {
     "base_uri": "https://localhost:8080/"
    },
    "id": "kl-VRUW5y3Ja",
    "outputId": "79b4fac1-4ade-476f-e8ee-9df9aeffc9e9"
   },
   "execution_count": 81,
   "outputs": [
    {
     "output_type": "execute_result",
     "data": {
      "text/plain": [
       "True"
      ]
     },
     "metadata": {},
     "execution_count": 81
    }
   ]
  },
  {
   "cell_type": "code",
   "source": [
    "pd.Series([0, 0.0, \"\", None, tuple(), list(), set(), dict(), 0 == 10, False]).all()"
   ],
   "metadata": {
    "colab": {
     "base_uri": "https://localhost:8080/"
    },
    "id": "3-oq0ny9zESS",
    "outputId": "17ac210f-87d4-44b5-d9b9-13c6383f4c27"
   },
   "execution_count": 83,
   "outputs": [
    {
     "output_type": "execute_result",
     "data": {
      "text/plain": [
       "False"
      ]
     },
     "metadata": {},
     "execution_count": 83
    }
   ]
  },
  {
   "cell_type": "code",
   "source": [
    "pd.Series([0, 0.0, \"\", None, tuple(), list(), set(), dict(), 0 == 10, False]).any()"
   ],
   "metadata": {
    "colab": {
     "base_uri": "https://localhost:8080/"
    },
    "id": "F-sSgERJzP_K",
    "outputId": "cd8af42c-911c-4304-b157-3a20d8ef9425"
   },
   "execution_count": 84,
   "outputs": [
    {
     "output_type": "execute_result",
     "data": {
      "text/plain": [
       "False"
      ]
     },
     "metadata": {},
     "execution_count": 84
    }
   ]
  },
  {
   "cell_type": "code",
   "source": [
    "pd.Series([0, 1, 2, 32, 23, 12, 23, 12, 1, 5, 2]).between(1, 10)"
   ],
   "metadata": {
    "colab": {
     "base_uri": "https://localhost:8080/"
    },
    "id": "FQncGxBZzUFt",
    "outputId": "06272149-55dc-4a76-ebe7-3780dc5dee09"
   },
   "execution_count": 85,
   "outputs": [
    {
     "output_type": "execute_result",
     "data": {
      "text/plain": [
       "0     False\n",
       "1      True\n",
       "2      True\n",
       "3     False\n",
       "4     False\n",
       "5     False\n",
       "6     False\n",
       "7     False\n",
       "8      True\n",
       "9      True\n",
       "10     True\n",
       "dtype: bool"
      ]
     },
     "metadata": {},
     "execution_count": 85
    }
   ]
  },
  {
   "cell_type": "code",
   "source": [
    "pd.Series([0, 1, 2, 32, 23, 12, 23, 12, 1, 5, 2]).clip(1, 10)"
   ],
   "metadata": {
    "colab": {
     "base_uri": "https://localhost:8080/"
    },
    "id": "JDPzh9u3zkYN",
    "outputId": "cdf2e9ac-4c43-4bad-8f60-ce0dafda96dd"
   },
   "execution_count": 86,
   "outputs": [
    {
     "output_type": "execute_result",
     "data": {
      "text/plain": [
       "0      1\n",
       "1      1\n",
       "2      2\n",
       "3     10\n",
       "4     10\n",
       "5     10\n",
       "6     10\n",
       "7     10\n",
       "8      1\n",
       "9      5\n",
       "10     2\n",
       "dtype: int64"
      ]
     },
     "metadata": {},
     "execution_count": 86
    }
   ]
  },
  {
   "cell_type": "code",
   "source": [
    "pd.Series([0, 1, 2, 32, 23, 12, 23, 12, 1, 5, 2]).count()"
   ],
   "metadata": {
    "colab": {
     "base_uri": "https://localhost:8080/"
    },
    "id": "y0kfjrzV0Fg7",
    "outputId": "2d6e502b-b986-4008-ced3-41322be41fc9"
   },
   "execution_count": 87,
   "outputs": [
    {
     "output_type": "execute_result",
     "data": {
      "text/plain": [
       "11"
      ]
     },
     "metadata": {},
     "execution_count": 87
    }
   ]
  },
  {
   "cell_type": "code",
   "source": [
    "pd.Series([0.0, 1.0, np.nan]).count()"
   ],
   "metadata": {
    "colab": {
     "base_uri": "https://localhost:8080/"
    },
    "id": "kgy0kjJN0RH8",
    "outputId": "705f922d-511b-45a9-f5e8-9ecb73e5f4a1"
   },
   "execution_count": 88,
   "outputs": [
    {
     "output_type": "execute_result",
     "data": {
      "text/plain": [
       "2"
      ]
     },
     "metadata": {},
     "execution_count": 88
    }
   ]
  },
  {
   "cell_type": "code",
   "source": [
    "pd.Series([0.0, 1.0, np.nan, None, False, 0]).count()  # non-none values count"
   ],
   "metadata": {
    "colab": {
     "base_uri": "https://localhost:8080/"
    },
    "id": "tVaOh7MD0WRq",
    "outputId": "47b37882-11ed-4eaa-cc9c-bb1e154eb838"
   },
   "execution_count": 89,
   "outputs": [
    {
     "output_type": "execute_result",
     "data": {
      "text/plain": [
       "4"
      ]
     },
     "metadata": {},
     "execution_count": 89
    }
   ]
  },
  {
   "cell_type": "code",
   "source": [
    "pd.Series([0, 1, 2, 32, 23, 12, 23, 12, 1, 5, 2]).sum()"
   ],
   "metadata": {
    "colab": {
     "base_uri": "https://localhost:8080/"
    },
    "id": "lKERdmBH0c4A",
    "outputId": "71ccca16-c8bc-4ebc-816d-a70bc1d3cb90"
   },
   "execution_count": 90,
   "outputs": [
    {
     "output_type": "execute_result",
     "data": {
      "text/plain": [
       "113"
      ]
     },
     "metadata": {},
     "execution_count": 90
    }
   ]
  },
  {
   "cell_type": "code",
   "source": [
    "pd.Series([0, 1, 2, 32, 23, 12, 23, 12, 1, 5, 2]).cumsum()"
   ],
   "metadata": {
    "colab": {
     "base_uri": "https://localhost:8080/"
    },
    "id": "cSmZEKJk0qB_",
    "outputId": "0eb07853-aab2-4de8-d9e1-da99042a2354"
   },
   "execution_count": 91,
   "outputs": [
    {
     "output_type": "execute_result",
     "data": {
      "text/plain": [
       "0       0\n",
       "1       1\n",
       "2       3\n",
       "3      35\n",
       "4      58\n",
       "5      70\n",
       "6      93\n",
       "7     105\n",
       "8     106\n",
       "9     111\n",
       "10    113\n",
       "dtype: int64"
      ]
     },
     "metadata": {},
     "execution_count": 91
    }
   ]
  },
  {
   "cell_type": "code",
   "source": [
    "pd.Series([0, 1, 2, 32, 23, 12, 23, 12, 1, 5, 2]).cumprod()"
   ],
   "metadata": {
    "colab": {
     "base_uri": "https://localhost:8080/"
    },
    "id": "9Pjj30_P0v8G",
    "outputId": "7fd42af1-22e5-4117-974e-9995dd06ce89"
   },
   "execution_count": 92,
   "outputs": [
    {
     "output_type": "execute_result",
     "data": {
      "text/plain": [
       "0     0\n",
       "1     0\n",
       "2     0\n",
       "3     0\n",
       "4     0\n",
       "5     0\n",
       "6     0\n",
       "7     0\n",
       "8     0\n",
       "9     0\n",
       "10    0\n",
       "dtype: int64"
      ]
     },
     "metadata": {},
     "execution_count": 92
    }
   ]
  },
  {
   "cell_type": "code",
   "source": [
    "pd.Series([1, 2, 32, 23, 12, 23, 12, 1, 0, 5, 2]).cumprod()"
   ],
   "metadata": {
    "colab": {
     "base_uri": "https://localhost:8080/"
    },
    "id": "4mxPFpTF022r",
    "outputId": "79c5197b-cce2-4d7d-c6ae-73d7a8c86e40"
   },
   "execution_count": 93,
   "outputs": [
    {
     "output_type": "execute_result",
     "data": {
      "text/plain": [
       "0           1\n",
       "1           2\n",
       "2          64\n",
       "3        1472\n",
       "4       17664\n",
       "5      406272\n",
       "6     4875264\n",
       "7     4875264\n",
       "8           0\n",
       "9           0\n",
       "10          0\n",
       "dtype: int64"
      ]
     },
     "metadata": {},
     "execution_count": 93
    }
   ]
  },
  {
   "cell_type": "code",
   "source": [
    "pd.Series([1, 2, 32, 23, 12, 23, 12, 1, 0, 5, 2]).prod()"
   ],
   "metadata": {
    "colab": {
     "base_uri": "https://localhost:8080/"
    },
    "id": "g8N7mwbq08ej",
    "outputId": "e0099634-594c-4d0e-d56c-f368cd3ed476"
   },
   "execution_count": 94,
   "outputs": [
    {
     "output_type": "execute_result",
     "data": {
      "text/plain": [
       "0"
      ]
     },
     "metadata": {},
     "execution_count": 94
    }
   ]
  },
  {
   "cell_type": "code",
   "source": [
    "pd.Series([1, 2, 32, 23, 12, 23, 12, 1, 0, 55, 2]).max()"
   ],
   "metadata": {
    "colab": {
     "base_uri": "https://localhost:8080/"
    },
    "id": "vBcoEyK11Clh",
    "outputId": "85508057-98ce-4744-96a3-0ef21eb7c0b1"
   },
   "execution_count": 100,
   "outputs": [
    {
     "output_type": "execute_result",
     "data": {
      "text/plain": [
       "55"
      ]
     },
     "metadata": {},
     "execution_count": 100
    }
   ]
  },
  {
   "cell_type": "code",
   "source": [
    "pd.Series([1, 2, 32, 23, 12, 23, 12, 1, 0, 55, 2]).cummax()"
   ],
   "metadata": {
    "colab": {
     "base_uri": "https://localhost:8080/"
    },
    "id": "Nj1Zl2-P1G2r",
    "outputId": "58b973be-7d0f-4bc1-b001-d5c08a6594dc"
   },
   "execution_count": 99,
   "outputs": [
    {
     "output_type": "execute_result",
     "data": {
      "text/plain": [
       "0      1\n",
       "1      2\n",
       "2     32\n",
       "3     32\n",
       "4     32\n",
       "5     32\n",
       "6     32\n",
       "7     32\n",
       "8     32\n",
       "9     55\n",
       "10    55\n",
       "dtype: int64"
      ]
     },
     "metadata": {},
     "execution_count": 99
    }
   ]
  },
  {
   "cell_type": "code",
   "source": [
    "pd.Series([1, 2, 32, 23, 12, 23, 12, 1, 0, 55, 2]).min()"
   ],
   "metadata": {
    "colab": {
     "base_uri": "https://localhost:8080/"
    },
    "id": "2as4spGC1MPx",
    "outputId": "1a656d1e-635d-46c2-f207-7e33738c6a5b"
   },
   "execution_count": 101,
   "outputs": [
    {
     "output_type": "execute_result",
     "data": {
      "text/plain": [
       "0"
      ]
     },
     "metadata": {},
     "execution_count": 101
    }
   ]
  },
  {
   "cell_type": "code",
   "source": [
    "pd.Series([1, 2, 32, 23, 12, 23, 12, 1, 0, 55, 2]).cummin()"
   ],
   "metadata": {
    "colab": {
     "base_uri": "https://localhost:8080/"
    },
    "id": "LXO7xLBd1cxE",
    "outputId": "0b123378-398f-48ae-f73c-5b69f4147d06"
   },
   "execution_count": 102,
   "outputs": [
    {
     "output_type": "execute_result",
     "data": {
      "text/plain": [
       "0     1\n",
       "1     1\n",
       "2     1\n",
       "3     1\n",
       "4     1\n",
       "5     1\n",
       "6     1\n",
       "7     1\n",
       "8     0\n",
       "9     0\n",
       "10    0\n",
       "dtype: int64"
      ]
     },
     "metadata": {},
     "execution_count": 102
    }
   ]
  },
  {
   "cell_type": "code",
   "source": [
    "pd.Series([1, 2, 32, 23, 12, 23, 12, 1, 0, 55, 2]).diff()"
   ],
   "metadata": {
    "colab": {
     "base_uri": "https://localhost:8080/"
    },
    "id": "8fXOmfea1eec",
    "outputId": "c9a1c29a-f239-4dd8-8012-29be889111ee"
   },
   "execution_count": 103,
   "outputs": [
    {
     "output_type": "execute_result",
     "data": {
      "text/plain": [
       "0      NaN\n",
       "1      1.0\n",
       "2     30.0\n",
       "3     -9.0\n",
       "4    -11.0\n",
       "5     11.0\n",
       "6    -11.0\n",
       "7    -11.0\n",
       "8     -1.0\n",
       "9     55.0\n",
       "10   -53.0\n",
       "dtype: float64"
      ]
     },
     "metadata": {},
     "execution_count": 103
    }
   ]
  },
  {
   "cell_type": "code",
   "source": [
    "pd.Series([1, 2, 32, 23, 12, 23, 12, 1, 0, 55, 2]).diff(periods=1)"
   ],
   "metadata": {
    "colab": {
     "base_uri": "https://localhost:8080/"
    },
    "id": "6rVkaSmi1mcy",
    "outputId": "4a99a71f-fb5f-4322-a727-f725ecff3e9a"
   },
   "execution_count": 105,
   "outputs": [
    {
     "output_type": "execute_result",
     "data": {
      "text/plain": [
       "0      NaN\n",
       "1      1.0\n",
       "2     30.0\n",
       "3     -9.0\n",
       "4    -11.0\n",
       "5     11.0\n",
       "6    -11.0\n",
       "7    -11.0\n",
       "8     -1.0\n",
       "9     55.0\n",
       "10   -53.0\n",
       "dtype: float64"
      ]
     },
     "metadata": {},
     "execution_count": 105
    }
   ]
  },
  {
   "cell_type": "code",
   "source": [
    "pd.Series([1, 2, 32, 23, 12, 23, 12, 1, 0, 55, 2]).diff(periods=4)"
   ],
   "metadata": {
    "colab": {
     "base_uri": "https://localhost:8080/"
    },
    "id": "RAe4XFx018TY",
    "outputId": "a47d0ee1-d638-48ff-86b5-c23c56ad43d1"
   },
   "execution_count": 106,
   "outputs": [
    {
     "output_type": "execute_result",
     "data": {
      "text/plain": [
       "0      NaN\n",
       "1      NaN\n",
       "2      NaN\n",
       "3      NaN\n",
       "4     11.0\n",
       "5     21.0\n",
       "6    -20.0\n",
       "7    -22.0\n",
       "8    -12.0\n",
       "9     32.0\n",
       "10   -10.0\n",
       "dtype: float64"
      ]
     },
     "metadata": {},
     "execution_count": 106
    }
   ]
  },
  {
   "cell_type": "code",
   "source": [
    "animals = pd.Series([\"lama\", \"cow\", \"lama\", \"beetle\", \"lama\"])\n",
    "animals.duplicated()"
   ],
   "metadata": {
    "colab": {
     "base_uri": "https://localhost:8080/"
    },
    "id": "x8oU8Vly2FS8",
    "outputId": "ecc8f5a1-884f-400b-a43f-bcb99a064db5"
   },
   "execution_count": 107,
   "outputs": [
    {
     "output_type": "execute_result",
     "data": {
      "text/plain": [
       "0    False\n",
       "1    False\n",
       "2     True\n",
       "3    False\n",
       "4     True\n",
       "dtype: bool"
      ]
     },
     "metadata": {},
     "execution_count": 107
    }
   ]
  },
  {
   "cell_type": "code",
   "source": [
    "animals.duplicated(keep=\"last\")"
   ],
   "metadata": {
    "colab": {
     "base_uri": "https://localhost:8080/"
    },
    "id": "MO7qTx7v2Rkf",
    "outputId": "db31ae82-5501-4893-e1a4-611f03a8baf6"
   },
   "execution_count": 108,
   "outputs": [
    {
     "output_type": "execute_result",
     "data": {
      "text/plain": [
       "0     True\n",
       "1    False\n",
       "2     True\n",
       "3    False\n",
       "4    False\n",
       "dtype: bool"
      ]
     },
     "metadata": {},
     "execution_count": 108
    }
   ]
  },
  {
   "cell_type": "code",
   "source": [
    "animals[animals.duplicated(keep=\"last\")]"
   ],
   "metadata": {
    "colab": {
     "base_uri": "https://localhost:8080/"
    },
    "id": "mbrOWEQQ2lOh",
    "outputId": "97a1a6e8-e9f0-4994-9332-67fa34f81d19"
   },
   "execution_count": 109,
   "outputs": [
    {
     "output_type": "execute_result",
     "data": {
      "text/plain": [
       "0    lama\n",
       "2    lama\n",
       "dtype: object"
      ]
     },
     "metadata": {},
     "execution_count": 109
    }
   ]
  },
  {
   "cell_type": "code",
   "source": [
    "animals[animals.duplicated(keep=\"last\")].index"
   ],
   "metadata": {
    "colab": {
     "base_uri": "https://localhost:8080/"
    },
    "id": "wJg1mORM2oR_",
    "outputId": "d1c02c76-ef21-4cfe-e25f-27b39c0961f6"
   },
   "execution_count": 110,
   "outputs": [
    {
     "output_type": "execute_result",
     "data": {
      "text/plain": [
       "Int64Index([0, 2], dtype='int64')"
      ]
     },
     "metadata": {},
     "execution_count": 110
    }
   ]
  },
  {
   "cell_type": "code",
   "source": [
    "animals"
   ],
   "metadata": {
    "colab": {
     "base_uri": "https://localhost:8080/"
    },
    "id": "lIBkrCjy2sW2",
    "outputId": "b91ba9ed-c9a5-42f5-a415-89fd9ef935bc"
   },
   "execution_count": 111,
   "outputs": [
    {
     "output_type": "execute_result",
     "data": {
      "text/plain": [
       "0      lama\n",
       "1       cow\n",
       "2      lama\n",
       "3    beetle\n",
       "4      lama\n",
       "dtype: object"
      ]
     },
     "metadata": {},
     "execution_count": 111
    }
   ]
  },
  {
   "cell_type": "code",
   "source": [
    "animals.to_list()"
   ],
   "metadata": {
    "colab": {
     "base_uri": "https://localhost:8080/"
    },
    "id": "c3I9yzla2_ZG",
    "outputId": "212afa3a-90b5-4d27-ba42-908f085403b7"
   },
   "execution_count": 112,
   "outputs": [
    {
     "output_type": "execute_result",
     "data": {
      "text/plain": [
       "['lama', 'cow', 'lama', 'beetle', 'lama']"
      ]
     },
     "metadata": {},
     "execution_count": 112
    }
   ]
  },
  {
   "cell_type": "code",
   "source": [
    "animals.to_dict()"
   ],
   "metadata": {
    "colab": {
     "base_uri": "https://localhost:8080/"
    },
    "id": "CVs1OnHz3B2H",
    "outputId": "4ed613ad-fe5e-4cb0-f779-46f39dbc972c"
   },
   "execution_count": 113,
   "outputs": [
    {
     "output_type": "execute_result",
     "data": {
      "text/plain": [
       "{0: 'lama', 1: 'cow', 2: 'lama', 3: 'beetle', 4: 'lama'}"
      ]
     },
     "metadata": {},
     "execution_count": 113
    }
   ]
  },
  {
   "cell_type": "code",
   "source": [
    "dict(animals)"
   ],
   "metadata": {
    "colab": {
     "base_uri": "https://localhost:8080/"
    },
    "id": "SGZp_dPe3GkI",
    "outputId": "dd6b0ba2-a785-4e17-ee10-33c4ed0a9e77"
   },
   "execution_count": 115,
   "outputs": [
    {
     "output_type": "execute_result",
     "data": {
      "text/plain": [
       "{0: 'lama', 1: 'cow', 2: 'lama', 3: 'beetle', 4: 'lama'}"
      ]
     },
     "metadata": {},
     "execution_count": 115
    }
   ]
  },
  {
   "cell_type": "code",
   "source": [
    "animals.to_json()"
   ],
   "metadata": {
    "colab": {
     "base_uri": "https://localhost:8080/",
     "height": 36
    },
    "id": "sY-1QkSW3EeE",
    "outputId": "86eb5792-bcbd-44f5-99a7-e98962d3aec2"
   },
   "execution_count": 114,
   "outputs": [
    {
     "output_type": "execute_result",
     "data": {
      "text/plain": [
       "'{\"0\":\"lama\",\"1\":\"cow\",\"2\":\"lama\",\"3\":\"beetle\",\"4\":\"lama\"}'"
      ],
      "application/vnd.google.colaboratory.intrinsic+json": {
       "type": "string"
      }
     },
     "metadata": {},
     "execution_count": 114
    }
   ]
  },
  {
   "cell_type": "code",
   "source": [
    "import json\n",
    "\n",
    "try:\n",
    "    json.dumps(animals)\n",
    "except TypeError as ex:\n",
    "    print(repr(ex))"
   ],
   "metadata": {
    "colab": {
     "base_uri": "https://localhost:8080/"
    },
    "id": "b3BYNMci3IzH",
    "outputId": "f7a39a95-b011-434f-ab1d-f46525857d1c"
   },
   "execution_count": 118,
   "outputs": [
    {
     "output_type": "stream",
     "name": "stdout",
     "text": [
      "TypeError('Object of type Series is not JSON serializable')\n"
     ]
    }
   ]
  },
  {
   "cell_type": "code",
   "source": [
    "animals.to_string()"
   ],
   "metadata": {
    "colab": {
     "base_uri": "https://localhost:8080/",
     "height": 36
    },
    "id": "Rr8cfg_N3Qwl",
    "outputId": "c713e083-8a44-49c7-f43a-d6934354cdd7"
   },
   "execution_count": 119,
   "outputs": [
    {
     "output_type": "execute_result",
     "data": {
      "text/plain": [
       "'0      lama\\n1       cow\\n2      lama\\n3    beetle\\n4      lama'"
      ],
      "application/vnd.google.colaboratory.intrinsic+json": {
       "type": "string"
      }
     },
     "metadata": {},
     "execution_count": 119
    }
   ]
  },
  {
   "cell_type": "code",
   "source": [
    "print(animals.to_string())"
   ],
   "metadata": {
    "colab": {
     "base_uri": "https://localhost:8080/"
    },
    "id": "ph-5rfKE3eQc",
    "outputId": "8c103b28-ff7d-4cd2-8727-5604c9d48671"
   },
   "execution_count": 120,
   "outputs": [
    {
     "output_type": "stream",
     "name": "stdout",
     "text": [
      "0      lama\n",
      "1       cow\n",
      "2      lama\n",
      "3    beetle\n",
      "4      lama\n"
     ]
    }
   ]
  },
  {
   "cell_type": "code",
   "source": [
    "animals.to_frame()"
   ],
   "metadata": {
    "colab": {
     "base_uri": "https://localhost:8080/",
     "height": 206
    },
    "id": "ezI9VNRI3gtC",
    "outputId": "bd8e847c-35d5-40e3-cc27-d2df1646b38f"
   },
   "execution_count": 121,
   "outputs": [
    {
     "output_type": "execute_result",
     "data": {
      "text/plain": [
       "        0\n",
       "0    lama\n",
       "1     cow\n",
       "2    lama\n",
       "3  beetle\n",
       "4    lama"
      ],
      "text/html": [
       "\n",
       "  <div id=\"df-a528e5a4-d951-4638-9285-269bd60891c3\">\n",
       "    <div class=\"colab-df-container\">\n",
       "      <div>\n",
       "<style scoped>\n",
       "    .dataframe tbody tr th:only-of-type {\n",
       "        vertical-align: middle;\n",
       "    }\n",
       "\n",
       "    .dataframe tbody tr th {\n",
       "        vertical-align: top;\n",
       "    }\n",
       "\n",
       "    .dataframe thead th {\n",
       "        text-align: right;\n",
       "    }\n",
       "</style>\n",
       "<table border=\"1\" class=\"dataframe\">\n",
       "  <thead>\n",
       "    <tr style=\"text-align: right;\">\n",
       "      <th></th>\n",
       "      <th>0</th>\n",
       "    </tr>\n",
       "  </thead>\n",
       "  <tbody>\n",
       "    <tr>\n",
       "      <th>0</th>\n",
       "      <td>lama</td>\n",
       "    </tr>\n",
       "    <tr>\n",
       "      <th>1</th>\n",
       "      <td>cow</td>\n",
       "    </tr>\n",
       "    <tr>\n",
       "      <th>2</th>\n",
       "      <td>lama</td>\n",
       "    </tr>\n",
       "    <tr>\n",
       "      <th>3</th>\n",
       "      <td>beetle</td>\n",
       "    </tr>\n",
       "    <tr>\n",
       "      <th>4</th>\n",
       "      <td>lama</td>\n",
       "    </tr>\n",
       "  </tbody>\n",
       "</table>\n",
       "</div>\n",
       "      <button class=\"colab-df-convert\" onclick=\"convertToInteractive('df-a528e5a4-d951-4638-9285-269bd60891c3')\"\n",
       "              title=\"Convert this dataframe to an interactive table.\"\n",
       "              style=\"display:none;\">\n",
       "        \n",
       "  <svg xmlns=\"http://www.w3.org/2000/svg\" height=\"24px\"viewBox=\"0 0 24 24\"\n",
       "       width=\"24px\">\n",
       "    <path d=\"M0 0h24v24H0V0z\" fill=\"none\"/>\n",
       "    <path d=\"M18.56 5.44l.94 2.06.94-2.06 2.06-.94-2.06-.94-.94-2.06-.94 2.06-2.06.94zm-11 1L8.5 8.5l.94-2.06 2.06-.94-2.06-.94L8.5 2.5l-.94 2.06-2.06.94zm10 10l.94 2.06.94-2.06 2.06-.94-2.06-.94-.94-2.06-.94 2.06-2.06.94z\"/><path d=\"M17.41 7.96l-1.37-1.37c-.4-.4-.92-.59-1.43-.59-.52 0-1.04.2-1.43.59L10.3 9.45l-7.72 7.72c-.78.78-.78 2.05 0 2.83L4 21.41c.39.39.9.59 1.41.59.51 0 1.02-.2 1.41-.59l7.78-7.78 2.81-2.81c.8-.78.8-2.07 0-2.86zM5.41 20L4 18.59l7.72-7.72 1.47 1.35L5.41 20z\"/>\n",
       "  </svg>\n",
       "      </button>\n",
       "      \n",
       "  <style>\n",
       "    .colab-df-container {\n",
       "      display:flex;\n",
       "      flex-wrap:wrap;\n",
       "      gap: 12px;\n",
       "    }\n",
       "\n",
       "    .colab-df-convert {\n",
       "      background-color: #E8F0FE;\n",
       "      border: none;\n",
       "      border-radius: 50%;\n",
       "      cursor: pointer;\n",
       "      display: none;\n",
       "      fill: #1967D2;\n",
       "      height: 32px;\n",
       "      padding: 0 0 0 0;\n",
       "      width: 32px;\n",
       "    }\n",
       "\n",
       "    .colab-df-convert:hover {\n",
       "      background-color: #E2EBFA;\n",
       "      box-shadow: 0px 1px 2px rgba(60, 64, 67, 0.3), 0px 1px 3px 1px rgba(60, 64, 67, 0.15);\n",
       "      fill: #174EA6;\n",
       "    }\n",
       "\n",
       "    [theme=dark] .colab-df-convert {\n",
       "      background-color: #3B4455;\n",
       "      fill: #D2E3FC;\n",
       "    }\n",
       "\n",
       "    [theme=dark] .colab-df-convert:hover {\n",
       "      background-color: #434B5C;\n",
       "      box-shadow: 0px 1px 3px 1px rgba(0, 0, 0, 0.15);\n",
       "      filter: drop-shadow(0px 1px 2px rgba(0, 0, 0, 0.3));\n",
       "      fill: #FFFFFF;\n",
       "    }\n",
       "  </style>\n",
       "\n",
       "      <script>\n",
       "        const buttonEl =\n",
       "          document.querySelector('#df-a528e5a4-d951-4638-9285-269bd60891c3 button.colab-df-convert');\n",
       "        buttonEl.style.display =\n",
       "          google.colab.kernel.accessAllowed ? 'block' : 'none';\n",
       "\n",
       "        async function convertToInteractive(key) {\n",
       "          const element = document.querySelector('#df-a528e5a4-d951-4638-9285-269bd60891c3');\n",
       "          const dataTable =\n",
       "            await google.colab.kernel.invokeFunction('convertToInteractive',\n",
       "                                                     [key], {});\n",
       "          if (!dataTable) return;\n",
       "\n",
       "          const docLinkHtml = 'Like what you see? Visit the ' +\n",
       "            '<a target=\"_blank\" href=https://colab.research.google.com/notebooks/data_table.ipynb>data table notebook</a>'\n",
       "            + ' to learn more about interactive tables.';\n",
       "          element.innerHTML = '';\n",
       "          dataTable['output_type'] = 'display_data';\n",
       "          await google.colab.output.renderOutput(dataTable, element);\n",
       "          const docLink = document.createElement('div');\n",
       "          docLink.innerHTML = docLinkHtml;\n",
       "          element.appendChild(docLink);\n",
       "        }\n",
       "      </script>\n",
       "    </div>\n",
       "  </div>\n",
       "  "
      ]
     },
     "metadata": {},
     "execution_count": 121
    }
   ]
  },
  {
   "cell_type": "code",
   "source": [
    "import os\n",
    "\n",
    "os.listdir()"
   ],
   "metadata": {
    "colab": {
     "base_uri": "https://localhost:8080/"
    },
    "id": "TxQs36gR3kpl",
    "outputId": "e34bb87d-f4b8-440b-b400-d9517128f214"
   },
   "execution_count": 122,
   "outputs": [
    {
     "output_type": "execute_result",
     "data": {
      "text/plain": [
       "['.config', 'sample_data']"
      ]
     },
     "metadata": {},
     "execution_count": 122
    }
   ]
  },
  {
   "cell_type": "code",
   "source": [
    "animals.to_pickle(\"animals.pkl\")"
   ],
   "metadata": {
    "id": "R0LWl_RJ3r1j"
   },
   "execution_count": 123,
   "outputs": []
  },
  {
   "cell_type": "code",
   "source": [
    "animals.to_csv(\"animals.csv\")"
   ],
   "metadata": {
    "id": "6iJP8s4C3wbL"
   },
   "execution_count": 124,
   "outputs": []
  },
  {
   "cell_type": "code",
   "source": [
    "animals.to_json(\"animals.json\")"
   ],
   "metadata": {
    "id": "VfoWQHF23zXn"
   },
   "execution_count": 125,
   "outputs": []
  },
  {
   "cell_type": "code",
   "source": [
    "os.listdir()"
   ],
   "metadata": {
    "colab": {
     "base_uri": "https://localhost:8080/"
    },
    "id": "8hiYhczo34R3",
    "outputId": "52e60a7c-ba5d-42d7-9211-0756ddb0289a"
   },
   "execution_count": 126,
   "outputs": [
    {
     "output_type": "execute_result",
     "data": {
      "text/plain": [
       "['.config', 'animals.csv', 'animals.json', 'animals.pkl', 'sample_data']"
      ]
     },
     "metadata": {},
     "execution_count": 126
    }
   ]
  },
  {
   "cell_type": "code",
   "source": [
    "animals.to_clipboard()"
   ],
   "metadata": {
    "colab": {
     "base_uri": "https://localhost:8080/",
     "height": 380
    },
    "id": "LCKKx_hc363W",
    "outputId": "bf99b334-8c0e-4e03-d750-e4c2412e75b0"
   },
   "execution_count": 127,
   "outputs": [
    {
     "output_type": "error",
     "ename": "PyperclipException",
     "evalue": "ignored",
     "traceback": [
      "\u001b[0;31m---------------------------------------------------------------------------\u001b[0m",
      "\u001b[0;31mPyperclipException\u001b[0m                        Traceback (most recent call last)",
      "\u001b[0;32m<ipython-input-127-bb305548419c>\u001b[0m in \u001b[0;36m<cell line: 1>\u001b[0;34m()\u001b[0m\n\u001b[0;32m----> 1\u001b[0;31m \u001b[0manimals\u001b[0m\u001b[0;34m.\u001b[0m\u001b[0mto_clipboard\u001b[0m\u001b[0;34m(\u001b[0m\u001b[0;34m)\u001b[0m\u001b[0;34m\u001b[0m\u001b[0;34m\u001b[0m\u001b[0m\n\u001b[0m",
      "\u001b[0;32m/usr/local/lib/python3.9/dist-packages/pandas/core/generic.py\u001b[0m in \u001b[0;36mto_clipboard\u001b[0;34m(self, excel, sep, **kwargs)\u001b[0m\n\u001b[1;32m   3092\u001b[0m         \u001b[0;32mfrom\u001b[0m \u001b[0mpandas\u001b[0m\u001b[0;34m.\u001b[0m\u001b[0mio\u001b[0m \u001b[0;32mimport\u001b[0m \u001b[0mclipboards\u001b[0m\u001b[0;34m\u001b[0m\u001b[0;34m\u001b[0m\u001b[0m\n\u001b[1;32m   3093\u001b[0m \u001b[0;34m\u001b[0m\u001b[0m\n\u001b[0;32m-> 3094\u001b[0;31m         \u001b[0mclipboards\u001b[0m\u001b[0;34m.\u001b[0m\u001b[0mto_clipboard\u001b[0m\u001b[0;34m(\u001b[0m\u001b[0mself\u001b[0m\u001b[0;34m,\u001b[0m \u001b[0mexcel\u001b[0m\u001b[0;34m=\u001b[0m\u001b[0mexcel\u001b[0m\u001b[0;34m,\u001b[0m \u001b[0msep\u001b[0m\u001b[0;34m=\u001b[0m\u001b[0msep\u001b[0m\u001b[0;34m,\u001b[0m \u001b[0;34m**\u001b[0m\u001b[0mkwargs\u001b[0m\u001b[0;34m)\u001b[0m\u001b[0;34m\u001b[0m\u001b[0;34m\u001b[0m\u001b[0m\n\u001b[0m\u001b[1;32m   3095\u001b[0m \u001b[0;34m\u001b[0m\u001b[0m\n\u001b[1;32m   3096\u001b[0m     \u001b[0;34m@\u001b[0m\u001b[0mfinal\u001b[0m\u001b[0;34m\u001b[0m\u001b[0;34m\u001b[0m\u001b[0m\n",
      "\u001b[0;32m/usr/local/lib/python3.9/dist-packages/pandas/io/clipboards.py\u001b[0m in \u001b[0;36mto_clipboard\u001b[0;34m(obj, excel, sep, **kwargs)\u001b[0m\n\u001b[1;32m    132\u001b[0m             \u001b[0mtext\u001b[0m \u001b[0;34m=\u001b[0m \u001b[0mbuf\u001b[0m\u001b[0;34m.\u001b[0m\u001b[0mgetvalue\u001b[0m\u001b[0;34m(\u001b[0m\u001b[0;34m)\u001b[0m\u001b[0;34m\u001b[0m\u001b[0;34m\u001b[0m\u001b[0m\n\u001b[1;32m    133\u001b[0m \u001b[0;34m\u001b[0m\u001b[0m\n\u001b[0;32m--> 134\u001b[0;31m             \u001b[0mclipboard_set\u001b[0m\u001b[0;34m(\u001b[0m\u001b[0mtext\u001b[0m\u001b[0;34m)\u001b[0m\u001b[0;34m\u001b[0m\u001b[0;34m\u001b[0m\u001b[0m\n\u001b[0m\u001b[1;32m    135\u001b[0m             \u001b[0;32mreturn\u001b[0m\u001b[0;34m\u001b[0m\u001b[0;34m\u001b[0m\u001b[0m\n\u001b[1;32m    136\u001b[0m         \u001b[0;32mexcept\u001b[0m \u001b[0mTypeError\u001b[0m\u001b[0;34m:\u001b[0m\u001b[0;34m\u001b[0m\u001b[0;34m\u001b[0m\u001b[0m\n",
      "\u001b[0;32m/usr/local/lib/python3.9/dist-packages/pandas/io/clipboard/__init__.py\u001b[0m in \u001b[0;36mlazy_load_stub_copy\u001b[0;34m(text)\u001b[0m\n\u001b[1;32m    635\u001b[0m     \u001b[0;32mglobal\u001b[0m \u001b[0mcopy\u001b[0m\u001b[0;34m,\u001b[0m \u001b[0mpaste\u001b[0m\u001b[0;34m\u001b[0m\u001b[0;34m\u001b[0m\u001b[0m\n\u001b[1;32m    636\u001b[0m     \u001b[0mcopy\u001b[0m\u001b[0;34m,\u001b[0m \u001b[0mpaste\u001b[0m \u001b[0;34m=\u001b[0m \u001b[0mdetermine_clipboard\u001b[0m\u001b[0;34m(\u001b[0m\u001b[0;34m)\u001b[0m\u001b[0;34m\u001b[0m\u001b[0;34m\u001b[0m\u001b[0m\n\u001b[0;32m--> 637\u001b[0;31m     \u001b[0;32mreturn\u001b[0m \u001b[0mcopy\u001b[0m\u001b[0;34m(\u001b[0m\u001b[0mtext\u001b[0m\u001b[0;34m)\u001b[0m\u001b[0;34m\u001b[0m\u001b[0;34m\u001b[0m\u001b[0m\n\u001b[0m\u001b[1;32m    638\u001b[0m \u001b[0;34m\u001b[0m\u001b[0m\n\u001b[1;32m    639\u001b[0m \u001b[0;34m\u001b[0m\u001b[0m\n",
      "\u001b[0;32m/usr/local/lib/python3.9/dist-packages/pandas/io/clipboard/__init__.py\u001b[0m in \u001b[0;36m__call__\u001b[0;34m(self, *args, **kwargs)\u001b[0m\n\u001b[1;32m    296\u001b[0m     \u001b[0;32mclass\u001b[0m \u001b[0mClipboardUnavailable\u001b[0m\u001b[0;34m:\u001b[0m\u001b[0;34m\u001b[0m\u001b[0;34m\u001b[0m\u001b[0m\n\u001b[1;32m    297\u001b[0m         \u001b[0;32mdef\u001b[0m \u001b[0m__call__\u001b[0m\u001b[0;34m(\u001b[0m\u001b[0mself\u001b[0m\u001b[0;34m,\u001b[0m \u001b[0;34m*\u001b[0m\u001b[0margs\u001b[0m\u001b[0;34m,\u001b[0m \u001b[0;34m**\u001b[0m\u001b[0mkwargs\u001b[0m\u001b[0;34m)\u001b[0m\u001b[0;34m:\u001b[0m\u001b[0;34m\u001b[0m\u001b[0;34m\u001b[0m\u001b[0m\n\u001b[0;32m--> 298\u001b[0;31m             \u001b[0;32mraise\u001b[0m \u001b[0mPyperclipException\u001b[0m\u001b[0;34m(\u001b[0m\u001b[0mEXCEPT_MSG\u001b[0m\u001b[0;34m)\u001b[0m\u001b[0;34m\u001b[0m\u001b[0;34m\u001b[0m\u001b[0m\n\u001b[0m\u001b[1;32m    299\u001b[0m \u001b[0;34m\u001b[0m\u001b[0m\n\u001b[1;32m    300\u001b[0m         \u001b[0;32mdef\u001b[0m \u001b[0m__bool__\u001b[0m\u001b[0;34m(\u001b[0m\u001b[0mself\u001b[0m\u001b[0;34m)\u001b[0m \u001b[0;34m->\u001b[0m \u001b[0mbool\u001b[0m\u001b[0;34m:\u001b[0m\u001b[0;34m\u001b[0m\u001b[0;34m\u001b[0m\u001b[0m\n",
      "\u001b[0;31mPyperclipException\u001b[0m: \n    Pyperclip could not find a copy/paste mechanism for your system.\n    For more information, please visit\n    https://pyperclip.readthedocs.io/en/latest/#not-implemented-error\n    "
     ]
    }
   ]
  },
  {
   "cell_type": "code",
   "source": [
    "animals.to_latex()"
   ],
   "metadata": {
    "colab": {
     "base_uri": "https://localhost:8080/",
     "height": 108
    },
    "id": "0YKOZVCZ4B0w",
    "outputId": "42a2cff8-1cf9-4212-c779-c432429bad25"
   },
   "execution_count": 128,
   "outputs": [
    {
     "output_type": "stream",
     "name": "stderr",
     "text": [
      "<ipython-input-128-2e8c68d5588c>:1: FutureWarning: In future versions `DataFrame.to_latex` is expected to utilise the base implementation of `Styler.to_latex` for formatting and rendering. The arguments signature may therefore change. It is recommended instead to use `DataFrame.style.to_latex` which also contains additional functionality.\n",
      "  animals.to_latex()\n"
     ]
    },
    {
     "output_type": "execute_result",
     "data": {
      "text/plain": [
       "'\\\\begin{tabular}{ll}\\n\\\\toprule\\n{} &       0 \\\\\\\\\\n\\\\midrule\\n0 &    lama \\\\\\\\\\n1 &     cow \\\\\\\\\\n2 &    lama \\\\\\\\\\n3 &  beetle \\\\\\\\\\n4 &    lama \\\\\\\\\\n\\\\bottomrule\\n\\\\end{tabular}\\n'"
      ],
      "application/vnd.google.colaboratory.intrinsic+json": {
       "type": "string"
      }
     },
     "metadata": {},
     "execution_count": 128
    }
   ]
  },
  {
   "cell_type": "code",
   "source": [
    "! pip install -U tabulate\n",
    "\n",
    "\n",
    "animals.to_markdown()"
   ],
   "metadata": {
    "colab": {
     "base_uri": "https://localhost:8080/",
     "height": 295
    },
    "id": "pnwn5EQ04TnG",
    "outputId": "dcf07a65-9fb0-492c-d6ae-bd20c1fb8288"
   },
   "execution_count": 129,
   "outputs": [
    {
     "output_type": "stream",
     "name": "stdout",
     "text": [
      "Looking in indexes: https://pypi.org/simple, https://us-python.pkg.dev/colab-wheels/public/simple/\n",
      "Requirement already satisfied: tabulate in /usr/local/lib/python3.9/dist-packages (0.8.10)\n",
      "Collecting tabulate\n",
      "  Downloading tabulate-0.9.0-py3-none-any.whl (35 kB)\n",
      "Installing collected packages: tabulate\n",
      "  Attempting uninstall: tabulate\n",
      "    Found existing installation: tabulate 0.8.10\n",
      "    Uninstalling tabulate-0.8.10:\n",
      "      Successfully uninstalled tabulate-0.8.10\n",
      "Successfully installed tabulate-0.9.0\n"
     ]
    },
    {
     "output_type": "display_data",
     "data": {
      "application/vnd.colab-display-data+json": {
       "pip_warning": {
        "packages": [
         "tabulate"
        ]
       }
      }
     },
     "metadata": {}
    },
    {
     "output_type": "execute_result",
     "data": {
      "text/plain": [
       "'|    | 0      |\\n|---:|:-------|\\n|  0 | lama   |\\n|  1 | cow    |\\n|  2 | lama   |\\n|  3 | beetle |\\n|  4 | lama   |'"
      ],
      "application/vnd.google.colaboratory.intrinsic+json": {
       "type": "string"
      }
     },
     "metadata": {},
     "execution_count": 129
    }
   ]
  },
  {
   "cell_type": "code",
   "source": [
    "animals"
   ],
   "metadata": {
    "colab": {
     "base_uri": "https://localhost:8080/"
    },
    "id": "BCzp1wrl4aav",
    "outputId": "1e9ec3d0-4941-44dc-8bb4-9969f8be0af8"
   },
   "execution_count": 130,
   "outputs": [
    {
     "output_type": "execute_result",
     "data": {
      "text/plain": [
       "0      lama\n",
       "1       cow\n",
       "2      lama\n",
       "3    beetle\n",
       "4      lama\n",
       "dtype: object"
      ]
     },
     "metadata": {},
     "execution_count": 130
    }
   ]
  },
  {
   "cell_type": "code",
   "source": [
    "animals.transpose()"
   ],
   "metadata": {
    "colab": {
     "base_uri": "https://localhost:8080/"
    },
    "id": "XvwOGAyw4g9k",
    "outputId": "ca0e4c3e-aac4-4d2b-89f2-973b06f4dd5d"
   },
   "execution_count": 131,
   "outputs": [
    {
     "output_type": "execute_result",
     "data": {
      "text/plain": [
       "0      lama\n",
       "1       cow\n",
       "2      lama\n",
       "3    beetle\n",
       "4      lama\n",
       "dtype: object"
      ]
     },
     "metadata": {},
     "execution_count": 131
    }
   ]
  },
  {
   "cell_type": "code",
   "source": [
    "pd.Series((11, 22, 33, 44, 66)).transpose()"
   ],
   "metadata": {
    "colab": {
     "base_uri": "https://localhost:8080/"
    },
    "id": "Zqsl6zZJ5Owt",
    "outputId": "eefa3be1-174d-4a7b-fa4d-ace1bf8239be"
   },
   "execution_count": 133,
   "outputs": [
    {
     "output_type": "execute_result",
     "data": {
      "text/plain": [
       "0    11\n",
       "1    22\n",
       "2    33\n",
       "3    44\n",
       "4    66\n",
       "dtype: int64"
      ]
     },
     "metadata": {},
     "execution_count": 133
    }
   ]
  },
  {
   "cell_type": "code",
   "source": [
    "pd.Series((11, 22, 33, 44, 66)).interpolate()"
   ],
   "metadata": {
    "colab": {
     "base_uri": "https://localhost:8080/"
    },
    "id": "Q-EiEciv5ZLt",
    "outputId": "a3296242-aea2-40f8-8741-51c59b961aba"
   },
   "execution_count": 134,
   "outputs": [
    {
     "output_type": "execute_result",
     "data": {
      "text/plain": [
       "0    11\n",
       "1    22\n",
       "2    33\n",
       "3    44\n",
       "4    66\n",
       "dtype: int64"
      ]
     },
     "metadata": {},
     "execution_count": 134
    }
   ]
  },
  {
   "cell_type": "code",
   "source": [
    "pd.Series((11, 22, 33, np.nan, 66)).interpolate()"
   ],
   "metadata": {
    "colab": {
     "base_uri": "https://localhost:8080/"
    },
    "id": "Fh98qSuw57Uj",
    "outputId": "3d00fd17-c27a-47a8-a05e-8c868aea8e00"
   },
   "execution_count": 135,
   "outputs": [
    {
     "output_type": "execute_result",
     "data": {
      "text/plain": [
       "0    11.0\n",
       "1    22.0\n",
       "2    33.0\n",
       "3    49.5\n",
       "4    66.0\n",
       "dtype: float64"
      ]
     },
     "metadata": {},
     "execution_count": 135
    }
   ]
  },
  {
   "cell_type": "code",
   "source": [
    "pd.Series((11, 22, np.nan, 44, None, 66)).interpolate()"
   ],
   "metadata": {
    "colab": {
     "base_uri": "https://localhost:8080/"
    },
    "id": "TzGwozvg6R4R",
    "outputId": "e048f780-f502-45f7-fd45-c9fe025b5f9e"
   },
   "execution_count": 136,
   "outputs": [
    {
     "output_type": "execute_result",
     "data": {
      "text/plain": [
       "0    11.0\n",
       "1    22.0\n",
       "2    33.0\n",
       "3    44.0\n",
       "4    55.0\n",
       "5    66.0\n",
       "dtype: float64"
      ]
     },
     "metadata": {},
     "execution_count": 136
    }
   ]
  },
  {
   "cell_type": "code",
   "source": [
    "pd.Series((11, 22, np.nan, 44, None, 66)).is_monotonic_increasing"
   ],
   "metadata": {
    "colab": {
     "base_uri": "https://localhost:8080/"
    },
    "id": "kjUG17Ty6YPA",
    "outputId": "73afdf34-5236-4a0f-9267-d70b1c018631"
   },
   "execution_count": 138,
   "outputs": [
    {
     "output_type": "execute_result",
     "data": {
      "text/plain": [
       "False"
      ]
     },
     "metadata": {},
     "execution_count": 138
    }
   ]
  },
  {
   "cell_type": "code",
   "source": [
    "pd.Series((11, 22, 33, 44, 55, 66)).is_monotonic_increasing"
   ],
   "metadata": {
    "colab": {
     "base_uri": "https://localhost:8080/"
    },
    "id": "6xMmKDcS6klK",
    "outputId": "61383570-21f2-4bca-875a-483b88800231"
   },
   "execution_count": 139,
   "outputs": [
    {
     "output_type": "execute_result",
     "data": {
      "text/plain": [
       "True"
      ]
     },
     "metadata": {},
     "execution_count": 139
    }
   ]
  },
  {
   "cell_type": "code",
   "source": [
    "pd.Series((11, 22, 33, 44, 77, 66)).is_monotonic_increasing"
   ],
   "metadata": {
    "colab": {
     "base_uri": "https://localhost:8080/"
    },
    "id": "L-YetHND6qj5",
    "outputId": "2e229767-52b9-46b0-a80e-1301a7d51aa0"
   },
   "execution_count": 140,
   "outputs": [
    {
     "output_type": "execute_result",
     "data": {
      "text/plain": [
       "False"
      ]
     },
     "metadata": {},
     "execution_count": 140
    }
   ]
  },
  {
   "cell_type": "code",
   "source": [
    "pd.Series((77, 66, 55, 44, 33, 22, 11)).is_monotonic_increasing"
   ],
   "metadata": {
    "colab": {
     "base_uri": "https://localhost:8080/"
    },
    "id": "ma1V-YJG6tWr",
    "outputId": "d06a0f24-c7a6-4dba-8e0d-456daaacc189"
   },
   "execution_count": 142,
   "outputs": [
    {
     "output_type": "execute_result",
     "data": {
      "text/plain": [
       "False"
      ]
     },
     "metadata": {},
     "execution_count": 142
    }
   ]
  },
  {
   "cell_type": "code",
   "source": [
    "pd.Series((77, 66, 55, 44, 33, 22, 11)).is_monotonic_decreasing"
   ],
   "metadata": {
    "colab": {
     "base_uri": "https://localhost:8080/"
    },
    "id": "gybrMrrz60Dy",
    "outputId": "d5b788aa-a46a-4c37-a2e9-5f2e31892c8c"
   },
   "execution_count": 143,
   "outputs": [
    {
     "output_type": "execute_result",
     "data": {
      "text/plain": [
       "True"
      ]
     },
     "metadata": {},
     "execution_count": 143
    }
   ]
  },
  {
   "cell_type": "code",
   "source": [
    "pd.Series((77, 66, 55, 44, 33, 22, 11)).is_unique"
   ],
   "metadata": {
    "colab": {
     "base_uri": "https://localhost:8080/"
    },
    "id": "AlHW154K64xn",
    "outputId": "3e0494c1-fa52-420c-a8e7-639c87c25eea"
   },
   "execution_count": 144,
   "outputs": [
    {
     "output_type": "execute_result",
     "data": {
      "text/plain": [
       "True"
      ]
     },
     "metadata": {},
     "execution_count": 144
    }
   ]
  },
  {
   "cell_type": "code",
   "source": [
    "pd.Series((77, 66, 55, 44, 33, 22, 11)).pad()"
   ],
   "metadata": {
    "colab": {
     "base_uri": "https://localhost:8080/"
    },
    "id": "MWbeE0T_6-JJ",
    "outputId": "e1f2fab7-c488-4fac-d467-dbcbd5ed6d5d"
   },
   "execution_count": 146,
   "outputs": [
    {
     "output_type": "execute_result",
     "data": {
      "text/plain": [
       "0    77\n",
       "1    66\n",
       "2    55\n",
       "3    44\n",
       "4    33\n",
       "5    22\n",
       "6    11\n",
       "dtype: int64"
      ]
     },
     "metadata": {},
     "execution_count": 146
    }
   ]
  },
  {
   "cell_type": "code",
   "source": [
    "pd.Series((77, 66, 55, np.nan, 33, None, 11)).pad()"
   ],
   "metadata": {
    "colab": {
     "base_uri": "https://localhost:8080/"
    },
    "id": "-QlpY9vx7CfY",
    "outputId": "f6de1a77-e10b-4dbd-cae8-c18846e10dfe"
   },
   "execution_count": 147,
   "outputs": [
    {
     "output_type": "execute_result",
     "data": {
      "text/plain": [
       "0    77.0\n",
       "1    66.0\n",
       "2    55.0\n",
       "3    55.0\n",
       "4    33.0\n",
       "5    33.0\n",
       "6    11.0\n",
       "dtype: float64"
      ]
     },
     "metadata": {},
     "execution_count": 147
    }
   ]
  },
  {
   "cell_type": "code",
   "source": [
    "pd.Series((88, 66, 55, np.nan, 33, None, 11)).pad()"
   ],
   "metadata": {
    "colab": {
     "base_uri": "https://localhost:8080/"
    },
    "id": "oggn2Ie07KtK",
    "outputId": "2d8ebd43-5ccf-42fd-d51d-63bfcd09cd22"
   },
   "execution_count": 148,
   "outputs": [
    {
     "output_type": "execute_result",
     "data": {
      "text/plain": [
       "0    88.0\n",
       "1    66.0\n",
       "2    55.0\n",
       "3    55.0\n",
       "4    33.0\n",
       "5    33.0\n",
       "6    11.0\n",
       "dtype: float64"
      ]
     },
     "metadata": {},
     "execution_count": 148
    }
   ]
  },
  {
   "cell_type": "code",
   "source": [
    "pd.Series((88, 66, 55, np.nan, 33, None, 11)).pad(axis=0)"
   ],
   "metadata": {
    "colab": {
     "base_uri": "https://localhost:8080/"
    },
    "id": "YyU3Kc707U-N",
    "outputId": "339ba72d-25ea-42d5-cafe-fa65aa2c3657"
   },
   "execution_count": 149,
   "outputs": [
    {
     "output_type": "execute_result",
     "data": {
      "text/plain": [
       "0    88.0\n",
       "1    66.0\n",
       "2    55.0\n",
       "3    55.0\n",
       "4    33.0\n",
       "5    33.0\n",
       "6    11.0\n",
       "dtype: float64"
      ]
     },
     "metadata": {},
     "execution_count": 149
    }
   ]
  },
  {
   "cell_type": "code",
   "source": [
    "pd.Series((88, 66, 55, np.nan, 33, None, 11)).pad(axis=1)"
   ],
   "metadata": {
    "colab": {
     "base_uri": "https://localhost:8080/",
     "height": 432
    },
    "id": "FUuU1anF7i2N",
    "outputId": "7e76f5fb-f252-4bb2-d256-b24535c99632"
   },
   "execution_count": 150,
   "outputs": [
    {
     "output_type": "error",
     "ename": "ValueError",
     "evalue": "ignored",
     "traceback": [
      "\u001b[0;31m---------------------------------------------------------------------------\u001b[0m",
      "\u001b[0;31mKeyError\u001b[0m                                  Traceback (most recent call last)",
      "\u001b[0;32m/usr/local/lib/python3.9/dist-packages/pandas/core/generic.py\u001b[0m in \u001b[0;36m_get_axis_number\u001b[0;34m(cls, axis)\u001b[0m\n\u001b[1;32m    549\u001b[0m         \u001b[0;32mtry\u001b[0m\u001b[0;34m:\u001b[0m\u001b[0;34m\u001b[0m\u001b[0;34m\u001b[0m\u001b[0m\n\u001b[0;32m--> 550\u001b[0;31m             \u001b[0;32mreturn\u001b[0m \u001b[0mcls\u001b[0m\u001b[0;34m.\u001b[0m\u001b[0m_AXIS_TO_AXIS_NUMBER\u001b[0m\u001b[0;34m[\u001b[0m\u001b[0maxis\u001b[0m\u001b[0;34m]\u001b[0m\u001b[0;34m\u001b[0m\u001b[0;34m\u001b[0m\u001b[0m\n\u001b[0m\u001b[1;32m    551\u001b[0m         \u001b[0;32mexcept\u001b[0m \u001b[0mKeyError\u001b[0m\u001b[0;34m:\u001b[0m\u001b[0;34m\u001b[0m\u001b[0;34m\u001b[0m\u001b[0m\n",
      "\u001b[0;31mKeyError\u001b[0m: 1",
      "\nDuring handling of the above exception, another exception occurred:\n",
      "\u001b[0;31mValueError\u001b[0m                                Traceback (most recent call last)",
      "\u001b[0;32m<ipython-input-150-792f3668ba6b>\u001b[0m in \u001b[0;36m<cell line: 1>\u001b[0;34m()\u001b[0m\n\u001b[0;32m----> 1\u001b[0;31m \u001b[0mpd\u001b[0m\u001b[0;34m.\u001b[0m\u001b[0mSeries\u001b[0m\u001b[0;34m(\u001b[0m\u001b[0;34m(\u001b[0m\u001b[0;36m88\u001b[0m\u001b[0;34m,\u001b[0m \u001b[0;36m66\u001b[0m\u001b[0;34m,\u001b[0m \u001b[0;36m55\u001b[0m\u001b[0;34m,\u001b[0m \u001b[0mnp\u001b[0m\u001b[0;34m.\u001b[0m\u001b[0mnan\u001b[0m\u001b[0;34m,\u001b[0m \u001b[0;36m33\u001b[0m\u001b[0;34m,\u001b[0m \u001b[0;32mNone\u001b[0m\u001b[0;34m,\u001b[0m \u001b[0;36m11\u001b[0m\u001b[0;34m)\u001b[0m\u001b[0;34m)\u001b[0m\u001b[0;34m.\u001b[0m\u001b[0mpad\u001b[0m\u001b[0;34m(\u001b[0m\u001b[0maxis\u001b[0m\u001b[0;34m=\u001b[0m\u001b[0;36m1\u001b[0m\u001b[0;34m)\u001b[0m\u001b[0;34m\u001b[0m\u001b[0;34m\u001b[0m\u001b[0m\n\u001b[0m",
      "\u001b[0;32m/usr/local/lib/python3.9/dist-packages/pandas/core/generic.py\u001b[0m in \u001b[0;36mffill\u001b[0;34m(self, axis, inplace, limit, downcast)\u001b[0m\n\u001b[1;32m   6532\u001b[0m             \u001b[0mObject\u001b[0m \u001b[0;32mwith\u001b[0m \u001b[0mmissing\u001b[0m \u001b[0mvalues\u001b[0m \u001b[0mfilled\u001b[0m \u001b[0;32mor\u001b[0m \u001b[0;32mNone\u001b[0m \u001b[0;32mif\u001b[0m\u001b[0;31m \u001b[0m\u001b[0;31m`\u001b[0m\u001b[0;31m`\u001b[0m\u001b[0minplace\u001b[0m\u001b[0;34m=\u001b[0m\u001b[0;32mTrue\u001b[0m\u001b[0;31m`\u001b[0m\u001b[0;31m`\u001b[0m\u001b[0;34m.\u001b[0m\u001b[0;34m\u001b[0m\u001b[0;34m\u001b[0m\u001b[0m\n\u001b[1;32m   6533\u001b[0m         \"\"\"\n\u001b[0;32m-> 6534\u001b[0;31m         return self.fillna(\n\u001b[0m\u001b[1;32m   6535\u001b[0m             \u001b[0mmethod\u001b[0m\u001b[0;34m=\u001b[0m\u001b[0;34m\"ffill\"\u001b[0m\u001b[0;34m,\u001b[0m \u001b[0maxis\u001b[0m\u001b[0;34m=\u001b[0m\u001b[0maxis\u001b[0m\u001b[0;34m,\u001b[0m \u001b[0minplace\u001b[0m\u001b[0;34m=\u001b[0m\u001b[0minplace\u001b[0m\u001b[0;34m,\u001b[0m \u001b[0mlimit\u001b[0m\u001b[0;34m=\u001b[0m\u001b[0mlimit\u001b[0m\u001b[0;34m,\u001b[0m \u001b[0mdowncast\u001b[0m\u001b[0;34m=\u001b[0m\u001b[0mdowncast\u001b[0m\u001b[0;34m\u001b[0m\u001b[0;34m\u001b[0m\u001b[0m\n\u001b[1;32m   6536\u001b[0m         )\n",
      "\u001b[0;32m/usr/local/lib/python3.9/dist-packages/pandas/util/_decorators.py\u001b[0m in \u001b[0;36mwrapper\u001b[0;34m(*args, **kwargs)\u001b[0m\n\u001b[1;32m    309\u001b[0m                     \u001b[0mstacklevel\u001b[0m\u001b[0;34m=\u001b[0m\u001b[0mstacklevel\u001b[0m\u001b[0;34m,\u001b[0m\u001b[0;34m\u001b[0m\u001b[0;34m\u001b[0m\u001b[0m\n\u001b[1;32m    310\u001b[0m                 )\n\u001b[0;32m--> 311\u001b[0;31m             \u001b[0;32mreturn\u001b[0m \u001b[0mfunc\u001b[0m\u001b[0;34m(\u001b[0m\u001b[0;34m*\u001b[0m\u001b[0margs\u001b[0m\u001b[0;34m,\u001b[0m \u001b[0;34m**\u001b[0m\u001b[0mkwargs\u001b[0m\u001b[0;34m)\u001b[0m\u001b[0;34m\u001b[0m\u001b[0;34m\u001b[0m\u001b[0m\n\u001b[0m\u001b[1;32m    312\u001b[0m \u001b[0;34m\u001b[0m\u001b[0m\n\u001b[1;32m    313\u001b[0m         \u001b[0;32mreturn\u001b[0m \u001b[0mwrapper\u001b[0m\u001b[0;34m\u001b[0m\u001b[0;34m\u001b[0m\u001b[0m\n",
      "\u001b[0;32m/usr/local/lib/python3.9/dist-packages/pandas/core/series.py\u001b[0m in \u001b[0;36mfillna\u001b[0;34m(self, value, method, axis, inplace, limit, downcast)\u001b[0m\n\u001b[1;32m   4906\u001b[0m         \u001b[0mdowncast\u001b[0m\u001b[0;34m=\u001b[0m\u001b[0;32mNone\u001b[0m\u001b[0;34m,\u001b[0m\u001b[0;34m\u001b[0m\u001b[0;34m\u001b[0m\u001b[0m\n\u001b[1;32m   4907\u001b[0m     ) -> Series | None:\n\u001b[0;32m-> 4908\u001b[0;31m         return super().fillna(\n\u001b[0m\u001b[1;32m   4909\u001b[0m             \u001b[0mvalue\u001b[0m\u001b[0;34m=\u001b[0m\u001b[0mvalue\u001b[0m\u001b[0;34m,\u001b[0m\u001b[0;34m\u001b[0m\u001b[0;34m\u001b[0m\u001b[0m\n\u001b[1;32m   4910\u001b[0m             \u001b[0mmethod\u001b[0m\u001b[0;34m=\u001b[0m\u001b[0mmethod\u001b[0m\u001b[0;34m,\u001b[0m\u001b[0;34m\u001b[0m\u001b[0;34m\u001b[0m\u001b[0m\n",
      "\u001b[0;32m/usr/local/lib/python3.9/dist-packages/pandas/core/generic.py\u001b[0m in \u001b[0;36mfillna\u001b[0;34m(self, value, method, axis, inplace, limit, downcast)\u001b[0m\n\u001b[1;32m   6425\u001b[0m         \u001b[0;32mif\u001b[0m \u001b[0maxis\u001b[0m \u001b[0;32mis\u001b[0m \u001b[0;32mNone\u001b[0m\u001b[0;34m:\u001b[0m\u001b[0;34m\u001b[0m\u001b[0;34m\u001b[0m\u001b[0m\n\u001b[1;32m   6426\u001b[0m             \u001b[0maxis\u001b[0m \u001b[0;34m=\u001b[0m \u001b[0;36m0\u001b[0m\u001b[0;34m\u001b[0m\u001b[0;34m\u001b[0m\u001b[0m\n\u001b[0;32m-> 6427\u001b[0;31m         \u001b[0maxis\u001b[0m \u001b[0;34m=\u001b[0m \u001b[0mself\u001b[0m\u001b[0;34m.\u001b[0m\u001b[0m_get_axis_number\u001b[0m\u001b[0;34m(\u001b[0m\u001b[0maxis\u001b[0m\u001b[0;34m)\u001b[0m\u001b[0;34m\u001b[0m\u001b[0;34m\u001b[0m\u001b[0m\n\u001b[0m\u001b[1;32m   6428\u001b[0m \u001b[0;34m\u001b[0m\u001b[0m\n\u001b[1;32m   6429\u001b[0m         \u001b[0;32mif\u001b[0m \u001b[0mvalue\u001b[0m \u001b[0;32mis\u001b[0m \u001b[0;32mNone\u001b[0m\u001b[0;34m:\u001b[0m\u001b[0;34m\u001b[0m\u001b[0;34m\u001b[0m\u001b[0m\n",
      "\u001b[0;32m/usr/local/lib/python3.9/dist-packages/pandas/core/generic.py\u001b[0m in \u001b[0;36m_get_axis_number\u001b[0;34m(cls, axis)\u001b[0m\n\u001b[1;32m    550\u001b[0m             \u001b[0;32mreturn\u001b[0m \u001b[0mcls\u001b[0m\u001b[0;34m.\u001b[0m\u001b[0m_AXIS_TO_AXIS_NUMBER\u001b[0m\u001b[0;34m[\u001b[0m\u001b[0maxis\u001b[0m\u001b[0;34m]\u001b[0m\u001b[0;34m\u001b[0m\u001b[0;34m\u001b[0m\u001b[0m\n\u001b[1;32m    551\u001b[0m         \u001b[0;32mexcept\u001b[0m \u001b[0mKeyError\u001b[0m\u001b[0;34m:\u001b[0m\u001b[0;34m\u001b[0m\u001b[0;34m\u001b[0m\u001b[0m\n\u001b[0;32m--> 552\u001b[0;31m             \u001b[0;32mraise\u001b[0m \u001b[0mValueError\u001b[0m\u001b[0;34m(\u001b[0m\u001b[0;34mf\"No axis named {axis} for object type {cls.__name__}\"\u001b[0m\u001b[0;34m)\u001b[0m\u001b[0;34m\u001b[0m\u001b[0;34m\u001b[0m\u001b[0m\n\u001b[0m\u001b[1;32m    553\u001b[0m \u001b[0;34m\u001b[0m\u001b[0m\n\u001b[1;32m    554\u001b[0m     \u001b[0;34m@\u001b[0m\u001b[0mfinal\u001b[0m\u001b[0;34m\u001b[0m\u001b[0;34m\u001b[0m\u001b[0m\n",
      "\u001b[0;31mValueError\u001b[0m: No axis named 1 for object type Series"
     ]
    }
   ]
  },
  {
   "cell_type": "code",
   "source": [
    "pd.date_range(\"2015-12-01 01:00:00\", periods=7, freq=\"h\")"
   ],
   "metadata": {
    "colab": {
     "base_uri": "https://localhost:8080/"
    },
    "id": "Oo4ks8bY7lKr",
    "outputId": "80840cb7-4fe2-41d0-bea7-a2b3b7f80921"
   },
   "execution_count": 151,
   "outputs": [
    {
     "output_type": "execute_result",
     "data": {
      "text/plain": [
       "DatetimeIndex(['2015-12-01 01:00:00', '2015-12-01 02:00:00',\n",
       "               '2015-12-01 03:00:00', '2015-12-01 04:00:00',\n",
       "               '2015-12-01 05:00:00', '2015-12-01 06:00:00',\n",
       "               '2015-12-01 07:00:00'],\n",
       "              dtype='datetime64[ns]', freq='H')"
      ]
     },
     "metadata": {},
     "execution_count": 151
    }
   ]
  },
  {
   "cell_type": "code",
   "source": [
    "pd.date_range(\"2015-12-01 01:00:00\", periods=7, freq=\"2h\")"
   ],
   "metadata": {
    "colab": {
     "base_uri": "https://localhost:8080/"
    },
    "id": "0OS2i1CK7uhr",
    "outputId": "12984ef1-b29c-4efb-d2e3-13e75e862546"
   },
   "execution_count": 152,
   "outputs": [
    {
     "output_type": "execute_result",
     "data": {
      "text/plain": [
       "DatetimeIndex(['2015-12-01 01:00:00', '2015-12-01 03:00:00',\n",
       "               '2015-12-01 05:00:00', '2015-12-01 07:00:00',\n",
       "               '2015-12-01 09:00:00', '2015-12-01 11:00:00',\n",
       "               '2015-12-01 13:00:00'],\n",
       "              dtype='datetime64[ns]', freq='2H')"
      ]
     },
     "metadata": {},
     "execution_count": 152
    }
   ]
  },
  {
   "cell_type": "code",
   "source": [
    "pd.date_range(\"2015-12-01 01:00:00\", periods=7, freq=\"6h\")"
   ],
   "metadata": {
    "colab": {
     "base_uri": "https://localhost:8080/"
    },
    "id": "VoyxlKjE72OA",
    "outputId": "bb617a46-ab01-426e-8093-0aa07368b8dd"
   },
   "execution_count": 153,
   "outputs": [
    {
     "output_type": "execute_result",
     "data": {
      "text/plain": [
       "DatetimeIndex(['2015-12-01 01:00:00', '2015-12-01 07:00:00',\n",
       "               '2015-12-01 13:00:00', '2015-12-01 19:00:00',\n",
       "               '2015-12-02 01:00:00', '2015-12-02 07:00:00',\n",
       "               '2015-12-02 13:00:00'],\n",
       "              dtype='datetime64[ns]', freq='6H')"
      ]
     },
     "metadata": {},
     "execution_count": 153
    }
   ]
  },
  {
   "cell_type": "code",
   "source": [
    "pd.date_range(\"2015-12-01 01:00:00\", periods=7, freq=\"30min\")"
   ],
   "metadata": {
    "colab": {
     "base_uri": "https://localhost:8080/"
    },
    "id": "vb3LvROB75xG",
    "outputId": "dbc4c30f-3e17-40cc-a4b4-1ace18d6c3b7"
   },
   "execution_count": 154,
   "outputs": [
    {
     "output_type": "execute_result",
     "data": {
      "text/plain": [
       "DatetimeIndex(['2015-12-01 01:00:00', '2015-12-01 01:30:00',\n",
       "               '2015-12-01 02:00:00', '2015-12-01 02:30:00',\n",
       "               '2015-12-01 03:00:00', '2015-12-01 03:30:00',\n",
       "               '2015-12-01 04:00:00'],\n",
       "              dtype='datetime64[ns]', freq='30T')"
      ]
     },
     "metadata": {},
     "execution_count": 154
    }
   ]
  },
  {
   "cell_type": "code",
   "source": [
    "pd.date_range(\"2015-12-01 01:00:00\", periods=7, freq=\"D\")"
   ],
   "metadata": {
    "colab": {
     "base_uri": "https://localhost:8080/"
    },
    "id": "h8uE_Vg7790p",
    "outputId": "8e5d27d6-4a52-481e-f8d5-4447b50acd2a"
   },
   "execution_count": 155,
   "outputs": [
    {
     "output_type": "execute_result",
     "data": {
      "text/plain": [
       "DatetimeIndex(['2015-12-01 01:00:00', '2015-12-02 01:00:00',\n",
       "               '2015-12-03 01:00:00', '2015-12-04 01:00:00',\n",
       "               '2015-12-05 01:00:00', '2015-12-06 01:00:00',\n",
       "               '2015-12-07 01:00:00'],\n",
       "              dtype='datetime64[ns]', freq='D')"
      ]
     },
     "metadata": {},
     "execution_count": 155
    }
   ]
  },
  {
   "cell_type": "code",
   "source": [
    "pd.date_range(\"2015-12-01 01:00:00\", periods=7)  # default is day"
   ],
   "metadata": {
    "colab": {
     "base_uri": "https://localhost:8080/"
    },
    "id": "---qFFar7_nX",
    "outputId": "b677dc88-d314-4eaf-9bf3-4651b5ef5202"
   },
   "execution_count": 156,
   "outputs": [
    {
     "output_type": "execute_result",
     "data": {
      "text/plain": [
       "DatetimeIndex(['2015-12-01 01:00:00', '2015-12-02 01:00:00',\n",
       "               '2015-12-03 01:00:00', '2015-12-04 01:00:00',\n",
       "               '2015-12-05 01:00:00', '2015-12-06 01:00:00',\n",
       "               '2015-12-07 01:00:00'],\n",
       "              dtype='datetime64[ns]', freq='D')"
      ]
     },
     "metadata": {},
     "execution_count": 156
    }
   ]
  },
  {
   "cell_type": "code",
   "source": [
    "pd.date_range(\"2015-12-01 01:00:00\", periods=7, freq=\"s\")"
   ],
   "metadata": {
    "colab": {
     "base_uri": "https://localhost:8080/"
    },
    "id": "GMHcz1rP8CgS",
    "outputId": "ba594550-8c59-4e15-f26e-4defb11dc9cd"
   },
   "execution_count": 157,
   "outputs": [
    {
     "output_type": "execute_result",
     "data": {
      "text/plain": [
       "DatetimeIndex(['2015-12-01 01:00:00', '2015-12-01 01:00:01',\n",
       "               '2015-12-01 01:00:02', '2015-12-01 01:00:03',\n",
       "               '2015-12-01 01:00:04', '2015-12-01 01:00:05',\n",
       "               '2015-12-01 01:00:06'],\n",
       "              dtype='datetime64[ns]', freq='S')"
      ]
     },
     "metadata": {},
     "execution_count": 157
    }
   ]
  },
  {
   "cell_type": "code",
   "source": [
    "pd.date_range(\"2015-12-01 01:00:00\", periods=7, freq=\"ms\")"
   ],
   "metadata": {
    "colab": {
     "base_uri": "https://localhost:8080/"
    },
    "id": "RGdZXWL78FAJ",
    "outputId": "19a5f2d6-ec20-45f7-f3ff-f4fc48a7f7e6"
   },
   "execution_count": 158,
   "outputs": [
    {
     "output_type": "execute_result",
     "data": {
      "text/plain": [
       "DatetimeIndex([       '2015-12-01 01:00:00', '2015-12-01 01:00:00.001000',\n",
       "               '2015-12-01 01:00:00.002000', '2015-12-01 01:00:00.003000',\n",
       "               '2015-12-01 01:00:00.004000', '2015-12-01 01:00:00.005000',\n",
       "               '2015-12-01 01:00:00.006000'],\n",
       "              dtype='datetime64[ns]', freq='L')"
      ]
     },
     "metadata": {},
     "execution_count": 158
    }
   ]
  },
  {
   "cell_type": "code",
   "source": [
    "pd.date_range(\"2015-12-01 01:00:00\", periods=7, freq=\"ns\")"
   ],
   "metadata": {
    "colab": {
     "base_uri": "https://localhost:8080/"
    },
    "id": "JooEBsx88G6e",
    "outputId": "4c315887-1289-4c32-d8db-cf0878d94001"
   },
   "execution_count": 159,
   "outputs": [
    {
     "output_type": "execute_result",
     "data": {
      "text/plain": [
       "DatetimeIndex([          '2015-12-01 01:00:00',\n",
       "               '2015-12-01 01:00:00.000000001',\n",
       "               '2015-12-01 01:00:00.000000002',\n",
       "               '2015-12-01 01:00:00.000000003',\n",
       "               '2015-12-01 01:00:00.000000004',\n",
       "               '2015-12-01 01:00:00.000000005',\n",
       "               '2015-12-01 01:00:00.000000006'],\n",
       "              dtype='datetime64[ns]', freq='N')"
      ]
     },
     "metadata": {},
     "execution_count": 159
    }
   ]
  },
  {
   "cell_type": "code",
   "source": [],
   "metadata": {
    "id": "PnWtHElG8In1"
   },
   "execution_count": null,
   "outputs": []
  }
 ]
}
