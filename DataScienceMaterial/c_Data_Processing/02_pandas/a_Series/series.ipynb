{
 "cells": [
  {
   "cell_type": "code",
   "execution_count": 1,
   "id": "6343e21e",
   "metadata": {},
   "outputs": [
    {
     "name": "stdout",
     "output_type": "stream",
     "text": [
      "C:\\Users\\Amma\\AppData\\Local\\pypoetry\\Cache\\virtualenvs\\datasciencematerial-miMMxS0W-py3.11\\Scripts\\python.EXE\n"
     ]
    }
   ],
   "source": [
    "! which python"
   ]
  },
  {
   "cell_type": "code",
   "execution_count": 2,
   "id": "4e9595bb",
   "metadata": {},
   "outputs": [
    {
     "name": "stdout",
     "output_type": "stream",
     "text": [
      "C:\\Users\\Amma\\AppData\\Local\\pypoetry\\Cache\\virtualenvs\\datasciencematerial-miMMxS0W-py3.11\\Scripts\\python.exe\n",
      "C:\\Python311\\python.exe\n",
      "C:\\Users\\Amma\\AppData\\Local\\Microsoft\\WindowsApps\\python.exe\n"
     ]
    }
   ],
   "source": [
    "! where python"
   ]
  },
  {
   "cell_type": "code",
   "execution_count": 3,
   "id": "f04cc87a",
   "metadata": {},
   "outputs": [],
   "source": [
    "import pandas as pd"
   ]
  },
  {
   "cell_type": "code",
   "execution_count": 75,
   "id": "f71ce012",
   "metadata": {},
   "outputs": [
    {
     "data": {
      "text/plain": [
       "'1.5.1'"
      ]
     },
     "execution_count": 75,
     "metadata": {},
     "output_type": "execute_result"
    }
   ],
   "source": [
    "pd.__version__"
   ]
  },
  {
   "cell_type": "code",
   "execution_count": 4,
   "id": "75675f73",
   "metadata": {},
   "outputs": [
    {
     "name": "stdout",
     "output_type": "stream",
     "text": [
      "['ArrowDtype', 'BooleanDtype', 'Categorical', 'CategoricalDtype', 'CategoricalIndex', 'DataFrame', 'DateOffset', 'DatetimeIndex', 'DatetimeTZDtype', 'ExcelFile', 'ExcelWriter', 'Flags', 'Float32Dtype', 'Float64Dtype', 'Float64Index', 'Grouper', 'HDFStore', 'Index', 'IndexSlice', 'Int16Dtype', 'Int32Dtype', 'Int64Dtype', 'Int64Index', 'Int8Dtype', 'Interval', 'IntervalDtype', 'IntervalIndex', 'MultiIndex', 'NA', 'NaT', 'NamedAgg', 'Period', 'PeriodDtype', 'PeriodIndex', 'RangeIndex', 'Series', 'SparseDtype', 'StringDtype', 'Timedelta', 'TimedeltaIndex', 'Timestamp', 'UInt16Dtype', 'UInt32Dtype', 'UInt64Dtype', 'UInt64Index', 'UInt8Dtype', '__all__', '__builtins__', '__cached__', '__deprecated_num_index_names', '__dir__', '__doc__', '__docformat__', '__file__', '__getattr__', '__git_version__', '__loader__', '__name__', '__package__', '__path__', '__spec__', '__version__', '_config', '_is_numpy_dev', '_libs', '_testing', '_typing', '_version', 'annotations', 'api', 'array', 'arrays', 'bdate_range', 'compat', 'concat', 'core', 'crosstab', 'cut', 'date_range', 'describe_option', 'errors', 'eval', 'factorize', 'from_dummies', 'get_dummies', 'get_option', 'infer_freq', 'interval_range', 'io', 'isna', 'isnull', 'json_normalize', 'lreshape', 'melt', 'merge', 'merge_asof', 'merge_ordered', 'notna', 'notnull', 'offsets', 'option_context', 'options', 'pandas', 'period_range', 'pivot', 'pivot_table', 'plotting', 'qcut', 'read_clipboard', 'read_csv', 'read_excel', 'read_feather', 'read_fwf', 'read_gbq', 'read_hdf', 'read_html', 'read_json', 'read_orc', 'read_parquet', 'read_pickle', 'read_sas', 'read_spss', 'read_sql', 'read_sql_query', 'read_sql_table', 'read_stata', 'read_table', 'read_xml', 'reset_option', 'set_eng_float_format', 'set_option', 'show_versions', 'test', 'testing', 'timedelta_range', 'to_datetime', 'to_numeric', 'to_pickle', 'to_timedelta', 'tseries', 'unique', 'util', 'value_counts', 'wide_to_long']\n"
     ]
    }
   ],
   "source": [
    "print(dir(pd))"
   ]
  },
  {
   "cell_type": "code",
   "execution_count": 5,
   "id": "39ba25d5",
   "metadata": {},
   "outputs": [
    {
     "name": "stderr",
     "output_type": "stream",
     "text": [
      "C:\\Users\\Amma\\AppData\\Local\\pypoetry\\Cache\\virtualenvs\\datasciencematerial-miMMxS0W-py3.11\\Lib\\site-packages\\_distutils_hack\\__init__.py:33: UserWarning: Setuptools is replacing distutils.\n",
      "  warnings.warn(\"Setuptools is replacing distutils.\")\n"
     ]
    },
    {
     "name": "stdout",
     "output_type": "stream",
     "text": [
      "\n",
      "INSTALLED VERSIONS\n",
      "------------------\n",
      "commit           : 91111fd99898d9dcaa6bf6bedb662db4108da6e6\n",
      "python           : 3.11.2.final.0\n",
      "python-bits      : 64\n",
      "OS               : Windows\n",
      "OS-release       : 10\n",
      "Version          : 10.0.22621\n",
      "machine          : AMD64\n",
      "processor        : Intel64 Family 6 Model 142 Stepping 12, GenuineIntel\n",
      "byteorder        : little\n",
      "LC_ALL           : None\n",
      "LANG             : en_US.UTF-8\n",
      "LOCALE           : English_India.1252\n",
      "\n",
      "pandas           : 1.5.1\n",
      "numpy            : 1.23.5\n",
      "pytz             : 2022.5\n",
      "dateutil         : 2.8.2\n",
      "setuptools       : 65.5.0\n",
      "pip              : 22.3.1\n",
      "Cython           : None\n",
      "pytest           : None\n",
      "hypothesis       : None\n",
      "sphinx           : None\n",
      "blosc            : None\n",
      "feather          : None\n",
      "xlsxwriter       : None\n",
      "lxml.etree       : None\n",
      "html5lib         : 1.1\n",
      "pymysql          : None\n",
      "psycopg2         : None\n",
      "jinja2           : 3.1.2\n",
      "IPython          : 8.6.0\n",
      "pandas_datareader: None\n",
      "bs4              : 4.11.1\n",
      "bottleneck       : None\n",
      "brotli           : None\n",
      "fastparquet      : None\n",
      "fsspec           : None\n",
      "gcsfs            : None\n",
      "matplotlib       : 3.6.0\n",
      "numba            : None\n",
      "numexpr          : None\n",
      "odfpy            : None\n",
      "openpyxl         : None\n",
      "pandas_gbq       : None\n",
      "pyarrow          : None\n",
      "pyreadstat       : None\n",
      "pyxlsb           : None\n",
      "s3fs             : None\n",
      "scipy            : None\n",
      "snappy           : None\n",
      "sqlalchemy       : None\n",
      "tables           : None\n",
      "tabulate         : None\n",
      "xarray           : 2022.11.0\n",
      "xlrd             : None\n",
      "xlwt             : None\n",
      "zstandard        : None\n",
      "tzdata           : None\n"
     ]
    }
   ],
   "source": [
    "pd.show_versions()"
   ]
  },
  {
   "cell_type": "code",
   "execution_count": 6,
   "id": "a0c1e717",
   "metadata": {},
   "outputs": [
    {
     "data": {
      "text/plain": [
       "pandas.core.series.Series"
      ]
     },
     "execution_count": 6,
     "metadata": {},
     "output_type": "execute_result"
    }
   ],
   "source": [
    "pd.Series"
   ]
  },
  {
   "cell_type": "code",
   "execution_count": 7,
   "id": "0a95a504",
   "metadata": {},
   "outputs": [
    {
     "name": "stdout",
     "output_type": "stream",
     "text": [
      "['T', '_AXIS_LEN', '_AXIS_NAMES', '_AXIS_NUMBERS', '_AXIS_ORDERS', '_AXIS_TO_AXIS_NUMBER', '_HANDLED_TYPES', '__abs__', '__add__', '__and__', '__annotations__', '__array__', '__array_priority__', '__array_ufunc__', '__array_wrap__', '__bool__', '__class__', '__contains__', '__copy__', '__deepcopy__', '__delattr__', '__delitem__', '__dict__', '__dir__', '__divmod__', '__doc__', '__eq__', '__finalize__', '__float__', '__floordiv__', '__format__', '__ge__', '__getattr__', '__getattribute__', '__getitem__', '__getstate__', '__gt__', '__hash__', '__iadd__', '__iand__', '__ifloordiv__', '__imod__', '__imul__', '__init__', '__init_subclass__', '__int__', '__invert__', '__ior__', '__ipow__', '__isub__', '__iter__', '__itruediv__', '__ixor__', '__le__', '__len__', '__long__', '__lt__', '__matmul__', '__mod__', '__module__', '__mul__', '__ne__', '__neg__', '__new__', '__nonzero__', '__or__', '__pos__', '__pow__', '__radd__', '__rand__', '__rdivmod__', '__reduce__', '__reduce_ex__', '__repr__', '__rfloordiv__', '__rmatmul__', '__rmod__', '__rmul__', '__ror__', '__round__', '__rpow__', '__rsub__', '__rtruediv__', '__rxor__', '__setattr__', '__setitem__', '__setstate__', '__sizeof__', '__str__', '__sub__', '__subclasshook__', '__truediv__', '__weakref__', '__xor__', '_accessors', '_accum_func', '_add_numeric_operations', '_agg_by_level', '_agg_examples_doc', '_agg_see_also_doc', '_align_frame', '_align_series', '_append', '_arith_method', '_as_manager', '_binop', '_can_hold_na', '_check_inplace_and_allows_duplicate_labels', '_check_inplace_setting', '_check_is_chained_assignment_possible', '_check_label_or_level_ambiguity', '_check_setitem_copy', '_clear_item_cache', '_clip_with_one_bound', '_clip_with_scalar', '_cmp_method', '_consolidate', '_consolidate_inplace', '_construct_axes_dict', '_construct_axes_from_arguments', '_construct_result', '_constructor', '_constructor_expanddim', '_convert', '_convert_dtypes', '_data', '_dir_additions', '_dir_deletions', '_drop_axis', '_drop_labels_or_levels', '_duplicated', '_find_valid_index', '_get_axis', '_get_axis_name', '_get_axis_number', '_get_axis_resolvers', '_get_block_manager_axis', '_get_bool_data', '_get_cacher', '_get_cleaned_column_resolvers', '_get_index_resolvers', '_get_label_or_level_values', '_get_numeric_data', '_get_value', '_get_values', '_get_values_tuple', '_get_with', '_gotitem', '_hidden_attrs', '_indexed_same', '_info_axis', '_info_axis_name', '_info_axis_number', '_init_dict', '_init_mgr', '_inplace_method', '_internal_names', '_internal_names_set', '_is_cached', '_is_copy', '_is_label_or_level_reference', '_is_label_reference', '_is_level_reference', '_is_mixed_type', '_is_view', '_ixs', '_logical_func', '_logical_method', '_map_values', '_maybe_update_cacher', '_memory_usage', '_metadata', '_min_count_stat_function', '_needs_reindex_multi', '_protect_consolidate', '_reduce', '_reindex_axes', '_reindex_indexer', '_reindex_multi', '_reindex_with_indexers', '_rename', '_replace_single', '_repr_data_resource_', '_repr_latex_', '_reset_cache', '_reset_cacher', '_set_as_cached', '_set_axis', '_set_axis_name', '_set_axis_nocheck', '_set_is_copy', '_set_labels', '_set_name', '_set_value', '_set_values', '_set_with', '_set_with_engine', '_slice', '_stat_axis', '_stat_axis_name', '_stat_axis_number', '_stat_function', '_stat_function_ddof', '_take', '_take_with_is_copy', '_typ', '_update_inplace', '_validate_dtype', '_values', '_where', 'abs', 'add', 'add_prefix', 'add_suffix', 'agg', 'aggregate', 'align', 'all', 'any', 'append', 'apply', 'argmax', 'argmin', 'argsort', 'array', 'asfreq', 'asof', 'astype', 'at', 'at_time', 'attrs', 'autocorr', 'axes', 'backfill', 'between', 'between_time', 'bfill', 'bool', 'cat', 'clip', 'combine', 'combine_first', 'compare', 'convert_dtypes', 'copy', 'corr', 'count', 'cov', 'cummax', 'cummin', 'cumprod', 'cumsum', 'describe', 'diff', 'div', 'divide', 'divmod', 'dot', 'drop', 'drop_duplicates', 'droplevel', 'dropna', 'dt', 'dtype', 'dtypes', 'duplicated', 'empty', 'eq', 'equals', 'ewm', 'expanding', 'explode', 'factorize', 'ffill', 'fillna', 'filter', 'first', 'first_valid_index', 'flags', 'floordiv', 'ge', 'get', 'groupby', 'gt', 'hasnans', 'head', 'hist', 'iat', 'idxmax', 'idxmin', 'iloc', 'index', 'infer_objects', 'info', 'interpolate', 'is_monotonic', 'is_monotonic_decreasing', 'is_monotonic_increasing', 'is_unique', 'isin', 'isna', 'isnull', 'item', 'items', 'iteritems', 'keys', 'kurt', 'kurtosis', 'last', 'last_valid_index', 'le', 'loc', 'lt', 'mad', 'map', 'mask', 'max', 'mean', 'median', 'memory_usage', 'min', 'mod', 'mode', 'mul', 'multiply', 'name', 'nbytes', 'ndim', 'ne', 'nlargest', 'notna', 'notnull', 'nsmallest', 'nunique', 'pad', 'pct_change', 'pipe', 'plot', 'pop', 'pow', 'prod', 'product', 'quantile', 'radd', 'rank', 'ravel', 'rdiv', 'rdivmod', 'reindex', 'reindex_like', 'rename', 'rename_axis', 'reorder_levels', 'repeat', 'replace', 'resample', 'reset_index', 'rfloordiv', 'rmod', 'rmul', 'rolling', 'round', 'rpow', 'rsub', 'rtruediv', 'sample', 'searchsorted', 'sem', 'set_axis', 'set_flags', 'shape', 'shift', 'size', 'skew', 'slice_shift', 'sort_index', 'sort_values', 'sparse', 'squeeze', 'std', 'str', 'sub', 'subtract', 'sum', 'swapaxes', 'swaplevel', 'tail', 'take', 'to_clipboard', 'to_csv', 'to_dict', 'to_excel', 'to_frame', 'to_hdf', 'to_json', 'to_latex', 'to_list', 'to_markdown', 'to_numpy', 'to_period', 'to_pickle', 'to_sql', 'to_string', 'to_timestamp', 'to_xarray', 'tolist', 'transform', 'transpose', 'truediv', 'truncate', 'tshift', 'tz_convert', 'tz_localize', 'unique', 'unstack', 'update', 'value_counts', 'values', 'var', 'view', 'where', 'xs']\n"
     ]
    }
   ],
   "source": [
    "print(dir(pd.Series))"
   ]
  },
  {
   "cell_type": "markdown",
   "id": "911a5c95",
   "metadata": {},
   "source": [
    "### Empty Pandas Series"
   ]
  },
  {
   "cell_type": "code",
   "execution_count": 8,
   "id": "c40045dd",
   "metadata": {},
   "outputs": [
    {
     "name": "stderr",
     "output_type": "stream",
     "text": [
      "C:\\Users\\Amma\\AppData\\Local\\Temp\\ipykernel_25316\\2249413805.py:1: FutureWarning: The default dtype for empty Series will be 'object' instead of 'float64' in a future version. Specify a dtype explicitly to silence this warning.\n",
      "  s1 = pd.Series()\n"
     ]
    }
   ],
   "source": [
    "s1 = pd.Series()"
   ]
  },
  {
   "cell_type": "code",
   "execution_count": 9,
   "id": "90e77a9d",
   "metadata": {},
   "outputs": [
    {
     "data": {
      "text/plain": [
       "Series([], dtype: float64)"
      ]
     },
     "execution_count": 9,
     "metadata": {},
     "output_type": "execute_result"
    }
   ],
   "source": [
    "s1"
   ]
  },
  {
   "cell_type": "markdown",
   "id": "32e111a5",
   "metadata": {},
   "source": [
    "### Creating Pandas Series, from List"
   ]
  },
  {
   "cell_type": "code",
   "execution_count": 10,
   "id": "8b9a29ab",
   "metadata": {},
   "outputs": [
    {
     "data": {
      "text/plain": [
       "0    11\n",
       "1    22\n",
       "2    33\n",
       "3    44\n",
       "4    33\n",
       "5    22\n",
       "dtype: int64"
      ]
     },
     "execution_count": 10,
     "metadata": {},
     "output_type": "execute_result"
    }
   ],
   "source": [
    "s2 = pd.Series([11, 22, 33, 44, 33, 22])\n",
    "\n",
    "s2"
   ]
  },
  {
   "cell_type": "markdown",
   "id": "96fc693d",
   "metadata": {},
   "source": [
    "### Creating Pandas Series, from Dict"
   ]
  },
  {
   "cell_type": "code",
   "execution_count": 11,
   "id": "a578ce10",
   "metadata": {},
   "outputs": [
    {
     "data": {
      "text/plain": [
       "a    10\n",
       "b    20\n",
       "c    30\n",
       "dtype: int64"
      ]
     },
     "execution_count": 11,
     "metadata": {},
     "output_type": "execute_result"
    }
   ],
   "source": [
    "my_dict = {\"a\": 10, \"b\": 20, \"c\": 30}\n",
    "s3 = pd.Series(my_dict)\n",
    "\n",
    "s3"
   ]
  },
  {
   "cell_type": "markdown",
   "id": "b6d25e58",
   "metadata": {},
   "source": [
    "### Creating Pandas Series, from Set"
   ]
  },
  {
   "cell_type": "code",
   "execution_count": 12,
   "id": "a47154be",
   "metadata": {},
   "outputs": [
    {
     "name": "stdout",
     "output_type": "stream",
     "text": [
      "'set' type is unordered\n"
     ]
    }
   ],
   "source": [
    "try:\n",
    "    pd.Series({11, 22, 33, 44, 33, 22})\n",
    "except TypeError as ex:\n",
    "    print(ex)"
   ]
  },
  {
   "cell_type": "markdown",
   "id": "ff43e811",
   "metadata": {},
   "source": [
    "### Creating Pandas Series, from tuple"
   ]
  },
  {
   "cell_type": "code",
   "execution_count": 13,
   "id": "4a01ff17",
   "metadata": {},
   "outputs": [
    {
     "data": {
      "text/plain": [
       "0    11\n",
       "1    22\n",
       "2    33\n",
       "3    44\n",
       "4    33\n",
       "5    22\n",
       "dtype: int64"
      ]
     },
     "execution_count": 13,
     "metadata": {},
     "output_type": "execute_result"
    }
   ],
   "source": [
    "s2 = pd.Series((11, 22, 33, 44, 33, 22))\n",
    "\n",
    "s2"
   ]
  },
  {
   "cell_type": "markdown",
   "id": "281a033e",
   "metadata": {},
   "source": [
    "### Pandas Series Operations"
   ]
  },
  {
   "cell_type": "code",
   "execution_count": 14,
   "id": "ed891006",
   "metadata": {},
   "outputs": [
    {
     "data": {
      "text/plain": [
       "RangeIndex(start=0, stop=6, step=1)"
      ]
     },
     "execution_count": 14,
     "metadata": {},
     "output_type": "execute_result"
    }
   ],
   "source": [
    "s2.index  # To get index of Series"
   ]
  },
  {
   "cell_type": "code",
   "execution_count": 15,
   "id": "021a2df5",
   "metadata": {},
   "outputs": [
    {
     "data": {
      "text/plain": [
       "array([11, 22, 33, 44, 33, 22], dtype=int64)"
      ]
     },
     "execution_count": 15,
     "metadata": {},
     "output_type": "execute_result"
    }
   ],
   "source": [
    "s2.values  # to get values"
   ]
  },
  {
   "cell_type": "markdown",
   "id": "71e0ea67",
   "metadata": {},
   "source": [
    "#### Indexing"
   ]
  },
  {
   "cell_type": "code",
   "execution_count": 22,
   "id": "293af4e8",
   "metadata": {},
   "outputs": [
    {
     "data": {
      "text/plain": [
       "[(0, 11), (1, 22), (2, 33), (3, 44), (4, 33), (5, 22)]"
      ]
     },
     "execution_count": 22,
     "metadata": {},
     "output_type": "execute_result"
    }
   ],
   "source": [
    "list(s2.items())"
   ]
  },
  {
   "cell_type": "code",
   "execution_count": 21,
   "id": "7d8fbf6e",
   "metadata": {},
   "outputs": [
    {
     "data": {
      "text/plain": [
       "RangeIndex(start=0, stop=6, step=1)"
      ]
     },
     "execution_count": 21,
     "metadata": {},
     "output_type": "execute_result"
    }
   ],
   "source": [
    "s2.keys()"
   ]
  },
  {
   "cell_type": "code",
   "execution_count": 16,
   "id": "778e2f81",
   "metadata": {},
   "outputs": [
    {
     "name": "stdout",
     "output_type": "stream",
     "text": [
      "\n",
      "    s2[0]    =11\n",
      "    s2[3]    =44\n",
      "\n"
     ]
    }
   ],
   "source": [
    "print(\n",
    "    f\"\"\"\n",
    "    {s2[0]    =}\n",
    "    {s2[3]    =}\n",
    "\"\"\"\n",
    ")"
   ]
  },
  {
   "cell_type": "code",
   "execution_count": 17,
   "id": "c3093184",
   "metadata": {},
   "outputs": [
    {
     "name": "stdout",
     "output_type": "stream",
     "text": [
      "-1\n",
      "Negatives indices were not supported\n"
     ]
    }
   ],
   "source": [
    "try:\n",
    "    s2[-1]\n",
    "except (ValueError, KeyError) as ex:\n",
    "    print(ex)\n",
    "    print(\"Negatives indices were not supported\")"
   ]
  },
  {
   "cell_type": "code",
   "execution_count": 18,
   "id": "360f7de8",
   "metadata": {},
   "outputs": [
    {
     "data": {
      "text/plain": [
       "0    11\n",
       "2    33\n",
       "4    33\n",
       "dtype: int64"
      ]
     },
     "execution_count": 18,
     "metadata": {},
     "output_type": "execute_result"
    }
   ],
   "source": [
    "# Accessing Multiple Values\n",
    "s2[[0, 2, 4]]"
   ]
  },
  {
   "cell_type": "code",
   "execution_count": 23,
   "id": "bc8be5ba",
   "metadata": {},
   "outputs": [
    {
     "data": {
      "text/plain": [
       "0"
      ]
     },
     "execution_count": 23,
     "metadata": {},
     "output_type": "execute_result"
    }
   ],
   "source": [
    "s2.first_valid_index()"
   ]
  },
  {
   "cell_type": "code",
   "execution_count": 24,
   "id": "8e94ef60",
   "metadata": {},
   "outputs": [
    {
     "data": {
      "text/plain": [
       "5"
      ]
     },
     "execution_count": 24,
     "metadata": {},
     "output_type": "execute_result"
    }
   ],
   "source": [
    "s2.last_valid_index()"
   ]
  },
  {
   "cell_type": "markdown",
   "id": "9e0741d3",
   "metadata": {},
   "source": [
    "#### Slicing"
   ]
  },
  {
   "cell_type": "code",
   "execution_count": 19,
   "id": "cb2a3edc",
   "metadata": {},
   "outputs": [
    {
     "data": {
      "text/plain": [
       "0    11\n",
       "1    22\n",
       "2    33\n",
       "3    44\n",
       "dtype: int64"
      ]
     },
     "execution_count": 19,
     "metadata": {},
     "output_type": "execute_result"
    }
   ],
   "source": [
    "s2[:4]"
   ]
  },
  {
   "cell_type": "code",
   "execution_count": 64,
   "id": "09fac1bb",
   "metadata": {},
   "outputs": [
    {
     "data": {
      "text/plain": [
       "5    22\n",
       "4    33\n",
       "3    44\n",
       "2    33\n",
       "1    22\n",
       "0    11\n",
       "dtype: int64"
      ]
     },
     "execution_count": 64,
     "metadata": {},
     "output_type": "execute_result"
    }
   ],
   "source": [
    "s2[::-1]"
   ]
  },
  {
   "cell_type": "code",
   "execution_count": 20,
   "id": "6d5c788c",
   "metadata": {},
   "outputs": [
    {
     "data": {
      "text/plain": [
       "0    11\n",
       "1    22\n",
       "2    33\n",
       "3    44\n",
       "4    33\n",
       "5    22\n",
       "dtype: int64"
      ]
     },
     "execution_count": 20,
     "metadata": {},
     "output_type": "execute_result"
    }
   ],
   "source": [
    "s2"
   ]
  },
  {
   "cell_type": "markdown",
   "id": "38bafcf5",
   "metadata": {},
   "source": [
    "#### Filtering a series"
   ]
  },
  {
   "cell_type": "code",
   "execution_count": 72,
   "id": "2a3cb70e",
   "metadata": {},
   "outputs": [
    {
     "data": {
      "text/plain": [
       "1    22\n",
       "3    44\n",
       "5    22\n",
       "dtype: int64"
      ]
     },
     "execution_count": 72,
     "metadata": {},
     "output_type": "execute_result"
    }
   ],
   "source": [
    "s2[s2 % 2 == 0]"
   ]
  },
  {
   "cell_type": "code",
   "execution_count": 73,
   "id": "43ca6a00",
   "metadata": {},
   "outputs": [
    {
     "data": {
      "text/plain": [
       "2    33\n",
       "3    44\n",
       "4    33\n",
       "dtype: int64"
      ]
     },
     "execution_count": 73,
     "metadata": {},
     "output_type": "execute_result"
    }
   ],
   "source": [
    "s2[s2 > 30]"
   ]
  },
  {
   "cell_type": "markdown",
   "id": "cec75646",
   "metadata": {},
   "source": [
    "#### Statistics operations"
   ]
  },
  {
   "cell_type": "code",
   "execution_count": 25,
   "id": "af094449",
   "metadata": {},
   "outputs": [
    {
     "name": "stdout",
     "output_type": "stream",
     "text": [
      " \n",
      "    s2.max()          =44\n",
      "    s2.mean()         =27.5\n",
      "    s2.median()       =27.5\n",
      "    s2.min()          =11\n",
      "\n",
      "    s2.memory_usage() =180\n",
      "    s2.nbytes         =48\n",
      "    \n",
      "    s2.ndim           =1\n",
      "\n"
     ]
    }
   ],
   "source": [
    "print(\n",
    "    f\"\"\" \n",
    "    {s2.max()          =}\n",
    "    {s2.mean()         =}\n",
    "    {s2.median()       =}\n",
    "    {s2.min()          =}\n",
    "\n",
    "    {s2.memory_usage() =}\n",
    "    {s2.nbytes         =}\n",
    "    \n",
    "    {s2.ndim           =}\n",
    "\"\"\"\n",
    ")"
   ]
  },
  {
   "cell_type": "code",
   "execution_count": 26,
   "id": "bc4cb4bf",
   "metadata": {},
   "outputs": [
    {
     "data": {
      "text/plain": [
       "0    22\n",
       "1    33\n",
       "dtype: int64"
      ]
     },
     "execution_count": 26,
     "metadata": {},
     "output_type": "execute_result"
    }
   ],
   "source": [
    "s2.mode()"
   ]
  },
  {
   "cell_type": "code",
   "execution_count": 27,
   "id": "ee4fbe66",
   "metadata": {},
   "outputs": [
    {
     "name": "stderr",
     "output_type": "stream",
     "text": [
      "C:\\Users\\Amma\\AppData\\Local\\Temp\\ipykernel_25316\\2275792926.py:1: FutureWarning: The 'mad' method is deprecated and will be removed in a future version. To compute the same result, you may do `(df - df.mean()).abs().mean()`.\n",
      "  s2.mad() == (s2 - s2.mean()).abs().mean()\n"
     ]
    },
    {
     "data": {
      "text/plain": [
       "True"
      ]
     },
     "execution_count": 27,
     "metadata": {},
     "output_type": "execute_result"
    }
   ],
   "source": [
    "# mad - mean absolute deviation of the values\n",
    "s2.mad() == (s2 - s2.mean()).abs().mean()"
   ]
  },
  {
   "cell_type": "code",
   "execution_count": 28,
   "id": "d5f54d4b",
   "metadata": {},
   "outputs": [
    {
     "data": {
      "text/plain": [
       "3    44\n",
       "2    33\n",
       "4    33\n",
       "1    22\n",
       "5    22\n",
       "dtype: int64"
      ]
     },
     "execution_count": 28,
     "metadata": {},
     "output_type": "execute_result"
    }
   ],
   "source": [
    "s2.nlargest()"
   ]
  },
  {
   "cell_type": "code",
   "execution_count": 29,
   "id": "74ad695c",
   "metadata": {},
   "outputs": [
    {
     "name": "stdout",
     "output_type": "stream",
     "text": [
      "44\n",
      "33\n",
      "33\n",
      "22\n",
      "22\n"
     ]
    }
   ],
   "source": [
    "for each in s2.nlargest():\n",
    "    print(each)"
   ]
  },
  {
   "cell_type": "code",
   "execution_count": 30,
   "id": "18214626",
   "metadata": {},
   "outputs": [
    {
     "data": {
      "text/plain": [
       "0    11\n",
       "1    22\n",
       "5    22\n",
       "2    33\n",
       "4    33\n",
       "dtype: int64"
      ]
     },
     "execution_count": 30,
     "metadata": {},
     "output_type": "execute_result"
    }
   ],
   "source": [
    "s2.nsmallest()"
   ]
  },
  {
   "cell_type": "code",
   "execution_count": 31,
   "id": "fca435cd",
   "metadata": {},
   "outputs": [
    {
     "data": {
      "text/plain": [
       "4"
      ]
     },
     "execution_count": 31,
     "metadata": {},
     "output_type": "execute_result"
    }
   ],
   "source": [
    "s2.nunique()"
   ]
  },
  {
   "cell_type": "code",
   "execution_count": 34,
   "id": "b54bb104",
   "metadata": {},
   "outputs": [
    {
     "data": {
      "text/plain": [
       "[11, 22, 33, 44, 33, 22]"
      ]
     },
     "execution_count": 34,
     "metadata": {},
     "output_type": "execute_result"
    }
   ],
   "source": [
    "s2.to_list()"
   ]
  },
  {
   "cell_type": "code",
   "execution_count": 35,
   "id": "e1e98cde",
   "metadata": {},
   "outputs": [
    {
     "data": {
      "text/plain": [
       "{0: 11, 1: 22, 2: 33, 3: 44, 4: 33, 5: 22}"
      ]
     },
     "execution_count": 35,
     "metadata": {},
     "output_type": "execute_result"
    }
   ],
   "source": [
    "s2.to_dict()"
   ]
  },
  {
   "cell_type": "code",
   "execution_count": 36,
   "id": "49679f20",
   "metadata": {},
   "outputs": [
    {
     "data": {
      "text/plain": [
       "'{\"0\":11,\"1\":22,\"2\":33,\"3\":44,\"4\":33,\"5\":22}'"
      ]
     },
     "execution_count": 36,
     "metadata": {},
     "output_type": "execute_result"
    }
   ],
   "source": [
    "s2.to_json()"
   ]
  },
  {
   "cell_type": "code",
   "execution_count": 37,
   "id": "80b35374",
   "metadata": {},
   "outputs": [
    {
     "data": {
      "text/plain": [
       "'0    11\\n1    22\\n2    33\\n3    44\\n4    33\\n5    22'"
      ]
     },
     "execution_count": 37,
     "metadata": {},
     "output_type": "execute_result"
    }
   ],
   "source": [
    "s2.to_string()"
   ]
  },
  {
   "cell_type": "code",
   "execution_count": 39,
   "id": "d727861f",
   "metadata": {},
   "outputs": [
    {
     "data": {
      "text/html": [
       "<div>\n",
       "<style scoped>\n",
       "    .dataframe tbody tr th:only-of-type {\n",
       "        vertical-align: middle;\n",
       "    }\n",
       "\n",
       "    .dataframe tbody tr th {\n",
       "        vertical-align: top;\n",
       "    }\n",
       "\n",
       "    .dataframe thead th {\n",
       "        text-align: right;\n",
       "    }\n",
       "</style>\n",
       "<table border=\"1\" class=\"dataframe\">\n",
       "  <thead>\n",
       "    <tr style=\"text-align: right;\">\n",
       "      <th></th>\n",
       "      <th>0</th>\n",
       "    </tr>\n",
       "  </thead>\n",
       "  <tbody>\n",
       "    <tr>\n",
       "      <th>0</th>\n",
       "      <td>11</td>\n",
       "    </tr>\n",
       "    <tr>\n",
       "      <th>1</th>\n",
       "      <td>22</td>\n",
       "    </tr>\n",
       "    <tr>\n",
       "      <th>2</th>\n",
       "      <td>33</td>\n",
       "    </tr>\n",
       "    <tr>\n",
       "      <th>3</th>\n",
       "      <td>44</td>\n",
       "    </tr>\n",
       "    <tr>\n",
       "      <th>4</th>\n",
       "      <td>33</td>\n",
       "    </tr>\n",
       "    <tr>\n",
       "      <th>5</th>\n",
       "      <td>22</td>\n",
       "    </tr>\n",
       "  </tbody>\n",
       "</table>\n",
       "</div>"
      ],
      "text/plain": [
       "    0\n",
       "0  11\n",
       "1  22\n",
       "2  33\n",
       "3  44\n",
       "4  33\n",
       "5  22"
      ]
     },
     "execution_count": 39,
     "metadata": {},
     "output_type": "execute_result"
    }
   ],
   "source": [
    "s2.to_frame()"
   ]
  },
  {
   "cell_type": "code",
   "execution_count": 40,
   "id": "ca5a7822",
   "metadata": {},
   "outputs": [],
   "source": [
    "s2.to_pickle(\"outputs/s2_series.pkl\")"
   ]
  },
  {
   "cell_type": "code",
   "execution_count": 32,
   "id": "684bfc0b",
   "metadata": {},
   "outputs": [],
   "source": [
    "s2.to_csv(\"outputs/s2_series.csv\")"
   ]
  },
  {
   "cell_type": "code",
   "execution_count": null,
   "id": "00de7611",
   "metadata": {},
   "outputs": [],
   "source": [
    "s2.to_json(\"outputs/s2_series.json\")"
   ]
  },
  {
   "cell_type": "code",
   "execution_count": 66,
   "id": "05848c4f",
   "metadata": {},
   "outputs": [],
   "source": [
    "s2.to_clipboard()"
   ]
  },
  {
   "cell_type": "raw",
   "id": "320ee0ea",
   "metadata": {},
   "source": [
    "# ctrl + v\n",
    "\n",
    "\t0\n",
    "0\t11\n",
    "1\t22\n",
    "2\t33\n",
    "3\t44\n",
    "4\t33\n",
    "5\t22\n"
   ]
  },
  {
   "cell_type": "code",
   "execution_count": 38,
   "id": "022bc09c",
   "metadata": {},
   "outputs": [
    {
     "name": "stderr",
     "output_type": "stream",
     "text": [
      "C:\\Users\\Amma\\AppData\\Local\\Temp\\ipykernel_25316\\2598588326.py:1: FutureWarning: In future versions `DataFrame.to_latex` is expected to utilise the base implementation of `Styler.to_latex` for formatting and rendering. The arguments signature may therefore change. It is recommended instead to use `DataFrame.style.to_latex` which also contains additional functionality.\n",
      "  s2.to_latex()\n"
     ]
    },
    {
     "data": {
      "text/plain": [
       "'\\\\begin{tabular}{lr}\\n\\\\toprule\\n{} &   0 \\\\\\\\\\n\\\\midrule\\n0 &  11 \\\\\\\\\\n1 &  22 \\\\\\\\\\n2 &  33 \\\\\\\\\\n3 &  44 \\\\\\\\\\n4 &  33 \\\\\\\\\\n5 &  22 \\\\\\\\\\n\\\\bottomrule\\n\\\\end{tabular}\\n'"
      ]
     },
     "execution_count": 38,
     "metadata": {},
     "output_type": "execute_result"
    }
   ],
   "source": [
    "s2.to_latex()"
   ]
  },
  {
   "cell_type": "code",
   "execution_count": 70,
   "id": "48990fbb",
   "metadata": {},
   "outputs": [
    {
     "name": "stdout",
     "output_type": "stream",
     "text": [
      "Collecting tabulate\n",
      "  Downloading tabulate-0.9.0-py3-none-any.whl (35 kB)\n",
      "Installing collected packages: tabulate\n",
      "Successfully installed tabulate-0.9.0\n"
     ]
    },
    {
     "name": "stderr",
     "output_type": "stream",
     "text": [
      "\n",
      "[notice] A new release of pip available: 22.3.1 -> 23.0.1\n",
      "[notice] To update, run: python.exe -m pip install --upgrade pip\n"
     ]
    },
    {
     "data": {
      "text/plain": [
       "'|    |   0 |\\n|---:|----:|\\n|  0 |  11 |\\n|  1 |  22 |\\n|  2 |  33 |\\n|  3 |  44 |\\n|  4 |  33 |\\n|  5 |  22 |'"
      ]
     },
     "execution_count": 70,
     "metadata": {},
     "output_type": "execute_result"
    }
   ],
   "source": [
    "! pip install -U tabulate\n",
    "\n",
    "\n",
    "s2.to_markdown()"
   ]
  },
  {
   "cell_type": "code",
   "execution_count": 41,
   "id": "e84f5e75",
   "metadata": {},
   "outputs": [],
   "source": [
    "# s2.to_xarray()\n",
    "# s2.to_timestamp()"
   ]
  },
  {
   "cell_type": "code",
   "execution_count": 42,
   "id": "88dff456",
   "metadata": {},
   "outputs": [
    {
     "data": {
      "text/plain": [
       "0    11\n",
       "1    22\n",
       "2    33\n",
       "3    44\n",
       "4    33\n",
       "5    22\n",
       "dtype: int64"
      ]
     },
     "execution_count": 42,
     "metadata": {},
     "output_type": "execute_result"
    }
   ],
   "source": [
    "s2"
   ]
  },
  {
   "cell_type": "code",
   "execution_count": 43,
   "id": "b744d9ba",
   "metadata": {},
   "outputs": [
    {
     "data": {
      "text/plain": [
       "0    11\n",
       "1    22\n",
       "2    33\n",
       "3    44\n",
       "4    33\n",
       "5    22\n",
       "dtype: int64"
      ]
     },
     "execution_count": 43,
     "metadata": {},
     "output_type": "execute_result"
    }
   ],
   "source": [
    "s2.transpose()"
   ]
  },
  {
   "cell_type": "code",
   "execution_count": 44,
   "id": "6af742d5",
   "metadata": {},
   "outputs": [
    {
     "data": {
      "text/plain": [
       "0    11\n",
       "1    22\n",
       "2    33\n",
       "3    44\n",
       "4    33\n",
       "5    22\n",
       "dtype: int64"
      ]
     },
     "execution_count": 44,
     "metadata": {},
     "output_type": "execute_result"
    }
   ],
   "source": [
    "s2.T"
   ]
  },
  {
   "cell_type": "code",
   "execution_count": 45,
   "id": "2f39ddaf",
   "metadata": {},
   "outputs": [
    {
     "data": {
      "text/plain": [
       "0    11\n",
       "1    22\n",
       "2    33\n",
       "3    44\n",
       "4    33\n",
       "5    22\n",
       "dtype: int64"
      ]
     },
     "execution_count": 45,
     "metadata": {},
     "output_type": "execute_result"
    }
   ],
   "source": [
    "s2"
   ]
  },
  {
   "cell_type": "code",
   "execution_count": 46,
   "id": "fc7fc586",
   "metadata": {},
   "outputs": [
    {
     "data": {
      "text/plain": [
       "0    11\n",
       "1    22\n",
       "2    33\n",
       "3    44\n",
       "4    33\n",
       "5    22\n",
       "dtype: int64"
      ]
     },
     "execution_count": 46,
     "metadata": {},
     "output_type": "execute_result"
    }
   ],
   "source": [
    "s2.interpolate()"
   ]
  },
  {
   "cell_type": "code",
   "execution_count": 71,
   "id": "6e35ae70",
   "metadata": {},
   "outputs": [
    {
     "data": {
      "text/plain": [
       "False"
      ]
     },
     "execution_count": 71,
     "metadata": {},
     "output_type": "execute_result"
    }
   ],
   "source": [
    "s2.is_monotonic_increasing"
   ]
  },
  {
   "cell_type": "code",
   "execution_count": 48,
   "id": "c1efc67d",
   "metadata": {},
   "outputs": [
    {
     "data": {
      "text/plain": [
       "0    10\n",
       "1     9\n",
       "2     8\n",
       "3     7\n",
       "4     6\n",
       "dtype: int64"
      ]
     },
     "execution_count": 48,
     "metadata": {},
     "output_type": "execute_result"
    }
   ],
   "source": [
    "s3 = pd.Series([10, 9, 8, 7, 6])\n",
    "\n",
    "s3.interpolate()"
   ]
  },
  {
   "cell_type": "code",
   "execution_count": 49,
   "id": "cf35de5e",
   "metadata": {},
   "outputs": [
    {
     "name": "stderr",
     "output_type": "stream",
     "text": [
      "C:\\Users\\Amma\\AppData\\Local\\Temp\\ipykernel_25316\\1622692368.py:1: FutureWarning: is_monotonic is deprecated and will be removed in a future version. Use is_monotonic_increasing instead.\n",
      "  s3.is_monotonic\n"
     ]
    },
    {
     "data": {
      "text/plain": [
       "False"
      ]
     },
     "execution_count": 49,
     "metadata": {},
     "output_type": "execute_result"
    }
   ],
   "source": [
    "s3.is_monotonic"
   ]
  },
  {
   "cell_type": "code",
   "execution_count": 50,
   "id": "aea0a7a0",
   "metadata": {},
   "outputs": [
    {
     "data": {
      "text/plain": [
       "True"
      ]
     },
     "execution_count": 50,
     "metadata": {},
     "output_type": "execute_result"
    }
   ],
   "source": [
    "s3.is_monotonic_decreasing"
   ]
  },
  {
   "cell_type": "code",
   "execution_count": 51,
   "id": "cea467db",
   "metadata": {},
   "outputs": [
    {
     "data": {
      "text/plain": [
       "False"
      ]
     },
     "execution_count": 51,
     "metadata": {},
     "output_type": "execute_result"
    }
   ],
   "source": [
    "s3.is_monotonic_increasing"
   ]
  },
  {
   "cell_type": "code",
   "execution_count": 52,
   "id": "f75b8051",
   "metadata": {},
   "outputs": [
    {
     "data": {
      "text/plain": [
       "True"
      ]
     },
     "execution_count": 52,
     "metadata": {},
     "output_type": "execute_result"
    }
   ],
   "source": [
    "s3.is_unique"
   ]
  },
  {
   "cell_type": "code",
   "execution_count": 53,
   "id": "d9375363",
   "metadata": {},
   "outputs": [
    {
     "data": {
      "text/plain": [
       "0    10\n",
       "1     9\n",
       "2     8\n",
       "3     7\n",
       "4     6\n",
       "dtype: int64"
      ]
     },
     "execution_count": 53,
     "metadata": {},
     "output_type": "execute_result"
    }
   ],
   "source": [
    "s3.pad(axis=0)"
   ]
  },
  {
   "cell_type": "code",
   "execution_count": 54,
   "id": "04edac4a",
   "metadata": {},
   "outputs": [
    {
     "data": {
      "text/plain": [
       "DatetimeIndex(['2015-12-01 01:00:00', '2015-12-01 02:00:00',\n",
       "               '2015-12-01 03:00:00', '2015-12-01 04:00:00',\n",
       "               '2015-12-01 05:00:00', '2015-12-01 06:00:00',\n",
       "               '2015-12-01 07:00:00'],\n",
       "              dtype='datetime64[ns]', freq='H')"
      ]
     },
     "execution_count": 54,
     "metadata": {},
     "output_type": "execute_result"
    }
   ],
   "source": [
    "pd.date_range(\"2015-12-01 01:00:00\", periods=7, freq=\"h\")"
   ]
  },
  {
   "cell_type": "code",
   "execution_count": 55,
   "id": "d24e0960",
   "metadata": {},
   "outputs": [
    {
     "data": {
      "text/plain": [
       "DatetimeIndex(['2015-12-01 01:00:00', '2015-12-01 03:00:00',\n",
       "               '2015-12-01 05:00:00', '2015-12-01 07:00:00',\n",
       "               '2015-12-01 09:00:00', '2015-12-01 11:00:00',\n",
       "               '2015-12-01 13:00:00'],\n",
       "              dtype='datetime64[ns]', freq='2H')"
      ]
     },
     "execution_count": 55,
     "metadata": {},
     "output_type": "execute_result"
    }
   ],
   "source": [
    "pd.date_range(\"2015-12-01 01:00:00\", periods=7, freq=\"2h\")"
   ]
  },
  {
   "cell_type": "code",
   "execution_count": 56,
   "id": "4457b9fc",
   "metadata": {},
   "outputs": [
    {
     "data": {
      "text/plain": [
       "DatetimeIndex(['2015-12-01 01:00:00', '2015-12-01 07:00:00',\n",
       "               '2015-12-01 13:00:00', '2015-12-01 19:00:00',\n",
       "               '2015-12-02 01:00:00', '2015-12-02 07:00:00',\n",
       "               '2015-12-02 13:00:00'],\n",
       "              dtype='datetime64[ns]', freq='6H')"
      ]
     },
     "execution_count": 56,
     "metadata": {},
     "output_type": "execute_result"
    }
   ],
   "source": [
    "pd.date_range(\"2015-12-01 01:00:00\", periods=7, freq=\"6h\")"
   ]
  },
  {
   "cell_type": "code",
   "execution_count": 57,
   "id": "556c21f2",
   "metadata": {},
   "outputs": [
    {
     "data": {
      "text/plain": [
       "DatetimeIndex(['2015-12-01 01:00:00', '2015-12-01 01:30:00',\n",
       "               '2015-12-01 02:00:00', '2015-12-01 02:30:00',\n",
       "               '2015-12-01 03:00:00', '2015-12-01 03:30:00',\n",
       "               '2015-12-01 04:00:00'],\n",
       "              dtype='datetime64[ns]', freq='30T')"
      ]
     },
     "execution_count": 57,
     "metadata": {},
     "output_type": "execute_result"
    }
   ],
   "source": [
    "pd.date_range(\"2015-12-01 01:00:00\", periods=7, freq=\"30min\")"
   ]
  },
  {
   "cell_type": "code",
   "execution_count": 58,
   "id": "2519bac7",
   "metadata": {},
   "outputs": [
    {
     "data": {
      "text/plain": [
       "DatetimeIndex(['2015-12-01 01:00:00', '2015-12-02 01:00:00',\n",
       "               '2015-12-03 01:00:00', '2015-12-04 01:00:00',\n",
       "               '2015-12-05 01:00:00', '2015-12-06 01:00:00',\n",
       "               '2015-12-07 01:00:00'],\n",
       "              dtype='datetime64[ns]', freq='D')"
      ]
     },
     "execution_count": 58,
     "metadata": {},
     "output_type": "execute_result"
    }
   ],
   "source": [
    "pd.date_range(\"2015-12-01 01:00:00\", periods=7, freq=\"D\")"
   ]
  },
  {
   "cell_type": "code",
   "execution_count": 59,
   "id": "1f9b5bc8",
   "metadata": {},
   "outputs": [
    {
     "data": {
      "text/plain": [
       "DatetimeIndex(['2015-12-01 01:00:00', '2015-12-02 01:00:00',\n",
       "               '2015-12-03 01:00:00', '2015-12-04 01:00:00',\n",
       "               '2015-12-05 01:00:00', '2015-12-06 01:00:00',\n",
       "               '2015-12-07 01:00:00'],\n",
       "              dtype='datetime64[ns]', freq='D')"
      ]
     },
     "execution_count": 59,
     "metadata": {},
     "output_type": "execute_result"
    }
   ],
   "source": [
    "pd.date_range(\"2015-12-01 01:00:00\", periods=7)  # default is day"
   ]
  },
  {
   "cell_type": "code",
   "execution_count": 60,
   "id": "9ffd3d04",
   "metadata": {},
   "outputs": [
    {
     "data": {
      "text/plain": [
       "DatetimeIndex(['2015-12-01 01:00:00', '2015-12-01 01:00:01',\n",
       "               '2015-12-01 01:00:02', '2015-12-01 01:00:03',\n",
       "               '2015-12-01 01:00:04', '2015-12-01 01:00:05',\n",
       "               '2015-12-01 01:00:06'],\n",
       "              dtype='datetime64[ns]', freq='S')"
      ]
     },
     "execution_count": 60,
     "metadata": {},
     "output_type": "execute_result"
    }
   ],
   "source": [
    "pd.date_range(\"2015-12-01 01:00:00\", periods=7, freq=\"s\")"
   ]
  },
  {
   "cell_type": "code",
   "execution_count": 61,
   "id": "95c92689",
   "metadata": {},
   "outputs": [
    {
     "data": {
      "text/plain": [
       "DatetimeIndex([       '2015-12-01 01:00:00', '2015-12-01 01:00:00.001000',\n",
       "               '2015-12-01 01:00:00.002000', '2015-12-01 01:00:00.003000',\n",
       "               '2015-12-01 01:00:00.004000', '2015-12-01 01:00:00.005000',\n",
       "               '2015-12-01 01:00:00.006000'],\n",
       "              dtype='datetime64[ns]', freq='L')"
      ]
     },
     "execution_count": 61,
     "metadata": {},
     "output_type": "execute_result"
    }
   ],
   "source": [
    "pd.date_range(\"2015-12-01 01:00:00\", periods=7, freq=\"ms\")"
   ]
  },
  {
   "cell_type": "code",
   "execution_count": 62,
   "id": "96c65bc3",
   "metadata": {},
   "outputs": [
    {
     "data": {
      "text/plain": [
       "DatetimeIndex([          '2015-12-01 01:00:00',\n",
       "               '2015-12-01 01:00:00.000000001',\n",
       "               '2015-12-01 01:00:00.000000002',\n",
       "               '2015-12-01 01:00:00.000000003',\n",
       "               '2015-12-01 01:00:00.000000004',\n",
       "               '2015-12-01 01:00:00.000000005',\n",
       "               '2015-12-01 01:00:00.000000006'],\n",
       "              dtype='datetime64[ns]', freq='N')"
      ]
     },
     "execution_count": 62,
     "metadata": {},
     "output_type": "execute_result"
    }
   ],
   "source": [
    "pd.date_range(\"2015-12-01 01:00:00\", periods=7, freq=\"ns\")"
   ]
  },
  {
   "cell_type": "code",
   "execution_count": null,
   "id": "fc1b45d5",
   "metadata": {},
   "outputs": [],
   "source": []
  }
 ],
 "metadata": {
  "kernelspec": {
   "display_name": "Python 3 (ipykernel)",
   "language": "python",
   "name": "python3"
  },
  "language_info": {
   "codemirror_mode": {
    "name": "ipython",
    "version": 3
   },
   "file_extension": ".py",
   "mimetype": "text/x-python",
   "name": "python",
   "nbconvert_exporter": "python",
   "pygments_lexer": "ipython3",
   "version": "3.11.2"
  }
 },
 "nbformat": 4,
 "nbformat_minor": 5
}
