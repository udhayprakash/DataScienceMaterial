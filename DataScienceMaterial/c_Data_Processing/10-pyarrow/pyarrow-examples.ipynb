{
 "cells": [
  {
   "cell_type": "markdown",
   "id": "66756622",
   "metadata": {},
   "source": [
    "Arrow manages data in arrays (pyarrow.Array), which can be grouped in tables (pyarrow.Table) to represent columns of data in tabular data.\n",
    "\n"
   ]
  },
  {
   "cell_type": "code",
   "execution_count": 1,
   "id": "64290aef",
   "metadata": {},
   "outputs": [],
   "source": [
    "import pyarrow as pa"
   ]
  },
  {
   "cell_type": "code",
   "execution_count": 2,
   "id": "c6648012",
   "metadata": {},
   "outputs": [
    {
     "data": {
      "text/plain": [
       "<pyarrow.lib.Int8Array object at 0x000001F18C692620>\n",
       "[\n",
       "  1,\n",
       "  12,\n",
       "  17,\n",
       "  23,\n",
       "  28\n",
       "]"
      ]
     },
     "execution_count": 2,
     "metadata": {},
     "output_type": "execute_result"
    }
   ],
   "source": [
    "days = pa.array([1, 12, 17, 23, 28], type=pa.int8())\n",
    "days"
   ]
  },
  {
   "cell_type": "markdown",
   "id": "06bdec5a",
   "metadata": {},
   "source": [
    "Multiple arrays can be combined in tables to form the columns in tabular data when attached to a column name\n",
    "\n"
   ]
  },
  {
   "cell_type": "code",
   "execution_count": 3,
   "id": "f9f246f6",
   "metadata": {},
   "outputs": [],
   "source": [
    "months = pa.array([1, 3, 5, 7, 1], type=pa.int8())\n",
    "years = pa.array([1990, 2000, 1995, 2000, 1995], type=pa.int16())"
   ]
  },
  {
   "cell_type": "code",
   "execution_count": 4,
   "id": "56812324",
   "metadata": {},
   "outputs": [
    {
     "data": {
      "text/plain": [
       "pyarrow.Table\n",
       "days: int8\n",
       "months: int8\n",
       "years: int16\n",
       "----\n",
       "days: [[1,12,17,23,28]]\n",
       "months: [[1,3,5,7,1]]\n",
       "years: [[1990,2000,1995,2000,1995]]"
      ]
     },
     "execution_count": 4,
     "metadata": {},
     "output_type": "execute_result"
    }
   ],
   "source": [
    "birthdays_table = pa.table([days, months, years], names=[\"days\", \"months\", \"years\"])\n",
    "birthdays_table"
   ]
  },
  {
   "cell_type": "markdown",
   "id": "dc692eb8",
   "metadata": {},
   "source": [
    "## Saving and Loading Tables"
   ]
  },
  {
   "cell_type": "code",
   "execution_count": 5,
   "id": "910b9644",
   "metadata": {},
   "outputs": [],
   "source": [
    "import pyarrow.parquet as pq\n",
    "\n",
    "pq.write_table(birthdays_table, \"birthdays.parquet\")"
   ]
  },
  {
   "cell_type": "code",
   "execution_count": 6,
   "id": "1572a38b",
   "metadata": {},
   "outputs": [
    {
     "data": {
      "text/plain": [
       "pyarrow.Table\n",
       "days: int8\n",
       "months: int8\n",
       "years: int16\n",
       "----\n",
       "days: [[1,12,17,23,28]]\n",
       "months: [[1,3,5,7,1]]\n",
       "years: [[1990,2000,1995,2000,1995]]"
      ]
     },
     "execution_count": 6,
     "metadata": {},
     "output_type": "execute_result"
    }
   ],
   "source": [
    "reloaded_birthdays = pq.read_table(\"birthdays.parquet\")\n",
    "reloaded_birthdays"
   ]
  },
  {
   "cell_type": "markdown",
   "id": "0afac009",
   "metadata": {},
   "source": [
    "##  Performing Computations"
   ]
  },
  {
   "cell_type": "code",
   "execution_count": 7,
   "id": "8d4c25e3",
   "metadata": {},
   "outputs": [
    {
     "data": {
      "text/plain": [
       "<pyarrow.lib.StructArray object at 0x000001F18C6EB040>\n",
       "-- is_valid: all not null\n",
       "-- child 0 type: int16\n",
       "  [\n",
       "    1990,\n",
       "    2000,\n",
       "    1995\n",
       "  ]\n",
       "-- child 1 type: int64\n",
       "  [\n",
       "    1,\n",
       "    2,\n",
       "    2\n",
       "  ]"
      ]
     },
     "execution_count": 7,
     "metadata": {},
     "output_type": "execute_result"
    }
   ],
   "source": [
    "import pyarrow.compute as pc\n",
    "\n",
    "pc.value_counts(birthdays_table[\"years\"])"
   ]
  },
  {
   "cell_type": "code",
   "execution_count": 8,
   "id": "0f373afd",
   "metadata": {},
   "outputs": [
    {
     "data": {
      "text/plain": [
       "<pyarrow.Int64Scalar: 7>"
      ]
     },
     "execution_count": 8,
     "metadata": {},
     "output_type": "execute_result"
    }
   ],
   "source": [
    "a = pa.array([1, 1, 2, 3])\n",
    "pc.sum(a)"
   ]
  },
  {
   "cell_type": "code",
   "execution_count": 9,
   "id": "99661fb8",
   "metadata": {},
   "outputs": [
    {
     "data": {
      "text/plain": [
       "<pyarrow.lib.BooleanArray object at 0x000001F18C6EB0A0>\n",
       "[\n",
       "  false,\n",
       "  true,\n",
       "  true,\n",
       "  false\n",
       "]"
      ]
     },
     "execution_count": 9,
     "metadata": {},
     "output_type": "execute_result"
    }
   ],
   "source": [
    "a = pa.array([1, 1, 2, 3])\n",
    "b = pa.array([4, 1, 2, 8])\n",
    "\n",
    "pc.equal(a, b)"
   ]
  },
  {
   "cell_type": "code",
   "execution_count": 10,
   "id": "15a7c4fe",
   "metadata": {},
   "outputs": [
    {
     "data": {
      "text/plain": [
       "<pyarrow.DoubleScalar: 72.54>"
      ]
     },
     "execution_count": 10,
     "metadata": {},
     "output_type": "execute_result"
    }
   ],
   "source": [
    "x, y = pa.scalar(7.8), pa.scalar(9.3)\n",
    "\n",
    "pc.multiply(x, y)"
   ]
  },
  {
   "cell_type": "code",
   "execution_count": 11,
   "id": "f92b725f",
   "metadata": {},
   "outputs": [
    {
     "data": {
      "text/plain": [
       "<pyarrow.lib.UInt64Array object at 0x000001F18C6EB5E0>\n",
       "[\n",
       "  2,\n",
       "  1,\n",
       "  0\n",
       "]"
      ]
     },
     "execution_count": 11,
     "metadata": {},
     "output_type": "execute_result"
    }
   ],
   "source": [
    "t = pa.table({\"x\": [1, 2, 3], \"y\": [3, 2, 1]})\n",
    "i = pc.sort_indices(t, sort_keys=[(\"y\", \"ascending\")])\n",
    "\n",
    "i"
   ]
  },
  {
   "cell_type": "code",
   "execution_count": 12,
   "id": "90620e48",
   "metadata": {},
   "outputs": [
    {
     "data": {
      "text/plain": [
       "pyarrow.Table\n",
       "keys: string\n",
       "values: int64\n",
       "----\n",
       "keys: [[\"a\",\"a\",\"b\",\"b\",\"c\"]]\n",
       "values: [[1,2,3,4,5]]"
      ]
     },
     "execution_count": 12,
     "metadata": {},
     "output_type": "execute_result"
    }
   ],
   "source": [
    "t = pa.table(\n",
    "    [\n",
    "        pa.array([\"a\", \"a\", \"b\", \"b\", \"c\"]),\n",
    "        pa.array([1, 2, 3, 4, 5]),\n",
    "    ],\n",
    "    names=[\"keys\", \"values\"],\n",
    ")\n",
    "\n",
    "t"
   ]
  },
  {
   "cell_type": "code",
   "execution_count": 13,
   "id": "23a2de2f",
   "metadata": {},
   "outputs": [
    {
     "data": {
      "text/plain": [
       "pyarrow.Table\n",
       "values_sum: int64\n",
       "keys: string\n",
       "----\n",
       "values_sum: [[3,7,5]]\n",
       "keys: [[\"a\",\"b\",\"c\"]]"
      ]
     },
     "execution_count": 13,
     "metadata": {},
     "output_type": "execute_result"
    }
   ],
   "source": [
    "t.group_by(\"keys\").aggregate([(\"values\", \"sum\")])"
   ]
  },
  {
   "cell_type": "code",
   "execution_count": 14,
   "id": "1910ccfe",
   "metadata": {},
   "outputs": [
    {
     "data": {
      "text/plain": [
       "pyarrow.Table\n",
       "values_sum: int64\n",
       "keys_count: int64\n",
       "keys: string\n",
       "----\n",
       "values_sum: [[3,7,5]]\n",
       "keys_count: [[2,2,1]]\n",
       "keys: [[\"a\",\"b\",\"c\"]]"
      ]
     },
     "execution_count": 14,
     "metadata": {},
     "output_type": "execute_result"
    }
   ],
   "source": [
    "t = pa.table(\n",
    "    [\n",
    "        pa.array([\"a\", \"a\", \"b\", \"b\", \"c\"]),\n",
    "        pa.array([1, 2, 3, 4, 5]),\n",
    "    ],\n",
    "    names=[\"keys\", \"values\"],\n",
    ")\n",
    "\n",
    "t.group_by(\"keys\").aggregate([(\"values\", \"sum\"), (\"keys\", \"count\")])"
   ]
  },
  {
   "cell_type": "code",
   "execution_count": 15,
   "id": "1ee3cf54",
   "metadata": {},
   "outputs": [
    {
     "data": {
      "text/plain": [
       "pyarrow.Table\n",
       "values_count: int64\n",
       "keys: string\n",
       "----\n",
       "values_count: [[3]]\n",
       "keys: [[\"a\"]]"
      ]
     },
     "execution_count": 15,
     "metadata": {},
     "output_type": "execute_result"
    }
   ],
   "source": [
    "table_with_nulls = pa.table(\n",
    "    [pa.array([\"a\", \"a\", \"a\"]), pa.array([1, None, None])], names=[\"keys\", \"values\"]\n",
    ")\n",
    "table_with_nulls.group_by([\"keys\"]).aggregate(\n",
    "    [(\"values\", \"count\", pc.CountOptions(mode=\"all\"))]\n",
    ")"
   ]
  },
  {
   "cell_type": "code",
   "execution_count": 16,
   "id": "a9e9168d",
   "metadata": {},
   "outputs": [
    {
     "data": {
      "text/plain": [
       "pyarrow.Table\n",
       "values_count: int64\n",
       "keys: string\n",
       "----\n",
       "values_count: [[1]]\n",
       "keys: [[\"a\"]]"
      ]
     },
     "execution_count": 16,
     "metadata": {},
     "output_type": "execute_result"
    }
   ],
   "source": [
    "table_with_nulls.group_by([\"keys\"]).aggregate(\n",
    "    [(\"values\", \"count\", pc.CountOptions(mode=\"only_valid\"))]\n",
    ")"
   ]
  },
  {
   "cell_type": "markdown",
   "id": "3ee3a910",
   "metadata": {},
   "source": [
    "## Working with large data"
   ]
  },
  {
   "cell_type": "code",
   "execution_count": 18,
   "id": "2c453719",
   "metadata": {},
   "outputs": [],
   "source": [
    "import pyarrow.dataset as ds\n",
    "\n",
    "ds.write_dataset(\n",
    "    birthdays_table,\n",
    "    \"savedir\",\n",
    "    format=\"parquet\",\n",
    "    partitioning=ds.partitioning(pa.schema([birthdays_table.schema.field(\"years\")])),\n",
    ")"
   ]
  },
  {
   "cell_type": "code",
   "execution_count": 19,
   "id": "406de8e6",
   "metadata": {},
   "outputs": [],
   "source": [
    "birthdays_dataset = ds.dataset(\"savedir\", format=\"parquet\", partitioning=[\"years\"])"
   ]
  },
  {
   "cell_type": "code",
   "execution_count": 20,
   "id": "5b8b9a3a",
   "metadata": {},
   "outputs": [
    {
     "data": {
      "text/plain": [
       "['savedir/1990/part-0.parquet',\n",
       " 'savedir/1995/part-0.parquet',\n",
       " 'savedir/2000/part-0.parquet']"
      ]
     },
     "execution_count": 20,
     "metadata": {},
     "output_type": "execute_result"
    }
   ],
   "source": [
    "birthdays_dataset.files"
   ]
  },
  {
   "cell_type": "code",
   "execution_count": 21,
   "id": "66bfe25d",
   "metadata": {},
   "outputs": [],
   "source": [
    "import datetime\n",
    "\n",
    "current_year = datetime.datetime.utcnow().year"
   ]
  },
  {
   "cell_type": "code",
   "execution_count": 22,
   "id": "7686cfc8",
   "metadata": {},
   "outputs": [
    {
     "name": "stdout",
     "output_type": "stream",
     "text": [
      "AGES [\n",
      "  32\n",
      "]\n",
      "AGES [\n",
      "  27,\n",
      "  27\n",
      "]\n",
      "AGES [\n",
      "  22,\n",
      "  22\n",
      "]\n"
     ]
    }
   ],
   "source": [
    "for table_chunk in birthdays_dataset.to_batches():\n",
    "    print(\"AGES\", pc.subtract(current_year, table_chunk[\"years\"]))"
   ]
  },
  {
   "cell_type": "markdown",
   "id": "6de978ed",
   "metadata": {},
   "source": [
    "## Type Metadata\n",
    "\n",
    "Apache Arrow defines language agnostic column-oriented data structures for array data. These include:\n",
    "\n",
    " - Fixed-length primitive types: numbers, booleans, date and times, fixed size binary, decimals, and other values that fit into a given number\n",
    " - Variable-length primitive types: binary, string\n",
    " - Nested types: list, map, struct, and union\n",
    " - Dictionary type: An encoded categorical type\n"
   ]
  },
  {
   "cell_type": "code",
   "execution_count": 24,
   "id": "c7ed8b7e",
   "metadata": {},
   "outputs": [
    {
     "name": "stdout",
     "output_type": "stream",
     "text": [
      "int32 <class 'pyarrow.lib.DataType'>\n",
      "string <class 'pyarrow.lib.DataType'>\n",
      "binary <class 'pyarrow.lib.DataType'>\n",
      "fixed_size_binary[10] <class 'pyarrow.lib.FixedSizeBinaryType'>\n",
      "timestamp[ms] <class 'pyarrow.lib.TimestampType'>\n"
     ]
    }
   ],
   "source": [
    "for each in [pa.int32(), pa.string(), pa.binary(), pa.binary(10), pa.timestamp(\"ms\")]:\n",
    "    print(each, type(each))"
   ]
  },
  {
   "cell_type": "markdown",
   "id": "f654560f",
   "metadata": {},
   "source": [
    "We use the name logical type because the physical storage may be the same for one or more types. For example, int64, float64, and timestamp[ms] all occupy 64 bits per value."
   ]
  },
  {
   "cell_type": "markdown",
   "id": "548c188c",
   "metadata": {},
   "source": [
    "## pandas integration"
   ]
  },
  {
   "cell_type": "code",
   "execution_count": 25,
   "id": "9cda0157",
   "metadata": {},
   "outputs": [
    {
     "data": {
      "text/html": [
       "<div>\n",
       "<style scoped>\n",
       "    .dataframe tbody tr th:only-of-type {\n",
       "        vertical-align: middle;\n",
       "    }\n",
       "\n",
       "    .dataframe tbody tr th {\n",
       "        vertical-align: top;\n",
       "    }\n",
       "\n",
       "    .dataframe thead th {\n",
       "        text-align: right;\n",
       "    }\n",
       "</style>\n",
       "<table border=\"1\" class=\"dataframe\">\n",
       "  <thead>\n",
       "    <tr style=\"text-align: right;\">\n",
       "      <th></th>\n",
       "      <th>a</th>\n",
       "    </tr>\n",
       "  </thead>\n",
       "  <tbody>\n",
       "    <tr>\n",
       "      <th>0</th>\n",
       "      <td>1</td>\n",
       "    </tr>\n",
       "    <tr>\n",
       "      <th>1</th>\n",
       "      <td>2</td>\n",
       "    </tr>\n",
       "    <tr>\n",
       "      <th>2</th>\n",
       "      <td>3</td>\n",
       "    </tr>\n",
       "  </tbody>\n",
       "</table>\n",
       "</div>"
      ],
      "text/plain": [
       "   a\n",
       "0  1\n",
       "1  2\n",
       "2  3"
      ]
     },
     "execution_count": 25,
     "metadata": {},
     "output_type": "execute_result"
    }
   ],
   "source": [
    "import pyarrow as pa\n",
    "import pandas as pd\n",
    "\n",
    "df = pd.DataFrame({\"a\": [1, 2, 3]})\n",
    "df"
   ]
  },
  {
   "cell_type": "code",
   "execution_count": 26,
   "id": "52d29165",
   "metadata": {},
   "outputs": [
    {
     "data": {
      "text/plain": [
       "pyarrow.Table\n",
       "a: int64\n",
       "----\n",
       "a: [[1,2,3]]"
      ]
     },
     "execution_count": 26,
     "metadata": {},
     "output_type": "execute_result"
    }
   ],
   "source": [
    "# Convert from pandas to Arrow\n",
    "table = pa.Table.from_pandas(df)\n",
    "table"
   ]
  },
  {
   "cell_type": "code",
   "execution_count": 27,
   "id": "6242a26f",
   "metadata": {},
   "outputs": [
    {
     "data": {
      "text/html": [
       "<div>\n",
       "<style scoped>\n",
       "    .dataframe tbody tr th:only-of-type {\n",
       "        vertical-align: middle;\n",
       "    }\n",
       "\n",
       "    .dataframe tbody tr th {\n",
       "        vertical-align: top;\n",
       "    }\n",
       "\n",
       "    .dataframe thead th {\n",
       "        text-align: right;\n",
       "    }\n",
       "</style>\n",
       "<table border=\"1\" class=\"dataframe\">\n",
       "  <thead>\n",
       "    <tr style=\"text-align: right;\">\n",
       "      <th></th>\n",
       "      <th>a</th>\n",
       "    </tr>\n",
       "  </thead>\n",
       "  <tbody>\n",
       "    <tr>\n",
       "      <th>0</th>\n",
       "      <td>1</td>\n",
       "    </tr>\n",
       "    <tr>\n",
       "      <th>1</th>\n",
       "      <td>2</td>\n",
       "    </tr>\n",
       "    <tr>\n",
       "      <th>2</th>\n",
       "      <td>3</td>\n",
       "    </tr>\n",
       "  </tbody>\n",
       "</table>\n",
       "</div>"
      ],
      "text/plain": [
       "   a\n",
       "0  1\n",
       "1  2\n",
       "2  3"
      ]
     },
     "execution_count": 27,
     "metadata": {},
     "output_type": "execute_result"
    }
   ],
   "source": [
    "# Convert back to pandas\n",
    "df_new = table.to_pandas()\n",
    "df_new"
   ]
  },
  {
   "cell_type": "code",
   "execution_count": 28,
   "id": "e31ce73c",
   "metadata": {},
   "outputs": [
    {
     "data": {
      "text/plain": [
       "a: int64\n",
       "-- schema metadata --\n",
       "pandas: '{\"index_columns\": [{\"kind\": \"range\", \"name\": null, \"start\": 0, \"' + 357"
      ]
     },
     "execution_count": 28,
     "metadata": {},
     "output_type": "execute_result"
    }
   ],
   "source": [
    "# Infer Arrow schema from pandas\n",
    "schema = pa.Schema.from_pandas(df)\n",
    "schema"
   ]
  },
  {
   "cell_type": "markdown",
   "id": "41d2b9c2",
   "metadata": {},
   "source": [
    "By default pyarrow tries to preserve and restore the .index data as accurately as possible. "
   ]
  },
  {
   "cell_type": "markdown",
   "id": "d035961e",
   "metadata": {},
   "source": [
    "```\n",
    "pandas -> Arrow Conversion\n",
    "===========================\n",
    "\n",
    "------------------------------------------------\n",
    "Source Type (pandas)  | Destination Type (Arrow)\n",
    "------------------------------------------------\n",
    "bool                  | BOOL\n",
    "(u)int{8,16,32,64}    | (U)INT{8,16,32,64}\n",
    "float32               | FLOAT\n",
    "float64               | DOUBLE \n",
    "str/unicode           | STRING\n",
    "pd.Categorical        | DICTIONARY\n",
    "pd.Timestamp          | TIMESTAMP(unit=ns)\n",
    "datetime.date         | DATE\n",
    "datetime.time         | TIME64\n",
    "\n",
    "\n",
    "```"
   ]
  },
  {
   "cell_type": "code",
   "execution_count": null,
   "id": "3032bc71",
   "metadata": {},
   "outputs": [],
   "source": [
    ":"
   ]
  }
 ],
 "metadata": {
  "kernelspec": {
   "display_name": "Python 3 (ipykernel)",
   "language": "python",
   "name": "python3"
  },
  "language_info": {
   "codemirror_mode": {
    "name": "ipython",
    "version": 3
   },
   "file_extension": ".py",
   "mimetype": "text/x-python",
   "name": "python",
   "nbconvert_exporter": "python",
   "pygments_lexer": "ipython3",
   "version": "3.10.0"
  }
 },
 "nbformat": 4,
 "nbformat_minor": 5
}
